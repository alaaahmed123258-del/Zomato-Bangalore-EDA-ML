{
  "nbformat": 4,
  "nbformat_minor": 0,
  "metadata": {
    "colab": {
      "provenance": []
    },
    "kernelspec": {
      "name": "python3",
      "display_name": "Python 3"
    },
    "language_info": {
      "name": "python"
    }
  },
  "cells": [
    {
      "cell_type": "code",
      "execution_count": 84,
      "metadata": {
        "id": "-zMq28VOsTOQ"
      },
      "outputs": [],
      "source": [
        "import pandas as pd\n",
        "import numpy as np\n",
        "\n",
        "import matplotlib.pyplot as plt\n",
        "import seaborn as sns\n",
        "from sklearn.model_selection import GridSearchCV\n",
        "from tensorflow.keras.models import Sequential\n",
        "from tensorflow.keras.layers import Dense\n",
        "from tensorflow.keras.callbacks import EarlyStopping\n",
        "\n",
        "from sklearn.model_selection import train_test_split\n",
        "from sklearn.preprocessing import LabelEncoder, StandardScaler\n",
        "\n",
        "from sklearn.linear_model import LogisticRegression\n",
        "from sklearn.ensemble import RandomForestClassifier\n",
        "from xgboost import XGBClassifier\n",
        "from sklearn.svm import SVC\n",
        "\n",
        "from sklearn.metrics import accuracy_score, classification_report, confusion_matrix\n",
        "\n",
        "import joblib\n",
        "\n",
        "import tensorflow as tf\n",
        "from tensorflow.keras.utils import to_categorical\n",
        "from tensorflow.keras.models import Sequential\n",
        "from tensorflow.keras.layers import Dense, Dropout\n",
        "from sklearn.model_selection import train_test_split\n",
        "from sklearn.preprocessing import LabelEncoder, StandardScaler\n",
        "import pandas as pd\n",
        "import joblib\n",
        "from sklearn.linear_model import LogisticRegression\n",
        "from sklearn.metrics import accuracy_score\n",
        "from sklearn.model_selection import train_test_split\n",
        "from sklearn.preprocessing import LabelEncoder, StandardScaler\n",
        "from sklearn.pipeline import Pipeline\n",
        "from sklearn.metrics import accuracy_score\n",
        "from sklearn.metrics import precision_score, recall_score, f1_score, confusion_matrix, classification_report, accuracy_score\n",
        "from sklearn.model_selection import KFold, cross_val_score\n",
        "from tensorflow.keras.models import Sequential\n",
        "from tensorflow.keras.layers import Dense, Dropout\n",
        "from tensorflow.keras.optimizers import Adam\n",
        "from tensorflow.keras.callbacks import EarlyStopping\n",
        "from sklearn.preprocessing import StandardScaler\n",
        "scaler = StandardScaler()\n",
        "X_train = scaler.fit_transform(X_train)\n",
        "X_test = scaler.transform(X_test)\n",
        "\n",
        "from tensorflow.keras.layers import BatchNormalization"
      ]
    },
    {
      "cell_type": "code",
      "source": [
        "from google.colab import files\n",
        "files.upload()\n",
        "\n",
        "!mkdir -p ~/.kaggle\n",
        "!cp kaggle.json ~/.kaggle/\n",
        "!chmod 600 ~/.kaggle/kaggle.json\n",
        "\n",
        "!kaggle datasets download -d himanshupoddar/zomato-bangalore-restaurants\n",
        "\n",
        "!unzip dataset-name.zip -d dataset"
      ],
      "metadata": {
        "colab": {
          "base_uri": "https://localhost:8080/",
          "height": 142
        },
        "id": "e3SR0Vo8sagN",
        "outputId": "9d78100e-008a-4fce-c550-b77be3695172"
      },
      "execution_count": 26,
      "outputs": [
        {
          "output_type": "display_data",
          "data": {
            "text/plain": [
              "<IPython.core.display.HTML object>"
            ],
            "text/html": [
              "\n",
              "     <input type=\"file\" id=\"files-8e258bfc-90d3-478a-a65a-521c2e3ee605\" name=\"files[]\" multiple disabled\n",
              "        style=\"border:none\" />\n",
              "     <output id=\"result-8e258bfc-90d3-478a-a65a-521c2e3ee605\">\n",
              "      Upload widget is only available when the cell has been executed in the\n",
              "      current browser session. Please rerun this cell to enable.\n",
              "      </output>\n",
              "      <script>// Copyright 2017 Google LLC\n",
              "//\n",
              "// Licensed under the Apache License, Version 2.0 (the \"License\");\n",
              "// you may not use this file except in compliance with the License.\n",
              "// You may obtain a copy of the License at\n",
              "//\n",
              "//      http://www.apache.org/licenses/LICENSE-2.0\n",
              "//\n",
              "// Unless required by applicable law or agreed to in writing, software\n",
              "// distributed under the License is distributed on an \"AS IS\" BASIS,\n",
              "// WITHOUT WARRANTIES OR CONDITIONS OF ANY KIND, either express or implied.\n",
              "// See the License for the specific language governing permissions and\n",
              "// limitations under the License.\n",
              "\n",
              "/**\n",
              " * @fileoverview Helpers for google.colab Python module.\n",
              " */\n",
              "(function(scope) {\n",
              "function span(text, styleAttributes = {}) {\n",
              "  const element = document.createElement('span');\n",
              "  element.textContent = text;\n",
              "  for (const key of Object.keys(styleAttributes)) {\n",
              "    element.style[key] = styleAttributes[key];\n",
              "  }\n",
              "  return element;\n",
              "}\n",
              "\n",
              "// Max number of bytes which will be uploaded at a time.\n",
              "const MAX_PAYLOAD_SIZE = 100 * 1024;\n",
              "\n",
              "function _uploadFiles(inputId, outputId) {\n",
              "  const steps = uploadFilesStep(inputId, outputId);\n",
              "  const outputElement = document.getElementById(outputId);\n",
              "  // Cache steps on the outputElement to make it available for the next call\n",
              "  // to uploadFilesContinue from Python.\n",
              "  outputElement.steps = steps;\n",
              "\n",
              "  return _uploadFilesContinue(outputId);\n",
              "}\n",
              "\n",
              "// This is roughly an async generator (not supported in the browser yet),\n",
              "// where there are multiple asynchronous steps and the Python side is going\n",
              "// to poll for completion of each step.\n",
              "// This uses a Promise to block the python side on completion of each step,\n",
              "// then passes the result of the previous step as the input to the next step.\n",
              "function _uploadFilesContinue(outputId) {\n",
              "  const outputElement = document.getElementById(outputId);\n",
              "  const steps = outputElement.steps;\n",
              "\n",
              "  const next = steps.next(outputElement.lastPromiseValue);\n",
              "  return Promise.resolve(next.value.promise).then((value) => {\n",
              "    // Cache the last promise value to make it available to the next\n",
              "    // step of the generator.\n",
              "    outputElement.lastPromiseValue = value;\n",
              "    return next.value.response;\n",
              "  });\n",
              "}\n",
              "\n",
              "/**\n",
              " * Generator function which is called between each async step of the upload\n",
              " * process.\n",
              " * @param {string} inputId Element ID of the input file picker element.\n",
              " * @param {string} outputId Element ID of the output display.\n",
              " * @return {!Iterable<!Object>} Iterable of next steps.\n",
              " */\n",
              "function* uploadFilesStep(inputId, outputId) {\n",
              "  const inputElement = document.getElementById(inputId);\n",
              "  inputElement.disabled = false;\n",
              "\n",
              "  const outputElement = document.getElementById(outputId);\n",
              "  outputElement.innerHTML = '';\n",
              "\n",
              "  const pickedPromise = new Promise((resolve) => {\n",
              "    inputElement.addEventListener('change', (e) => {\n",
              "      resolve(e.target.files);\n",
              "    });\n",
              "  });\n",
              "\n",
              "  const cancel = document.createElement('button');\n",
              "  inputElement.parentElement.appendChild(cancel);\n",
              "  cancel.textContent = 'Cancel upload';\n",
              "  const cancelPromise = new Promise((resolve) => {\n",
              "    cancel.onclick = () => {\n",
              "      resolve(null);\n",
              "    };\n",
              "  });\n",
              "\n",
              "  // Wait for the user to pick the files.\n",
              "  const files = yield {\n",
              "    promise: Promise.race([pickedPromise, cancelPromise]),\n",
              "    response: {\n",
              "      action: 'starting',\n",
              "    }\n",
              "  };\n",
              "\n",
              "  cancel.remove();\n",
              "\n",
              "  // Disable the input element since further picks are not allowed.\n",
              "  inputElement.disabled = true;\n",
              "\n",
              "  if (!files) {\n",
              "    return {\n",
              "      response: {\n",
              "        action: 'complete',\n",
              "      }\n",
              "    };\n",
              "  }\n",
              "\n",
              "  for (const file of files) {\n",
              "    const li = document.createElement('li');\n",
              "    li.append(span(file.name, {fontWeight: 'bold'}));\n",
              "    li.append(span(\n",
              "        `(${file.type || 'n/a'}) - ${file.size} bytes, ` +\n",
              "        `last modified: ${\n",
              "            file.lastModifiedDate ? file.lastModifiedDate.toLocaleDateString() :\n",
              "                                    'n/a'} - `));\n",
              "    const percent = span('0% done');\n",
              "    li.appendChild(percent);\n",
              "\n",
              "    outputElement.appendChild(li);\n",
              "\n",
              "    const fileDataPromise = new Promise((resolve) => {\n",
              "      const reader = new FileReader();\n",
              "      reader.onload = (e) => {\n",
              "        resolve(e.target.result);\n",
              "      };\n",
              "      reader.readAsArrayBuffer(file);\n",
              "    });\n",
              "    // Wait for the data to be ready.\n",
              "    let fileData = yield {\n",
              "      promise: fileDataPromise,\n",
              "      response: {\n",
              "        action: 'continue',\n",
              "      }\n",
              "    };\n",
              "\n",
              "    // Use a chunked sending to avoid message size limits. See b/62115660.\n",
              "    let position = 0;\n",
              "    do {\n",
              "      const length = Math.min(fileData.byteLength - position, MAX_PAYLOAD_SIZE);\n",
              "      const chunk = new Uint8Array(fileData, position, length);\n",
              "      position += length;\n",
              "\n",
              "      const base64 = btoa(String.fromCharCode.apply(null, chunk));\n",
              "      yield {\n",
              "        response: {\n",
              "          action: 'append',\n",
              "          file: file.name,\n",
              "          data: base64,\n",
              "        },\n",
              "      };\n",
              "\n",
              "      let percentDone = fileData.byteLength === 0 ?\n",
              "          100 :\n",
              "          Math.round((position / fileData.byteLength) * 100);\n",
              "      percent.textContent = `${percentDone}% done`;\n",
              "\n",
              "    } while (position < fileData.byteLength);\n",
              "  }\n",
              "\n",
              "  // All done.\n",
              "  yield {\n",
              "    response: {\n",
              "      action: 'complete',\n",
              "    }\n",
              "  };\n",
              "}\n",
              "\n",
              "scope.google = scope.google || {};\n",
              "scope.google.colab = scope.google.colab || {};\n",
              "scope.google.colab._files = {\n",
              "  _uploadFiles,\n",
              "  _uploadFilesContinue,\n",
              "};\n",
              "})(self);\n",
              "</script> "
            ]
          },
          "metadata": {}
        },
        {
          "output_type": "stream",
          "name": "stdout",
          "text": [
            "Saving kaggle.json to kaggle (1).json\n",
            "Dataset URL: https://www.kaggle.com/datasets/himanshupoddar/zomato-bangalore-restaurants\n",
            "License(s): copyright-authors\n",
            "zomato-bangalore-restaurants.zip: Skipping, found more recently modified local copy (use --force to force download)\n",
            "unzip:  cannot find or open dataset-name.zip, dataset-name.zip.zip or dataset-name.zip.ZIP.\n"
          ]
        }
      ]
    },
    {
      "cell_type": "code",
      "source": [
        "df = pd.read_csv('/content/zomato-bangalore-restaurants.zip')"
      ],
      "metadata": {
        "id": "OXOpPiV4shhI"
      },
      "execution_count": 27,
      "outputs": []
    },
    {
      "cell_type": "code",
      "source": [
        "df.head()"
      ],
      "metadata": {
        "colab": {
          "base_uri": "https://localhost:8080/",
          "height": 608
        },
        "id": "W7X9ZyknsrHj",
        "outputId": "4c405aed-f059-4750-9b94-9f133a04f38a"
      },
      "execution_count": 28,
      "outputs": [
        {
          "output_type": "execute_result",
          "data": {
            "text/plain": [
              "                                                 url  \\\n",
              "0  https://www.zomato.com/bangalore/jalsa-banasha...   \n",
              "1  https://www.zomato.com/bangalore/spice-elephan...   \n",
              "2  https://www.zomato.com/SanchurroBangalore?cont...   \n",
              "3  https://www.zomato.com/bangalore/addhuri-udupi...   \n",
              "4  https://www.zomato.com/bangalore/grand-village...   \n",
              "\n",
              "                                             address                   name  \\\n",
              "0  942, 21st Main Road, 2nd Stage, Banashankari, ...                  Jalsa   \n",
              "1  2nd Floor, 80 Feet Road, Near Big Bazaar, 6th ...         Spice Elephant   \n",
              "2  1112, Next to KIMS Medical College, 17th Cross...        San Churro Cafe   \n",
              "3  1st Floor, Annakuteera, 3rd Stage, Banashankar...  Addhuri Udupi Bhojana   \n",
              "4  10, 3rd Floor, Lakshmi Associates, Gandhi Baza...          Grand Village   \n",
              "\n",
              "  online_order book_table   rate  votes                             phone  \\\n",
              "0          Yes        Yes  4.1/5    775    080 42297555\\r\\n+91 9743772233   \n",
              "1          Yes         No  4.1/5    787                      080 41714161   \n",
              "2          Yes         No  3.8/5    918                    +91 9663487993   \n",
              "3           No         No  3.7/5     88                    +91 9620009302   \n",
              "4           No         No  3.8/5    166  +91 8026612447\\r\\n+91 9901210005   \n",
              "\n",
              "       location            rest_type  \\\n",
              "0  Banashankari        Casual Dining   \n",
              "1  Banashankari        Casual Dining   \n",
              "2  Banashankari  Cafe, Casual Dining   \n",
              "3  Banashankari          Quick Bites   \n",
              "4  Basavanagudi        Casual Dining   \n",
              "\n",
              "                                          dish_liked  \\\n",
              "0  Pasta, Lunch Buffet, Masala Papad, Paneer Laja...   \n",
              "1  Momos, Lunch Buffet, Chocolate Nirvana, Thai G...   \n",
              "2  Churros, Cannelloni, Minestrone Soup, Hot Choc...   \n",
              "3                                        Masala Dosa   \n",
              "4                                Panipuri, Gol Gappe   \n",
              "\n",
              "                         cuisines approx_cost(for two people)  \\\n",
              "0  North Indian, Mughlai, Chinese                         800   \n",
              "1     Chinese, North Indian, Thai                         800   \n",
              "2          Cafe, Mexican, Italian                         800   \n",
              "3      South Indian, North Indian                         300   \n",
              "4        North Indian, Rajasthani                         600   \n",
              "\n",
              "                                        reviews_list menu_item  \\\n",
              "0  [('Rated 4.0', 'RATED\\n  A beautiful place to ...        []   \n",
              "1  [('Rated 4.0', 'RATED\\n  Had been here for din...        []   \n",
              "2  [('Rated 3.0', \"RATED\\n  Ambience is not that ...        []   \n",
              "3  [('Rated 4.0', \"RATED\\n  Great food and proper...        []   \n",
              "4  [('Rated 4.0', 'RATED\\n  Very good restaurant ...        []   \n",
              "\n",
              "  listed_in(type) listed_in(city)  \n",
              "0          Buffet    Banashankari  \n",
              "1          Buffet    Banashankari  \n",
              "2          Buffet    Banashankari  \n",
              "3          Buffet    Banashankari  \n",
              "4          Buffet    Banashankari  "
            ],
            "text/html": [
              "\n",
              "  <div id=\"df-3a3f86fa-3d29-4b6b-9d28-a655e020c554\" class=\"colab-df-container\">\n",
              "    <div>\n",
              "<style scoped>\n",
              "    .dataframe tbody tr th:only-of-type {\n",
              "        vertical-align: middle;\n",
              "    }\n",
              "\n",
              "    .dataframe tbody tr th {\n",
              "        vertical-align: top;\n",
              "    }\n",
              "\n",
              "    .dataframe thead th {\n",
              "        text-align: right;\n",
              "    }\n",
              "</style>\n",
              "<table border=\"1\" class=\"dataframe\">\n",
              "  <thead>\n",
              "    <tr style=\"text-align: right;\">\n",
              "      <th></th>\n",
              "      <th>url</th>\n",
              "      <th>address</th>\n",
              "      <th>name</th>\n",
              "      <th>online_order</th>\n",
              "      <th>book_table</th>\n",
              "      <th>rate</th>\n",
              "      <th>votes</th>\n",
              "      <th>phone</th>\n",
              "      <th>location</th>\n",
              "      <th>rest_type</th>\n",
              "      <th>dish_liked</th>\n",
              "      <th>cuisines</th>\n",
              "      <th>approx_cost(for two people)</th>\n",
              "      <th>reviews_list</th>\n",
              "      <th>menu_item</th>\n",
              "      <th>listed_in(type)</th>\n",
              "      <th>listed_in(city)</th>\n",
              "    </tr>\n",
              "  </thead>\n",
              "  <tbody>\n",
              "    <tr>\n",
              "      <th>0</th>\n",
              "      <td>https://www.zomato.com/bangalore/jalsa-banasha...</td>\n",
              "      <td>942, 21st Main Road, 2nd Stage, Banashankari, ...</td>\n",
              "      <td>Jalsa</td>\n",
              "      <td>Yes</td>\n",
              "      <td>Yes</td>\n",
              "      <td>4.1/5</td>\n",
              "      <td>775</td>\n",
              "      <td>080 42297555\\r\\n+91 9743772233</td>\n",
              "      <td>Banashankari</td>\n",
              "      <td>Casual Dining</td>\n",
              "      <td>Pasta, Lunch Buffet, Masala Papad, Paneer Laja...</td>\n",
              "      <td>North Indian, Mughlai, Chinese</td>\n",
              "      <td>800</td>\n",
              "      <td>[('Rated 4.0', 'RATED\\n  A beautiful place to ...</td>\n",
              "      <td>[]</td>\n",
              "      <td>Buffet</td>\n",
              "      <td>Banashankari</td>\n",
              "    </tr>\n",
              "    <tr>\n",
              "      <th>1</th>\n",
              "      <td>https://www.zomato.com/bangalore/spice-elephan...</td>\n",
              "      <td>2nd Floor, 80 Feet Road, Near Big Bazaar, 6th ...</td>\n",
              "      <td>Spice Elephant</td>\n",
              "      <td>Yes</td>\n",
              "      <td>No</td>\n",
              "      <td>4.1/5</td>\n",
              "      <td>787</td>\n",
              "      <td>080 41714161</td>\n",
              "      <td>Banashankari</td>\n",
              "      <td>Casual Dining</td>\n",
              "      <td>Momos, Lunch Buffet, Chocolate Nirvana, Thai G...</td>\n",
              "      <td>Chinese, North Indian, Thai</td>\n",
              "      <td>800</td>\n",
              "      <td>[('Rated 4.0', 'RATED\\n  Had been here for din...</td>\n",
              "      <td>[]</td>\n",
              "      <td>Buffet</td>\n",
              "      <td>Banashankari</td>\n",
              "    </tr>\n",
              "    <tr>\n",
              "      <th>2</th>\n",
              "      <td>https://www.zomato.com/SanchurroBangalore?cont...</td>\n",
              "      <td>1112, Next to KIMS Medical College, 17th Cross...</td>\n",
              "      <td>San Churro Cafe</td>\n",
              "      <td>Yes</td>\n",
              "      <td>No</td>\n",
              "      <td>3.8/5</td>\n",
              "      <td>918</td>\n",
              "      <td>+91 9663487993</td>\n",
              "      <td>Banashankari</td>\n",
              "      <td>Cafe, Casual Dining</td>\n",
              "      <td>Churros, Cannelloni, Minestrone Soup, Hot Choc...</td>\n",
              "      <td>Cafe, Mexican, Italian</td>\n",
              "      <td>800</td>\n",
              "      <td>[('Rated 3.0', \"RATED\\n  Ambience is not that ...</td>\n",
              "      <td>[]</td>\n",
              "      <td>Buffet</td>\n",
              "      <td>Banashankari</td>\n",
              "    </tr>\n",
              "    <tr>\n",
              "      <th>3</th>\n",
              "      <td>https://www.zomato.com/bangalore/addhuri-udupi...</td>\n",
              "      <td>1st Floor, Annakuteera, 3rd Stage, Banashankar...</td>\n",
              "      <td>Addhuri Udupi Bhojana</td>\n",
              "      <td>No</td>\n",
              "      <td>No</td>\n",
              "      <td>3.7/5</td>\n",
              "      <td>88</td>\n",
              "      <td>+91 9620009302</td>\n",
              "      <td>Banashankari</td>\n",
              "      <td>Quick Bites</td>\n",
              "      <td>Masala Dosa</td>\n",
              "      <td>South Indian, North Indian</td>\n",
              "      <td>300</td>\n",
              "      <td>[('Rated 4.0', \"RATED\\n  Great food and proper...</td>\n",
              "      <td>[]</td>\n",
              "      <td>Buffet</td>\n",
              "      <td>Banashankari</td>\n",
              "    </tr>\n",
              "    <tr>\n",
              "      <th>4</th>\n",
              "      <td>https://www.zomato.com/bangalore/grand-village...</td>\n",
              "      <td>10, 3rd Floor, Lakshmi Associates, Gandhi Baza...</td>\n",
              "      <td>Grand Village</td>\n",
              "      <td>No</td>\n",
              "      <td>No</td>\n",
              "      <td>3.8/5</td>\n",
              "      <td>166</td>\n",
              "      <td>+91 8026612447\\r\\n+91 9901210005</td>\n",
              "      <td>Basavanagudi</td>\n",
              "      <td>Casual Dining</td>\n",
              "      <td>Panipuri, Gol Gappe</td>\n",
              "      <td>North Indian, Rajasthani</td>\n",
              "      <td>600</td>\n",
              "      <td>[('Rated 4.0', 'RATED\\n  Very good restaurant ...</td>\n",
              "      <td>[]</td>\n",
              "      <td>Buffet</td>\n",
              "      <td>Banashankari</td>\n",
              "    </tr>\n",
              "  </tbody>\n",
              "</table>\n",
              "</div>\n",
              "    <div class=\"colab-df-buttons\">\n",
              "\n",
              "  <div class=\"colab-df-container\">\n",
              "    <button class=\"colab-df-convert\" onclick=\"convertToInteractive('df-3a3f86fa-3d29-4b6b-9d28-a655e020c554')\"\n",
              "            title=\"Convert this dataframe to an interactive table.\"\n",
              "            style=\"display:none;\">\n",
              "\n",
              "  <svg xmlns=\"http://www.w3.org/2000/svg\" height=\"24px\" viewBox=\"0 -960 960 960\">\n",
              "    <path d=\"M120-120v-720h720v720H120Zm60-500h600v-160H180v160Zm220 220h160v-160H400v160Zm0 220h160v-160H400v160ZM180-400h160v-160H180v160Zm440 0h160v-160H620v160ZM180-180h160v-160H180v160Zm440 0h160v-160H620v160Z\"/>\n",
              "  </svg>\n",
              "    </button>\n",
              "\n",
              "  <style>\n",
              "    .colab-df-container {\n",
              "      display:flex;\n",
              "      gap: 12px;\n",
              "    }\n",
              "\n",
              "    .colab-df-convert {\n",
              "      background-color: #E8F0FE;\n",
              "      border: none;\n",
              "      border-radius: 50%;\n",
              "      cursor: pointer;\n",
              "      display: none;\n",
              "      fill: #1967D2;\n",
              "      height: 32px;\n",
              "      padding: 0 0 0 0;\n",
              "      width: 32px;\n",
              "    }\n",
              "\n",
              "    .colab-df-convert:hover {\n",
              "      background-color: #E2EBFA;\n",
              "      box-shadow: 0px 1px 2px rgba(60, 64, 67, 0.3), 0px 1px 3px 1px rgba(60, 64, 67, 0.15);\n",
              "      fill: #174EA6;\n",
              "    }\n",
              "\n",
              "    .colab-df-buttons div {\n",
              "      margin-bottom: 4px;\n",
              "    }\n",
              "\n",
              "    [theme=dark] .colab-df-convert {\n",
              "      background-color: #3B4455;\n",
              "      fill: #D2E3FC;\n",
              "    }\n",
              "\n",
              "    [theme=dark] .colab-df-convert:hover {\n",
              "      background-color: #434B5C;\n",
              "      box-shadow: 0px 1px 3px 1px rgba(0, 0, 0, 0.15);\n",
              "      filter: drop-shadow(0px 1px 2px rgba(0, 0, 0, 0.3));\n",
              "      fill: #FFFFFF;\n",
              "    }\n",
              "  </style>\n",
              "\n",
              "    <script>\n",
              "      const buttonEl =\n",
              "        document.querySelector('#df-3a3f86fa-3d29-4b6b-9d28-a655e020c554 button.colab-df-convert');\n",
              "      buttonEl.style.display =\n",
              "        google.colab.kernel.accessAllowed ? 'block' : 'none';\n",
              "\n",
              "      async function convertToInteractive(key) {\n",
              "        const element = document.querySelector('#df-3a3f86fa-3d29-4b6b-9d28-a655e020c554');\n",
              "        const dataTable =\n",
              "          await google.colab.kernel.invokeFunction('convertToInteractive',\n",
              "                                                    [key], {});\n",
              "        if (!dataTable) return;\n",
              "\n",
              "        const docLinkHtml = 'Like what you see? Visit the ' +\n",
              "          '<a target=\"_blank\" href=https://colab.research.google.com/notebooks/data_table.ipynb>data table notebook</a>'\n",
              "          + ' to learn more about interactive tables.';\n",
              "        element.innerHTML = '';\n",
              "        dataTable['output_type'] = 'display_data';\n",
              "        await google.colab.output.renderOutput(dataTable, element);\n",
              "        const docLink = document.createElement('div');\n",
              "        docLink.innerHTML = docLinkHtml;\n",
              "        element.appendChild(docLink);\n",
              "      }\n",
              "    </script>\n",
              "  </div>\n",
              "\n",
              "\n",
              "    <div id=\"df-5b971215-b5e5-4329-b1ef-f6d71a2a6ee2\">\n",
              "      <button class=\"colab-df-quickchart\" onclick=\"quickchart('df-5b971215-b5e5-4329-b1ef-f6d71a2a6ee2')\"\n",
              "                title=\"Suggest charts\"\n",
              "                style=\"display:none;\">\n",
              "\n",
              "<svg xmlns=\"http://www.w3.org/2000/svg\" height=\"24px\"viewBox=\"0 0 24 24\"\n",
              "     width=\"24px\">\n",
              "    <g>\n",
              "        <path d=\"M19 3H5c-1.1 0-2 .9-2 2v14c0 1.1.9 2 2 2h14c1.1 0 2-.9 2-2V5c0-1.1-.9-2-2-2zM9 17H7v-7h2v7zm4 0h-2V7h2v10zm4 0h-2v-4h2v4z\"/>\n",
              "    </g>\n",
              "</svg>\n",
              "      </button>\n",
              "\n",
              "<style>\n",
              "  .colab-df-quickchart {\n",
              "      --bg-color: #E8F0FE;\n",
              "      --fill-color: #1967D2;\n",
              "      --hover-bg-color: #E2EBFA;\n",
              "      --hover-fill-color: #174EA6;\n",
              "      --disabled-fill-color: #AAA;\n",
              "      --disabled-bg-color: #DDD;\n",
              "  }\n",
              "\n",
              "  [theme=dark] .colab-df-quickchart {\n",
              "      --bg-color: #3B4455;\n",
              "      --fill-color: #D2E3FC;\n",
              "      --hover-bg-color: #434B5C;\n",
              "      --hover-fill-color: #FFFFFF;\n",
              "      --disabled-bg-color: #3B4455;\n",
              "      --disabled-fill-color: #666;\n",
              "  }\n",
              "\n",
              "  .colab-df-quickchart {\n",
              "    background-color: var(--bg-color);\n",
              "    border: none;\n",
              "    border-radius: 50%;\n",
              "    cursor: pointer;\n",
              "    display: none;\n",
              "    fill: var(--fill-color);\n",
              "    height: 32px;\n",
              "    padding: 0;\n",
              "    width: 32px;\n",
              "  }\n",
              "\n",
              "  .colab-df-quickchart:hover {\n",
              "    background-color: var(--hover-bg-color);\n",
              "    box-shadow: 0 1px 2px rgba(60, 64, 67, 0.3), 0 1px 3px 1px rgba(60, 64, 67, 0.15);\n",
              "    fill: var(--button-hover-fill-color);\n",
              "  }\n",
              "\n",
              "  .colab-df-quickchart-complete:disabled,\n",
              "  .colab-df-quickchart-complete:disabled:hover {\n",
              "    background-color: var(--disabled-bg-color);\n",
              "    fill: var(--disabled-fill-color);\n",
              "    box-shadow: none;\n",
              "  }\n",
              "\n",
              "  .colab-df-spinner {\n",
              "    border: 2px solid var(--fill-color);\n",
              "    border-color: transparent;\n",
              "    border-bottom-color: var(--fill-color);\n",
              "    animation:\n",
              "      spin 1s steps(1) infinite;\n",
              "  }\n",
              "\n",
              "  @keyframes spin {\n",
              "    0% {\n",
              "      border-color: transparent;\n",
              "      border-bottom-color: var(--fill-color);\n",
              "      border-left-color: var(--fill-color);\n",
              "    }\n",
              "    20% {\n",
              "      border-color: transparent;\n",
              "      border-left-color: var(--fill-color);\n",
              "      border-top-color: var(--fill-color);\n",
              "    }\n",
              "    30% {\n",
              "      border-color: transparent;\n",
              "      border-left-color: var(--fill-color);\n",
              "      border-top-color: var(--fill-color);\n",
              "      border-right-color: var(--fill-color);\n",
              "    }\n",
              "    40% {\n",
              "      border-color: transparent;\n",
              "      border-right-color: var(--fill-color);\n",
              "      border-top-color: var(--fill-color);\n",
              "    }\n",
              "    60% {\n",
              "      border-color: transparent;\n",
              "      border-right-color: var(--fill-color);\n",
              "    }\n",
              "    80% {\n",
              "      border-color: transparent;\n",
              "      border-right-color: var(--fill-color);\n",
              "      border-bottom-color: var(--fill-color);\n",
              "    }\n",
              "    90% {\n",
              "      border-color: transparent;\n",
              "      border-bottom-color: var(--fill-color);\n",
              "    }\n",
              "  }\n",
              "</style>\n",
              "\n",
              "      <script>\n",
              "        async function quickchart(key) {\n",
              "          const quickchartButtonEl =\n",
              "            document.querySelector('#' + key + ' button');\n",
              "          quickchartButtonEl.disabled = true;  // To prevent multiple clicks.\n",
              "          quickchartButtonEl.classList.add('colab-df-spinner');\n",
              "          try {\n",
              "            const charts = await google.colab.kernel.invokeFunction(\n",
              "                'suggestCharts', [key], {});\n",
              "          } catch (error) {\n",
              "            console.error('Error during call to suggestCharts:', error);\n",
              "          }\n",
              "          quickchartButtonEl.classList.remove('colab-df-spinner');\n",
              "          quickchartButtonEl.classList.add('colab-df-quickchart-complete');\n",
              "        }\n",
              "        (() => {\n",
              "          let quickchartButtonEl =\n",
              "            document.querySelector('#df-5b971215-b5e5-4329-b1ef-f6d71a2a6ee2 button');\n",
              "          quickchartButtonEl.style.display =\n",
              "            google.colab.kernel.accessAllowed ? 'block' : 'none';\n",
              "        })();\n",
              "      </script>\n",
              "    </div>\n",
              "\n",
              "    </div>\n",
              "  </div>\n"
            ],
            "application/vnd.google.colaboratory.intrinsic+json": {
              "type": "dataframe",
              "variable_name": "df",
              "summary": "{\n  \"name\": \"df\",\n  \"rows\": 51717,\n  \"fields\": [\n    {\n      \"column\": \"url\",\n      \"properties\": {\n        \"dtype\": \"string\",\n        \"num_unique_values\": 51717,\n        \"samples\": [\n          \"https://www.zomato.com/bangalore/kalingas-btm?context=eyJzZSI6eyJlIjpbIjE4NzY5Njc1IiwiMTg4MDE0MTUiLCI1MzAxNSIsIjE4Nzk3OTMyIiw1ODgyOCwiMTg4NDgyOTUiLCI2MTM4MSIsIjE4NzE0NTMzIiwiNTE4MjgiLCIxODkxOTQzNiIsIjE4MzQ2MzQxIiwiMTgyNTQ1NjgiLCIxODI5ODIzOCIsIjUwMDMxIiwiMTg1MjI3MDQiLCIxODcxODM4NyIsIjE4NDc2NDUxIiwiNjAxMjQiXSwidCI6IkRlbGl2ZXJ5IFJlc3RhdXJhbnRzIGluIEJUTSJ9fQ==\",\n          \"https://www.zomato.com/bangalore/angel-restaurant-bannerghatta-road?context=eyJzZSI6eyJlIjpbIjE4ODgzNjIwIiwiMTg2MjI0MTYiLCIxODcyNzQxOCIsIjU4NjA0IiwxODYwNDY4OCwiMTg2NDM3OTYiLCIxODY5MzMxNCIsIjE4NjU0Mzc2IiwiMTg2NjIyNzEiLCIxODY1NDY5NSIsIjE4NjYzNjk4IiwiMTg2NTE4NDUiLCIxODk2MzUxMCIsIjE4OTY1MjEzIiwiMTg5NjI3OTkiLCIxODk2NTg0NiJdLCJ0IjoiRGluZS1PdXQgUmVzdGF1cmFudHMgaW4gSlAgTmFnYXIifX0=\",\n          \"https://www.zomato.com/bangalore/cafe-talkhouse-hsr-bangalore?context=eyJzZSI6eyJlIjpbIjE4ODA2NzczIiwiMTg4MDY4NDEiLCIxODgwNjgwOCIsIjE4ODA3OTQ3IiwxODc5MzM1OSwiMTg3OTM0MDIiLCIxODgwMTQ0NiIsIjE4ODAyODI0IiwiMTg4MDEwMzgiLCIxODc4NTQ1NyIsIjE4ODg0MTUyIiwiMTg4NzQzMDMiLCIxODg4MTMxNSIsIjE4ODc3NzU4IiwiMTg4ODUxNTAiXSwidCI6IkRlbGl2ZXJ5IFJlc3RhdXJhbnRzIGluIEhTUiJ9fQ==\"\n        ],\n        \"semantic_type\": \"\",\n        \"description\": \"\"\n      }\n    },\n    {\n      \"column\": \"address\",\n      \"properties\": {\n        \"dtype\": \"category\",\n        \"num_unique_values\": 11495,\n        \"samples\": [\n          \"Sampige Nagar Bus Stop, Huskur Gate, Electronic City, Bangalore\",\n          \"12th Main, Koramangala 4th Block, Bangalore\",\n          \"30, 2nd Main Road, Jai Bheema Nagar, Sheshadripuram, Bangalore\"\n        ],\n        \"semantic_type\": \"\",\n        \"description\": \"\"\n      }\n    },\n    {\n      \"column\": \"name\",\n      \"properties\": {\n        \"dtype\": \"category\",\n        \"num_unique_values\": 8792,\n        \"samples\": [\n          \"Calcutta North Indian Meals\",\n          \"Parinitha Biryani Corner\",\n          \"Tiwari's\"\n        ],\n        \"semantic_type\": \"\",\n        \"description\": \"\"\n      }\n    },\n    {\n      \"column\": \"online_order\",\n      \"properties\": {\n        \"dtype\": \"category\",\n        \"num_unique_values\": 2,\n        \"samples\": [\n          \"No\",\n          \"Yes\"\n        ],\n        \"semantic_type\": \"\",\n        \"description\": \"\"\n      }\n    },\n    {\n      \"column\": \"book_table\",\n      \"properties\": {\n        \"dtype\": \"category\",\n        \"num_unique_values\": 2,\n        \"samples\": [\n          \"No\",\n          \"Yes\"\n        ],\n        \"semantic_type\": \"\",\n        \"description\": \"\"\n      }\n    },\n    {\n      \"column\": \"rate\",\n      \"properties\": {\n        \"dtype\": \"category\",\n        \"num_unique_values\": 64,\n        \"samples\": [\n          \"1.8/5\",\n          \"4.7 /5\"\n        ],\n        \"semantic_type\": \"\",\n        \"description\": \"\"\n      }\n    },\n    {\n      \"column\": \"votes\",\n      \"properties\": {\n        \"dtype\": \"number\",\n        \"std\": 803,\n        \"min\": 0,\n        \"max\": 16832,\n        \"num_unique_values\": 2328,\n        \"samples\": [\n          1807,\n          2392\n        ],\n        \"semantic_type\": \"\",\n        \"description\": \"\"\n      }\n    },\n    {\n      \"column\": \"phone\",\n      \"properties\": {\n        \"dtype\": \"category\",\n        \"num_unique_values\": 14926,\n        \"samples\": [\n          \"+91 8147721407\\n+91 9008485177\",\n          \"+91 8040982050\"\n        ],\n        \"semantic_type\": \"\",\n        \"description\": \"\"\n      }\n    },\n    {\n      \"column\": \"location\",\n      \"properties\": {\n        \"dtype\": \"category\",\n        \"num_unique_values\": 93,\n        \"samples\": [\n          \"Church Street\",\n          \"Shanti Nagar\"\n        ],\n        \"semantic_type\": \"\",\n        \"description\": \"\"\n      }\n    },\n    {\n      \"column\": \"rest_type\",\n      \"properties\": {\n        \"dtype\": \"category\",\n        \"num_unique_values\": 93,\n        \"samples\": [\n          \"Quick Bites, Sweet Shop\",\n          \"Bakery, Quick Bites\"\n        ],\n        \"semantic_type\": \"\",\n        \"description\": \"\"\n      }\n    },\n    {\n      \"column\": \"dish_liked\",\n      \"properties\": {\n        \"dtype\": \"category\",\n        \"num_unique_values\": 5271,\n        \"samples\": [\n          \"Waffles, Pasta, Coleslaw Sandwich, Choco Waffle, Tacos, Momos, Cheese Nachos\",\n          \"Pasta, Garlic Bread, Wedges, Veg Supreme Pizza, Pane Pizza, Masala Lemonade, Salads\"\n        ],\n        \"semantic_type\": \"\",\n        \"description\": \"\"\n      }\n    },\n    {\n      \"column\": \"cuisines\",\n      \"properties\": {\n        \"dtype\": \"category\",\n        \"num_unique_values\": 2723,\n        \"samples\": [\n          \"North Indian, Chinese, Andhra, Biryani\",\n          \"Biryani, Chinese\"\n        ],\n        \"semantic_type\": \"\",\n        \"description\": \"\"\n      }\n    },\n    {\n      \"column\": \"approx_cost(for two people)\",\n      \"properties\": {\n        \"dtype\": \"category\",\n        \"num_unique_values\": 70,\n        \"samples\": [\n          \"199\",\n          \"800\"\n        ],\n        \"semantic_type\": \"\",\n        \"description\": \"\"\n      }\n    },\n    {\n      \"column\": \"reviews_list\",\n      \"properties\": {\n        \"dtype\": \"category\",\n        \"num_unique_values\": 22513,\n        \"samples\": [\n          \"[('Rated 2.0', 'RATED\\\\n  A small tiny place where the manager and the Stuarts are not aware of what is available in the kitchen. They keep checking with the chefs. Was disappointed so had to leave the place.'), ('Rated 3.0', \\\"RATED\\\\n  Would rate this place a 3.5.\\\\nThis place is not difficult to find. Our craving to have sizzlers, & thanks to zomato gold, we landed here.\\\\nAmbience is decent. Staff is polite.\\\\nWe ordered Triple Berry Mocktail , Tex Mex Chicken Sizzler & Mixed Grill Sizzler.\\\\nTriple Berry was way too sweet.\\\\nTex Mex came with BBQ sauce that was supposed to be tangy but was kind of sweet. This was the recommended dish by the staff, hence we were bit disappointed.\\\\nThe only dish which was satisfying was the mix grill which had lamb, chicken, egg & fish.\\\\n\\\\nLastly they do put an extra service charge on top of GST. However they don't mention this when giving the bill. When we checked the bill & asked them, they told it's not mandatory to pay the Service Charge, its up to the customer. Personally, I don't think it's fair to sneak in the service charge & not inform the customer in the first place.\\\\nAnyways, overall a decent experience but unlikely to visit again.\\\"), ('Rated 3.0', 'RATED\\\\n  Cozy place but highly short on staff. Service is slow. Sizzler was decent. Decent experience but disappointed in terms of serving time.\\\\nAmbience-2.5/5\\\\nFood-3/5\\\\nService-2.5/5'), ('Rated 3.0', 'RATED\\\\n  This place has a great ambience, but the food is average. The food they served us became cold real soon, but the staff were courteous Enough to replace it.'), ('Rated 1.0', 'RATED\\\\n  I was a regular customer but this very recent time, I had gone there for dinner - they had nothing only soups, desserts, drinks and a very few starters.\\\\nWe took the tomato basil soup which was like tomato puree which came with the tomato peel.\\\\nAnd we ordered garlic bread since nothing was available, and it was very okayish about 3/5. So overall a very very bad recent experience as the service also has become extremely slow. They took 40 mins to get the garlic bread.'), ('Rated 2.0', 'RATED\\\\n  Surprisingly as the name suggests, Sizzlers were not upto the mark. We\\\\'ve ordered Classic Beef Sizzler and Pesto Pasta Sizzler out of which none was that delicious. We\\\\'ve also ordered BBQ Chicken Steak and a beef steak, totally delicious and enjoyed well. Also a \\\"Pink Floyd\\\" which was watermelon based drink was also delightful to drink, rather expensive. Ambience was okay but the service was utterly late (~40 mins) which totally kills out everything.'), ('Rated 3.0', 'RATED\\\\n  took wayyyyyyy to long for food to come.. took precisely 45mins for one order and 55 mins for 2nd order to be served... whoever want to visit here pls have atleast 60mins time in hand so that u dnt sit there feeling hungry. the food is good. We took a tex mex sizzler and a bbq chicken sizzler ... both tasted yumm... but the long wait was too much. we saw people going up to the waiters like 3-4 time to know about time for their order to be served. I dunno if I would want to visit this place again...'), ('Rated 5.0', \\\"RATED\\\\n  I have been to this place a couple of times and this is my favourite sizzler place in Bangalore! I've tried most of the items on their menu, appetizers, sizzlers, and drinks. I love the Frachos and the Manchurian sizzler in particular. The sizzling brownie is definitely my all time favourite dessert. The staff has been courteous on all occasions and the service has been fast. The quality of food has remained the same through last couple of years. Definitely check this place out if a good sizzler is what you're looking for!\\\"), ('Rated 3.0', 'RATED\\\\n  A nice place for some simple Sizzlers. Mr Pemba, who attended us was v courteous n helpful. Good work. The place was pretty hot inside. May be they could work on the ventilation.'), ('Rated 4.0', 'RATED\\\\n  As the name says the place was filled with smoke the moment we entered.... Food was tasty and a lot of options to choose from... Quality was perfect neither less nor too heavy... Staff was helpful in making choice... Happy enjoying smoke sizzler...'), ('Rated 1.0', 'RATED\\\\n  One of the worst experience. Visited with 3 of my friends late night around 9.30pm staff took my gold id after 20 mins comes and says we can\\\\'t serve you as \\\"Chef is not in the mood to cook\\\" this was the sentence used.\\\\n\\\\n45 mins later they served worst uncooked items and we saw 3 tables completing on the service and worst food.\\\\n\\\\nNever ever go this place'), ('Rated 1.0', \\\"RATED\\\\n  Well few reasons why I didn't like the place.\\\\n\\\\n1)Food took a long time to come, almost half an hour in a fairly empty restaurant.\\\\n\\\\n2) We ordered barbeque stuffed chicken and Mac and cheese chicken sizzler. The barbeque sauce was too sweet. The sizzler was not that great.\\\\n\\\\n3) A simple lime soda costs 200 bucks! That was not even soda,that was water.\\\\n\\\\n4) Nothing to boast about the ambience as well.\\\"), ('Rated 5.0', \\\"RATED\\\\n  If you're willing to stuff yourself upto the point where you can't walk, Go to smoke!\\\\nBecause the food tastes so good you wouldn't want to leave behind even the last bite!\\\\nDo try the Sizzling Mexicana, Shashlik Sizzler if you love spice. The sizzling mexicana comes with a cheese patty is the most right combination that makes you doubt you're own marriage. However, if you don't mind something sweet, the barbecue sizzler with paneer can add sweetness to your life with every bite. I'd suggest you to split this with a pal.\\\\nThe calfornian pizza is one of the best pizza's I've had honestly. It's rich in flavor and brings happiness to your heart. I wouldn't recommend the cheesecake, that is something they have to improve on.\\\\nIt's Affordable and for 3 sizzlers, one pizza, 2 zomato gold the bill came upto just 600. A good, stuffing and easy on the pocket meal is all I want every day!\\\"), ('Rated 4.0', 'RATED\\\\n  Need to wine and dine ? Head to smoke to satisfy both with delicious sizzlers to munch on.\\\\n\\\\nQuantity of the sizzlers are good and they taste good too. 1 sizzler is good enough for one person.\\\\n\\\\nThe staff is really nice and they offer twists on the wines.\\\\n\\\\nAmbience is a mildly authentic and has a very lit up feel.\\\\n\\\\nYou might have a little bit of wait time on the sizzlers but the rest of the food comes pretty quick.\\\\n\\\\nMust visit if you are craving for some sizzlers!'), ('Rated 5.0', \\\"RATED\\\\n  The food is really good and tasty.....The service is really impressive plus the way they represent the food. Should try out Buffalo Wings and Sizzler's. The cost is reasonable not that expensive. Recommend place for Steaks.\\\"), ('Rated 3.0', 'RATED\\\\n  Went their for Zomato gold. Tried Manchurian sizzler with rice and cheese garlic bread. Loved the cheese garlic bread which is served with salsa which tasted good. But the sizzler wasn\\u00c3\\u0083\\\\x83\\u00c3\\u0082\\\\x83\\u00c3\\u0083\\\\x82\\u00c3\\u0082\\\\x83\\u00c3\\u0083\\\\x83\\u00c3\\u0082\\\\x82\\u00c3\\u0083\\\\x82\\u00c3\\u0082\\u00c2\\u00a2\\u00c3\\u0083\\\\x83\\u00c3\\u0082\\\\x83\\u00c3\\u0083\\\\x82\\u00c3\\u0082\\\\x82\\u00c3\\u0083\\\\x83\\u00c3\\u0082\\\\x82\\u00c3\\u0083\\\\x82\\u00c3\\u0082\\\\x80\\u00c3\\u0083\\\\x83\\u00c3\\u0082\\\\x83\\u00c3\\u0083\\\\x82\\u00c3\\u0082\\\\x82\\u00c3\\u0083\\\\x83\\u00c3\\u0082\\\\x82\\u00c3\\u0083\\\\x82\\u00c3\\u0082\\\\x99t that great. Service and ambience was good. Can Visit once.'), ('Rated 3.0', \\\"RATED\\\\n  They have a wide range of vegetarian sizzlers, so, in case you are a vegetarian, do not be upset. We tried Manchurian and Schezwan Sizzlers. Both were cooked but I must point out that the Manchurian balls needed a little more cooking as they were gooey inside and tasted weird. Service is prompt and the place is great, if you want to hang out with friends.\\\\n\\\\nFood (taste) - 3/5\\\\nValue for money - 3/5\\\\nService- 3/5\\\\nAmbiance - 3/5\\\\nOn my 'Visit Again' list - Maybe\\\"), ('Rated 4.0', \\\"RATED\\\\n  Quietly surprised by the service and the taste...if u are bored by visiting Kobe sizzler..I mean the same place...u can definitely give this play a try...food is at par with Kobe's...ove the shashilk and the pasta sizzlers...overall will do come 2 this place again\\\"), ('Rated 4.0', 'RATED\\\\n  Need to wine and dine ? Head to smoke to satisfy both with delicious sizzlers to munch on.\\\\n\\\\nQuantity of the sizzlers are good and they taste good too. 1 sizzler is good enough for one person.\\\\n\\\\nThe staff is really nice and they offer twists on the wines.\\\\n\\\\nAmbience is a mildly authentic and has a very lit up feel.\\\\n\\\\nYou might have a little bit of wait time on the sizzlers but the rest of the food comes pretty quick.\\\\n\\\\nMust visit if you are craving for some sizzlers!'), ('Rated 5.0', \\\"RATED\\\\n  The food is really good and tasty.....The service is really impressive plus the way they represent the food. Should try out Buffalo Wings and Sizzler's. The cost is reasonable not that expensive. Recommend place for Steaks.\\\"), ('Rated 3.0', 'RATED\\\\n  Went their for Zomato gold. Tried Manchurian sizzler with rice and cheese garlic bread. Loved the cheese garlic bread which is served with salsa which tasted good. But the sizzler wasn\\u00c3\\u0083\\\\x83\\u00c3\\u0082\\\\x83\\u00c3\\u0083\\\\x82\\u00c3\\u0082\\\\x83\\u00c3\\u0083\\\\x83\\u00c3\\u0082\\\\x82\\u00c3\\u0083\\\\x82\\u00c3\\u0082\\u00c2\\u00a2\\u00c3\\u0083\\\\x83\\u00c3\\u0082\\\\x83\\u00c3\\u0083\\\\x82\\u00c3\\u0082\\\\x82\\u00c3\\u0083\\\\x83\\u00c3\\u0082\\\\x82\\u00c3\\u0083\\\\x82\\u00c3\\u0082\\\\x80\\u00c3\\u0083\\\\x83\\u00c3\\u0082\\\\x83\\u00c3\\u0083\\\\x82\\u00c3\\u0082\\\\x82\\u00c3\\u0083\\\\x83\\u00c3\\u0082\\\\x82\\u00c3\\u0083\\\\x82\\u00c3\\u0082\\\\x99t that great. Service and ambience was good. Can Visit once.'), ('Rated 3.0', \\\"RATED\\\\n  They have a wide range of vegetarian sizzlers, so, in case you are a vegetarian, do not be upset. We tried Manchurian and Schezwan Sizzlers. Both were cooked but I must point out that the Manchurian balls needed a little more cooking as they were gooey inside and tasted weird. Service is prompt and the place is great, if you want to hang out with friends.\\\\n\\\\nFood (taste) - 3/5\\\\nValue for money - 3/5\\\\nService- 3/5\\\\nAmbiance - 3/5\\\\nOn my 'Visit Again' list - Maybe\\\"), ('Rated 4.0', \\\"RATED\\\\n  Quietly surprised by the service and the taste...if u are bored by visiting Kobe sizzler..I mean the same place...u can definitely give this play a try...food is at par with Kobe's...ove the shashilk and the pasta sizzlers...overall will do come 2 this place again\\\"), ('Rated 4.0', 'RATED\\\\n  Need to wine and dine ? Head to smoke to satisfy both with delicious sizzlers to munch on.\\\\n\\\\nQuantity of the sizzlers are good and they taste good too. 1 sizzler is good enough for one person.\\\\n\\\\nThe staff is really nice and they offer twists on the wines.\\\\n\\\\nAmbience is a mildly authentic and has a very lit up feel.\\\\n\\\\nYou might have a little bit of wait time on the sizzlers but the rest of the food comes pretty quick.\\\\n\\\\nMust visit if you are craving for some sizzlers!'), ('Rated 5.0', \\\"RATED\\\\n  The food is really good and tasty.....The service is really impressive plus the way they represent the food. Should try out Buffalo Wings and Sizzler's. The cost is reasonable not that expensive. Recommend place for Steaks.\\\"), ('Rated 3.0', 'RATED\\\\n  Went their for Zomato gold. Tried Manchurian sizzler with rice and cheese garlic bread. Loved the cheese garlic bread which is served with salsa which tasted good. But the sizzler wasn\\u00c3\\u0083\\\\x83\\u00c3\\u0082\\\\x83\\u00c3\\u0083\\\\x82\\u00c3\\u0082\\\\x83\\u00c3\\u0083\\\\x83\\u00c3\\u0082\\\\x82\\u00c3\\u0083\\\\x82\\u00c3\\u0082\\u00c2\\u00a2\\u00c3\\u0083\\\\x83\\u00c3\\u0082\\\\x83\\u00c3\\u0083\\\\x82\\u00c3\\u0082\\\\x82\\u00c3\\u0083\\\\x83\\u00c3\\u0082\\\\x82\\u00c3\\u0083\\\\x82\\u00c3\\u0082\\\\x80\\u00c3\\u0083\\\\x83\\u00c3\\u0082\\\\x83\\u00c3\\u0083\\\\x82\\u00c3\\u0082\\\\x82\\u00c3\\u0083\\\\x83\\u00c3\\u0082\\\\x82\\u00c3\\u0083\\\\x82\\u00c3\\u0082\\\\x99t that great. Service and ambience was good. Can Visit once.'), ('Rated 3.0', \\\"RATED\\\\n  They have a wide range of vegetarian sizzlers, so, in case you are a vegetarian, do not be upset. We tried Manchurian and Schezwan Sizzlers. Both were cooked but I must point out that the Manchurian balls needed a little more cooking as they were gooey inside and tasted weird. Service is prompt and the place is great, if you want to hang out with friends.\\\\n\\\\nFood (taste) - 3/5\\\\nValue for money - 3/5\\\\nService- 3/5\\\\nAmbiance - 3/5\\\\nOn my 'Visit Again' list - Maybe\\\"), ('Rated 4.0', \\\"RATED\\\\n  Quietly surprised by the service and the taste...if u are bored by visiting Kobe sizzler..I mean the same place...u can definitely give this play a try...food is at par with Kobe's...ove the shashilk and the pasta sizzlers...overall will do come 2 this place again\\\"), ('Rated 4.0', 'RATED\\\\n  Need to wine and dine ? Head to smoke to satisfy both with delicious sizzlers to munch on.\\\\n\\\\nQuantity of the sizzlers are good and they taste good too. 1 sizzler is good enough for one person.\\\\n\\\\nThe staff is really nice and they offer twists on the wines.\\\\n\\\\nAmbience is a mildly authentic and has a very lit up feel.\\\\n\\\\nYou might have a little bit of wait time on the sizzlers but the rest of the food comes pretty quick.\\\\n\\\\nMust visit if you are craving for some sizzlers!'), ('Rated 5.0', \\\"RATED\\\\n  The food is really good and tasty.....The service is really impressive plus the way they represent the food. Should try out Buffalo Wings and Sizzler's. The cost is reasonable not that expensive. Recommend place for Steaks.\\\"), ('Rated 3.0', 'RATED\\\\n  Went their for Zomato gold. Tried Manchurian sizzler with rice and cheese garlic bread. Loved the cheese garlic bread which is served with salsa which tasted good. But the sizzler wasn\\u00c3\\u0083\\\\x83\\u00c3\\u0082\\\\x83\\u00c3\\u0083\\\\x82\\u00c3\\u0082\\\\x83\\u00c3\\u0083\\\\x83\\u00c3\\u0082\\\\x82\\u00c3\\u0083\\\\x82\\u00c3\\u0082\\u00c2\\u00a2\\u00c3\\u0083\\\\x83\\u00c3\\u0082\\\\x83\\u00c3\\u0083\\\\x82\\u00c3\\u0082\\\\x82\\u00c3\\u0083\\\\x83\\u00c3\\u0082\\\\x82\\u00c3\\u0083\\\\x82\\u00c3\\u0082\\\\x80\\u00c3\\u0083\\\\x83\\u00c3\\u0082\\\\x83\\u00c3\\u0083\\\\x82\\u00c3\\u0082\\\\x82\\u00c3\\u0083\\\\x83\\u00c3\\u0082\\\\x82\\u00c3\\u0083\\\\x82\\u00c3\\u0082\\\\x99t that great. Service and ambience was good. Can Visit once.'), ('Rated 3.0', \\\"RATED\\\\n  They have a wide range of vegetarian sizzlers, so, in case you are a vegetarian, do not be upset. We tried Manchurian and Schezwan Sizzlers. Both were cooked but I must point out that the Manchurian balls needed a little more cooking as they were gooey inside and tasted weird. Service is prompt and the place is great, if you want to hang out with friends.\\\\n\\\\nFood (taste) - 3/5\\\\nValue for money - 3/5\\\\nService- 3/5\\\\nAmbiance - 3/5\\\\nOn my 'Visit Again' list - Maybe\\\"), ('Rated 4.0', \\\"RATED\\\\n  Quietly surprised by the service and the taste...if u are bored by visiting Kobe sizzler..I mean the same place...u can definitely give this play a try...food is at par with Kobe's...ove the shashilk and the pasta sizzlers...overall will do come 2 this place again\\\"), ('Rated 4.0', 'RATED\\\\n  Need to wine and dine ? Head to smoke to satisfy both with delicious sizzlers to munch on.\\\\n\\\\nQuantity of the sizzlers are good and they taste good too. 1 sizzler is good enough for one person.\\\\n\\\\nThe staff is really nice and they offer twists on the wines.\\\\n\\\\nAmbience is a mildly authentic and has a very lit up feel.\\\\n\\\\nYou might have a little bit of wait time on the sizzlers but the rest of the food comes pretty quick.\\\\n\\\\nMust visit if you are craving for some sizzlers!'), ('Rated 5.0', \\\"RATED\\\\n  The food is really good and tasty.....The service is really impressive plus the way they represent the food. Should try out Buffalo Wings and Sizzler's. The cost is reasonable not that expensive. Recommend place for Steaks.\\\"), ('Rated 3.0', 'RATED\\\\n  Went their for Zomato gold. Tried Manchurian sizzler with rice and cheese garlic bread. Loved the cheese garlic bread which is served with salsa which tasted good. But the sizzler wasn\\u00c3\\u0083\\\\x83\\u00c3\\u0082\\\\x83\\u00c3\\u0083\\\\x82\\u00c3\\u0082\\\\x83\\u00c3\\u0083\\\\x83\\u00c3\\u0082\\\\x82\\u00c3\\u0083\\\\x82\\u00c3\\u0082\\u00c2\\u00a2\\u00c3\\u0083\\\\x83\\u00c3\\u0082\\\\x83\\u00c3\\u0083\\\\x82\\u00c3\\u0082\\\\x82\\u00c3\\u0083\\\\x83\\u00c3\\u0082\\\\x82\\u00c3\\u0083\\\\x82\\u00c3\\u0082\\\\x80\\u00c3\\u0083\\\\x83\\u00c3\\u0082\\\\x83\\u00c3\\u0083\\\\x82\\u00c3\\u0082\\\\x82\\u00c3\\u0083\\\\x83\\u00c3\\u0082\\\\x82\\u00c3\\u0083\\\\x82\\u00c3\\u0082\\\\x99t that great. Service and ambience was good. Can Visit once.'), ('Rated 3.0', \\\"RATED\\\\n  They have a wide range of vegetarian sizzlers, so, in case you are a vegetarian, do not be upset. We tried Manchurian and Schezwan Sizzlers. Both were cooked but I must point out that the Manchurian balls needed a little more cooking as they were gooey inside and tasted weird. Service is prompt and the place is great, if you want to hang out with friends.\\\\n\\\\nFood (taste) - 3/5\\\\nValue for money - 3/5\\\\nService- 3/5\\\\nAmbiance - 3/5\\\\nOn my 'Visit Again' list - Maybe\\\"), ('Rated 4.0', \\\"RATED\\\\n  Quietly surprised by the service and the taste...if u are bored by visiting Kobe sizzler..I mean the same place...u can definitely give this play a try...food is at par with Kobe's...ove the shashilk and the pasta sizzlers...overall will do come 2 this place again\\\"), ('Rated 4.0', \\\"RATED\\\\n  It's always been my favorite place for sizzler. Cheese macroni sizzler was amazing. Btw everything they serve was worth trying (sizzlers) .\\\\nDidn't like the pasta tho.\\\\n\\\\nFood- 4.5/5\\\\nAmbience- 4/5\\\\nService- 2.5/5 (it's very slow)\\\"), ('Rated 5.0', 'RATED\\\\n  I have not had such a nice food in a really long time. Their butter garlic prawns were the best I have had till date. Please try it if you visit the place. Also the pasta sizzler and fish steak both were delicious. I will certainly visit this place again and again. They are light on pocket also because of zomato gold. However the service could be fast. The food they offer is absolutely amazing.'), ('Rated 3.0', 'RATED\\\\n  The food is average and the prices are high. We order fish finger and it was disappointing to see that the fish content was really less, however the batter was so thick that there was hardly any taste of the fish in a bite. Similarly the flavours in the sizzlers were just okay and tasted more ketchupy'), ('Rated 4.0', 'RATED\\\\n  \\u00c3\\u0083\\\\x83\\u00c3\\u0082\\\\x83\\u00c3\\u0083\\\\x82\\u00c3\\u0082\\\\x83\\u00c3\\u0083\\\\x83\\u00c3\\u0082\\\\x82\\u00c3\\u0083\\\\x82\\u00c3\\u0082\\\\x82\\u00c3\\u0083\\\\x83\\u00c3\\u0082\\\\x83\\u00c3\\u0083\\\\x82\\u00c3\\u0082\\\\x82\\u00c3\\u0083\\\\x83\\u00c3\\u0082\\\\x82\\u00c3\\u0083\\\\x82\\u00c3\\u0082\\u00c2\\u00b0Ambience:\\\\n- Comfortable couches and chairs for seating\\\\n- Warm Woodsy decor\\\\n- Well lit \\u00c3\\u0083\\\\x83\\u00c3\\u0082\\\\x83\\u00c3\\u0083\\\\x82\\u00c3\\u0082\\\\x83\\u00c3\\u0083\\\\x83\\u00c3\\u0082\\\\x82\\u00c3\\u0083\\\\x82\\u00c3\\u0082\\u00c2\\u00a2\\u00c3\\u0083\\\\x83\\u00c3\\u0082\\\\x83\\u00c3\\u0083\\\\x82\\u00c3\\u0082\\\\x82\\u00c3\\u0083\\\\x83\\u00c3\\u0082\\\\x82\\u00c3\\u0083\\\\x82\\u00c3\\u0082\\\\x9c\\u00c3\\u0083\\\\x83\\u00c3\\u0082\\\\x83\\u00c3\\u0083\\\\x82\\u00c3\\u0082\\\\x82\\u00c3\\u0083\\\\x83\\u00c3\\u0082\\\\x82\\u00c3\\u0083\\\\x82\\u00c3\\u0082\\u00c2\\u00a8\\\\n- Good music\\\\n\\\\n\\u00c3\\u0083\\\\x83\\u00c3\\u0082\\\\x83\\u00c3\\u0083\\\\x82\\u00c3\\u0082\\\\x83\\u00c3\\u0083\\\\x83\\u00c3\\u0082\\\\x82\\u00c3\\u0083\\\\x82\\u00c3\\u0082\\\\x82\\u00c3\\u0083\\\\x83\\u00c3\\u0082\\\\x83\\u00c3\\u0083\\\\x82\\u00c3\\u0082\\\\x82\\u00c3\\u0083\\\\x83\\u00c3\\u0082\\\\x82\\u00c3\\u0083\\\\x82\\u00c3\\u0082\\u00c2\\u00b0Food:\\\\n- Very yummy food!\\\\n- Sizzlers, burgers and sandwiches available\\\\n- Recommend :\\\\n~ Butter garlic prawn, corn cheese bombs \\u00c3\\u0083\\\\x83\\u00c3\\u0082\\\\x83\\u00c3\\u0083\\\\x82\\u00c3\\u0082\\\\x83\\u00c3\\u0083\\\\x83\\u00c3\\u0082\\\\x82\\u00c3\\u0083\\\\x82\\u00c3\\u0082\\u00c2\\u00a2\\u00c3\\u0083\\\\x83\\u00c3\\u0082\\\\x83\\u00c3\\u0083\\\\x82\\u00c3\\u0082\\\\x82\\u00c3\\u0083\\\\x83\\u00c3\\u0082\\\\x82\\u00c3\\u0083\\\\x82\\u00c3\\u0082\\\\x9d\\u00c3\\u0083\\\\x83\\u00c3\\u0082\\\\x83\\u00c3\\u0083\\\\x82\\u00c3\\u0082\\\\x82\\u00c3\\u0083\\\\x83\\u00c3\\u0082\\\\x82\\u00c3\\u0083\\\\x82\\u00c3\\u0082\\u00c2\\u00a4\\\\n~ Pasta sizzlers is a good option for pasta lovers.\\\\n\\\\n\\u00c3\\u0083\\\\x83\\u00c3\\u0082\\\\x83\\u00c3\\u0083\\\\x82\\u00c3\\u0082\\\\x83\\u00c3\\u0083\\\\x83\\u00c3\\u0082\\\\x82\\u00c3\\u0083\\\\x82\\u00c3\\u0082\\\\x82\\u00c3\\u0083\\\\x83\\u00c3\\u0082\\\\x83\\u00c3\\u0083\\\\x82\\u00c3\\u0082\\\\x82\\u00c3\\u0083\\\\x83\\u00c3\\u0082\\\\x82\\u00c3\\u0083\\\\x82\\u00c3\\u0082\\u00c2\\u00b0Drinks :\\\\n- Wine\\\\n- Mocktails\\\\n\\\\n\\u00c3\\u0083\\\\x83\\u00c3\\u0082\\\\x83\\u00c3\\u0083\\\\x82\\u00c3\\u0082\\\\x83\\u00c3\\u0083\\\\x83\\u00c3\\u0082\\\\x82\\u00c3\\u0083\\\\x82\\u00c3\\u0082\\\\x82\\u00c3\\u0083\\\\x83\\u00c3\\u0082\\\\x83\\u00c3\\u0083\\\\x82\\u00c3\\u0082\\\\x82\\u00c3\\u0083\\\\x83\\u00c3\\u0082\\\\x82\\u00c3\\u0083\\\\x82\\u00c3\\u0082\\u00c2\\u00b0Desserts:\\\\n- Can be improved \\u00c3\\u0083\\\\x83\\u00c3\\u0082\\\\x83\\u00c3\\u0083\\\\x82\\u00c3\\u0082\\\\x83\\u00c3\\u0083\\\\x83\\u00c3\\u0082\\\\x82\\u00c3\\u0083\\\\x82\\u00c3\\u0082\\u00c2\\u00a2\\u00c3\\u0083\\\\x83\\u00c3\\u0082\\\\x83\\u00c3\\u0083\\\\x82\\u00c3\\u0082\\\\x82\\u00c3\\u0083\\\\x83\\u00c3\\u0082\\\\x82\\u00c3\\u0083\\\\x82\\u00c3\\u0082\\\\x9a\\u00c3\\u0083\\\\x83\\u00c3\\u0082\\\\x83\\u00c3\\u0083\\\\x82\\u00c3\\u0082\\\\x82\\u00c3\\u0083\\\\x83\\u00c3\\u0082\\\\x82\\u00c3\\u0083\\\\x82\\u00c3\\u0082\\\\xa0\\u00c3\\u0083\\\\x83\\u00c3\\u0082\\\\x83\\u00c3\\u0083\\\\x82\\u00c3\\u0082\\\\x83\\u00c3\\u0083\\\\x83\\u00c3\\u0082\\\\x82\\u00c3\\u0083\\\\x82\\u00c3\\u0082\\u00c2\\u00af\\u00c3\\u0083\\\\x83\\u00c3\\u0082\\\\x83\\u00c3\\u0083\\\\x82\\u00c3\\u0082\\\\x82\\u00c3\\u0083\\\\x83\\u00c3\\u0082\\\\x82\\u00c3\\u0083\\\\x82\\u00c3\\u0082\\u00c2\\u00b8\\u00c3\\u0083\\\\x83\\u00c3\\u0082\\\\x83\\u00c3\\u0083\\\\x82\\u00c3\\u0082\\\\x82\\u00c3\\u0083\\\\x83\\u00c3\\u0082\\\\x82\\u00c3\\u0083\\\\x82\\u00c3\\u0082\\\\x8f\\\\nNew York cheese cake was warm \\u00c3\\u0083\\\\x83\\u00c3\\u0082\\\\x83\\u00c3\\u0083\\\\x82\\u00c3\\u0082\\\\x83\\u00c3\\u0083\\\\x83\\u00c3\\u0082\\\\x82\\u00c3\\u0083\\\\x82\\u00c3\\u0082\\u00c2\\u00b0\\u00c3\\u0083\\\\x83\\u00c3\\u0082\\\\x83\\u00c3\\u0083\\\\x82\\u00c3\\u0082\\\\x82\\u00c3\\u0083\\\\x83\\u00c3\\u0082\\\\x82\\u00c3\\u0083\\\\x82\\u00c3\\u0082\\\\x9f\\u00c3\\u0083\\\\x83\\u00c3\\u0082\\\\x83\\u00c3\\u0083\\\\x82\\u00c3\\u0082\\\\x82\\u00c3\\u0083\\\\x83\\u00c3\\u0082\\\\x82\\u00c3\\u0083\\\\x82\\u00c3\\u0082\\\\x8d\\u00c3\\u0083\\\\x83\\u00c3\\u0082\\\\x83\\u00c3\\u0083\\\\x82\\u00c3\\u0082\\\\x82\\u00c3\\u0083\\\\x83\\u00c3\\u0082\\\\x82\\u00c3\\u0083\\\\x82\\u00c3\\u0082\\u00c2\\u00b0\\u00c3\\u0083\\\\x83\\u00c3\\u0082\\\\x83\\u00c3\\u0083\\\\x82\\u00c3\\u0082\\\\x83\\u00c3\\u0083\\\\x83\\u00c3\\u0082\\\\x82\\u00c3\\u0083\\\\x82\\u00c3\\u0082\\u00c2\\u00b0\\u00c3\\u0083\\\\x83\\u00c3\\u0082\\\\x83\\u00c3\\u0083\\\\x82\\u00c3\\u0082\\\\x82\\u00c3\\u0083\\\\x83\\u00c3\\u0082\\\\x82\\u00c3\\u0083\\\\x82\\u00c3\\u0082\\\\x9f\\u00c3\\u0083\\\\x83\\u00c3\\u0082\\\\x83\\u00c3\\u0083\\\\x82\\u00c3\\u0082\\\\x82\\u00c3\\u0083\\\\x83\\u00c3\\u0082\\\\x82\\u00c3\\u0083\\\\x82\\u00c3\\u0082\\\\x91\\u00c3\\u0083\\\\x83\\u00c3\\u0082\\\\x83\\u00c3\\u0083\\\\x82\\u00c3\\u0082\\\\x82\\u00c3\\u0083\\\\x83\\u00c3\\u0082\\\\x82\\u00c3\\u0083\\\\x82\\u00c3\\u0082\\\\x8e\\u00c3\\u0083\\\\x83\\u00c3\\u0082\\\\x83\\u00c3\\u0083\\\\x82\\u00c3\\u0082\\\\x83\\u00c3\\u0083\\\\x83\\u00c3\\u0082\\\\x82\\u00c3\\u0083\\\\x82\\u00c3\\u0082\\u00c2\\u00b0\\u00c3\\u0083\\\\x83\\u00c3\\u0082\\\\x83\\u00c3\\u0083\\\\x82\\u00c3\\u0082\\\\x82\\u00c3\\u0083\\\\x83\\u00c3\\u0082\\\\x82\\u00c3\\u0083\\\\x82\\u00c3\\u0082\\\\x9f\\u00c3\\u0083\\\\x83\\u00c3\\u0082\\\\x83\\u00c3\\u0083\\\\x82\\u00c3\\u0082\\\\x82\\u00c3\\u0083\\\\x83\\u00c3\\u0082\\\\x82\\u00c3\\u0083\\\\x82\\u00c3\\u0082\\\\x8f\\u00c3\\u0083\\\\x83\\u00c3\\u0082\\\\x83\\u00c3\\u0083\\\\x82\\u00c3\\u0082\\\\x82\\u00c3\\u0083\\\\x83\\u00c3\\u0082\\\\x82\\u00c3\\u0083\\\\x82\\u00c3\\u0082\\u00c2\\u00bc\\\\nSizzling brownie - the brownie was good but the chocolate sauce had a burnt taste as the sizzlers was too hot than it should have been. \\u00c3\\u0083\\\\x83\\u00c3\\u0082\\\\x83\\u00c3\\u0083\\\\x82\\u00c3\\u0082\\\\x83\\u00c3\\u0083\\\\x83\\u00c3\\u0082\\\\x82\\u00c3\\u0083\\\\x82\\u00c3\\u0082\\u00c2\\u00b0\\u00c3\\u0083\\\\x83\\u00c3\\u0082\\\\x83\\u00c3\\u0083\\\\x82\\u00c3\\u0082\\\\x82\\u00c3\\u0083\\\\x83\\u00c3\\u0082\\\\x82\\u00c3\\u0083\\\\x82\\u00c3\\u0082\\\\x9f\\u00c3\\u0083\\\\x83\\u00c3\\u0082\\\\x83\\u00c3\\u0083\\\\x82\\u00c3\\u0082\\\\x82\\u00c3\\u0083\\\\x83\\u00c3\\u0082\\\\x82\\u00c3\\u0083\\\\x82\\u00c3\\u0082\\\\x91\\u00c3\\u0083\\\\x83\\u00c3\\u0082\\\\x83\\u00c3\\u0083\\\\x82\\u00c3\\u0082\\\\x82\\u00c3\\u0083\\\\x83\\u00c3\\u0082\\\\x82\\u00c3\\u0083\\\\x82\\u00c3\\u0082\\\\x8e\\u00c3\\u0083\\\\x83\\u00c3\\u0082\\\\x83\\u00c3\\u0083\\\\x82\\u00c3\\u0082\\\\x83\\u00c3\\u0083\\\\x83\\u00c3\\u0082\\\\x82\\u00c3\\u0083\\\\x82\\u00c3\\u0082\\u00c2\\u00b0\\u00c3\\u0083\\\\x83\\u00c3\\u0082\\\\x83\\u00c3\\u0083\\\\x82\\u00c3\\u0082\\\\x82\\u00c3\\u0083\\\\x83\\u00c3\\u0082\\\\x82\\u00c3\\u0083\\\\x82\\u00c3\\u0082\\\\x9f\\u00c3\\u0083\\\\x83\\u00c3\\u0082\\\\x83\\u00c3\\u0083\\\\x82\\u00c3\\u0082\\\\x82\\u00c3\\u0083\\\\x83\\u00c3\\u0082\\\\x82\\u00c3\\u0083\\\\x82\\u00c3\\u0082\\\\x8f\\u00c3\\u0083\\\\x83\\u00c3\\u0082\\\\x83\\u00c3\\u0083\\\\x82\\u00c3\\u0082\\\\x82\\u00c3\\u0083\\\\x83\\u00c3\\u0082\\\\x82\\u00c3\\u0083\\\\x82\\u00c3\\u0082\\u00c2\\u00bc\\\\n\\\\n\\u00c3\\u0083\\\\x83\\u00c3\\u0082\\\\x83\\u00c3\\u0083\\\\x82\\u00c3\\u0082\\\\x83\\u00c3\\u0083\\\\x83\\u00c3\\u0082\\\\x82\\u00c3\\u0083\\\\x82\\u00c3\\u0082\\\\x82\\u00c3\\u0083\\\\x83\\u00c3\\u0082\\\\x83\\u00c3\\u0083\\\\x82\\u00c3\\u0082\\\\x82\\u00c3\\u0083\\\\x83\\u00c3\\u0082\\\\x82\\u00c3\\u0083\\\\x82\\u00c3\\u0082\\u00c2\\u00b0Menu:\\\\n- Veg and Non veg dishes available\\\\n- Decent portions \\u00c3\\u0083\\\\x83\\u00c3\\u0082\\\\x83\\u00c3\\u0083\\\\x82\\u00c3\\u0082\\\\x83\\u00c3\\u0083\\\\x83\\u00c3\\u0082\\\\x82\\u00c3\\u0083\\\\x82\\u00c3\\u0082\\u00c2\\u00a2\\u00c3\\u0083\\\\x83\\u00c3\\u0082\\\\x83\\u00c3\\u0083\\\\x82\\u00c3\\u0082\\\\x82\\u00c3\\u0083\\\\x83\\u00c3\\u0082\\\\x82\\u00c3\\u0083\\\\x82\\u00c3\\u0082\\\\xad\\u00c3\\u0083\\\\x83\\u00c3\\u0082\\\\x83\\u00c3\\u0083\\\\x82\\u00c3\\u0082\\\\x82\\u00c3\\u0083\\\\x83\\u00c3\\u0082\\\\x82\\u00c3\\u0083\\\\x82\\u00c3\\u0082\\\\x90\\\\n\\\\n\\u00c3\\u0083\\\\x83\\u00c3\\u0082\\\\x83\\u00c3\\u0083\\\\x82\\u00c3\\u0082\\\\x83\\u00c3\\u0083\\\\x83\\u00c3\\u0082\\\\x82\\u00c3\\u0083\\\\x82\\u00c3\\u0082\\\\x82\\u00c3\\u0083\\\\x83\\u00c3\\u0082\\\\x83\\u00c3\\u0083\\\\x82\\u00c3\\u0082\\\\x82\\u00c3\\u0083\\\\x83\\u00c3\\u0082\\\\x82\\u00c3\\u0083\\\\x82\\u00c3\\u0082\\u00c2\\u00b0Service :\\\\n- No complaints.\\\\n\\\\nHead to the place for a really good meal \\\\U0001f929\\u00c3\\u0083\\\\x83\\u00c3\\u0082\\\\x83\\u00c3\\u0083\\\\x82\\u00c3\\u0082\\\\x83\\u00c3\\u0083\\\\x83\\u00c3\\u0082\\\\x82\\u00c3\\u0083\\\\x82\\u00c3\\u0082\\u00c2\\u00b0\\u00c3\\u0083\\\\x83\\u00c3\\u0082\\\\x83\\u00c3\\u0083\\\\x82\\u00c3\\u0082\\\\x82\\u00c3\\u0083\\\\x83\\u00c3\\u0082\\\\x82\\u00c3\\u0083\\\\x82\\u00c3\\u0082\\\\x9f\\u00c3\\u0083\\\\x83\\u00c3\\u0082\\\\x83\\u00c3\\u0083\\\\x82\\u00c3\\u0082\\\\x82\\u00c3\\u0083\\\\x83\\u00c3\\u0082\\\\x82\\u00c3\\u0083\\\\x82\\u00c3\\u0082\\\\x91\\u00c3\\u0083\\\\x83\\u00c3\\u0082\\\\x83\\u00c3\\u0083\\\\x82\\u00c3\\u0082\\\\x82\\u00c3\\u0083\\\\x83\\u00c3\\u0082\\\\x82\\u00c3\\u0083\\\\x82\\u00c3\\u0082\\\\x8d\\u00c3\\u0083\\\\x83\\u00c3\\u0082\\\\x83\\u00c3\\u0083\\\\x82\\u00c3\\u0082\\\\x83\\u00c3\\u0083\\\\x83\\u00c3\\u0082\\\\x82\\u00c3\\u0083\\\\x82\\u00c3\\u0082\\u00c2\\u00b0\\u00c3\\u0083\\\\x83\\u00c3\\u0082\\\\x83\\u00c3\\u0083\\\\x82\\u00c3\\u0082\\\\x82\\u00c3\\u0083\\\\x83\\u00c3\\u0082\\\\x82\\u00c3\\u0083\\\\x82\\u00c3\\u0082\\\\x9f\\u00c3\\u0083\\\\x83\\u00c3\\u0082\\\\x83\\u00c3\\u0083\\\\x82\\u00c3\\u0082\\\\x82\\u00c3\\u0083\\\\x83\\u00c3\\u0082\\\\x82\\u00c3\\u0083\\\\x82\\u00c3\\u0082\\\\x8f\\u00c3\\u0083\\\\x83\\u00c3\\u0082\\\\x83\\u00c3\\u0083\\\\x82\\u00c3\\u0082\\\\x82\\u00c3\\u0083\\\\x83\\u00c3\\u0082\\\\x82\\u00c3\\u0083\\\\x82\\u00c3\\u0082\\u00c2\\u00bc'), ('Rated 4.0', \\\"RATED\\\\n  It's always been my favorite place for sizzler. Cheese macroni sizzler was amazing. Btw everything they serve was worth trying (sizzlers) .\\\\nDidn't like the pasta tho.\\\\n\\\\nFood- 4.5/5\\\\nAmbience- 4/5\\\\nService- 2.5/5 (it's very slow)\\\"), ('Rated 5.0', 'RATED\\\\n  I have not had such a nice food in a really long time. Their butter garlic prawns were the best I have had till date. Please try it if you visit the place. Also the pasta sizzler and fish steak both were delicious. I will certainly visit this place again and again. They are light on pocket also because of zomato gold. However the service could be fast. The food they offer is absolutely amazing.'), ('Rated 3.0', 'RATED\\\\n  The food is average and the prices are high. We order fish finger and it was disappointing to see that the fish content was really less, however the batter was so thick that there was hardly any taste of the fish in a bite. Similarly the flavours in the sizzlers were just okay and tasted more ketchupy'), ('Rated 4.0', 'RATED\\\\n  \\u00c3\\u0083\\\\x83\\u00c3\\u0082\\\\x83\\u00c3\\u0083\\\\x82\\u00c3\\u0082\\\\x83\\u00c3\\u0083\\\\x83\\u00c3\\u0082\\\\x82\\u00c3\\u0083\\\\x82\\u00c3\\u0082\\\\x82\\u00c3\\u0083\\\\x83\\u00c3\\u0082\\\\x83\\u00c3\\u0083\\\\x82\\u00c3\\u0082\\\\x82\\u00c3\\u0083\\\\x83\\u00c3\\u0082\\\\x82\\u00c3\\u0083\\\\x82\\u00c3\\u0082\\u00c2\\u00b0Ambience:\\\\n- Comfortable couches and chairs for seating\\\\n- Warm Woodsy decor\\\\n- Well lit \\u00c3\\u0083\\\\x83\\u00c3\\u0082\\\\x83\\u00c3\\u0083\\\\x82\\u00c3\\u0082\\\\x83\\u00c3\\u0083\\\\x83\\u00c3\\u0082\\\\x82\\u00c3\\u0083\\\\x82\\u00c3\\u0082\\u00c2\\u00a2\\u00c3\\u0083\\\\x83\\u00c3\\u0082\\\\x83\\u00c3\\u0083\\\\x82\\u00c3\\u0082\\\\x82\\u00c3\\u0083\\\\x83\\u00c3\\u0082\\\\x82\\u00c3\\u0083\\\\x82\\u00c3\\u0082\\\\x9c\\u00c3\\u0083\\\\x83\\u00c3\\u0082\\\\x83\\u00c3\\u0083\\\\x82\\u00c3\\u0082\\\\x82\\u00c3\\u0083\\\\x83\\u00c3\\u0082\\\\x82\\u00c3\\u0083\\\\x82\\u00c3\\u0082\\u00c2\\u00a8\\\\n- Good music\\\\n\\\\n\\u00c3\\u0083\\\\x83\\u00c3\\u0082\\\\x83\\u00c3\\u0083\\\\x82\\u00c3\\u0082\\\\x83\\u00c3\\u0083\\\\x83\\u00c3\\u0082\\\\x82\\u00c3\\u0083\\\\x82\\u00c3\\u0082\\\\x82\\u00c3\\u0083\\\\x83\\u00c3\\u0082\\\\x83\\u00c3\\u0083\\\\x82\\u00c3\\u0082\\\\x82\\u00c3\\u0083\\\\x83\\u00c3\\u0082\\\\x82\\u00c3\\u0083\\\\x82\\u00c3\\u0082\\u00c2\\u00b0Food:\\\\n- Very yummy food!\\\\n- Sizzlers, burgers and sandwiches available\\\\n- Recommend :\\\\n~ Butter garlic prawn, corn cheese bombs \\u00c3\\u0083\\\\x83\\u00c3\\u0082\\\\x83\\u00c3\\u0083\\\\x82\\u00c3\\u0082\\\\x83\\u00c3\\u0083\\\\x83\\u00c3\\u0082\\\\x82\\u00c3\\u0083\\\\x82\\u00c3\\u0082\\u00c2\\u00a2\\u00c3\\u0083\\\\x83\\u00c3\\u0082\\\\x83\\u00c3\\u0083\\\\x82\\u00c3\\u0082\\\\x82\\u00c3\\u0083\\\\x83\\u00c3\\u0082\\\\x82\\u00c3\\u0083\\\\x82\\u00c3\\u0082\\\\x9d\\u00c3\\u0083\\\\x83\\u00c3\\u0082\\\\x83\\u00c3\\u0083\\\\x82\\u00c3\\u0082\\\\x82\\u00c3\\u0083\\\\x83\\u00c3\\u0082\\\\x82\\u00c3\\u0083\\\\x82\\u00c3\\u0082\\u00c2\\u00a4\\\\n~ Pasta sizzlers is a good option for pasta lovers.\\\\n\\\\n\\u00c3\\u0083\\\\x83\\u00c3\\u0082\\\\x83\\u00c3\\u0083\\\\x82\\u00c3\\u0082\\\\x83\\u00c3\\u0083\\\\x83\\u00c3\\u0082\\\\x82\\u00c3\\u0083\\\\x82\\u00c3\\u0082\\\\x82\\u00c3\\u0083\\\\x83\\u00c3\\u0082\\\\x83\\u00c3\\u0083\\\\x82\\u00c3\\u0082\\\\x82\\u00c3\\u0083\\\\x83\\u00c3\\u0082\\\\x82\\u00c3\\u0083\\\\x82\\u00c3\\u0082\\u00c2\\u00b0Drinks :\\\\n- Wine\\\\n- Mocktails\\\\n\\\\n\\u00c3\\u0083\\\\x83\\u00c3\\u0082\\\\x83\\u00c3\\u0083\\\\x82\\u00c3\\u0082\\\\x83\\u00c3\\u0083\\\\x83\\u00c3\\u0082\\\\x82\\u00c3\\u0083\\\\x82\\u00c3\\u0082\\\\x82\\u00c3\\u0083\\\\x83\\u00c3\\u0082\\\\x83\\u00c3\\u0083\\\\x82\\u00c3\\u0082\\\\x82\\u00c3\\u0083\\\\x83\\u00c3\\u0082\\\\x82\\u00c3\\u0083\\\\x82\\u00c3\\u0082\\u00c2\\u00b0Desserts:\\\\n- Can be improved \\u00c3\\u0083\\\\x83\\u00c3\\u0082\\\\x83\\u00c3\\u0083\\\\x82\\u00c3\\u0082\\\\x83\\u00c3\\u0083\\\\x83\\u00c3\\u0082\\\\x82\\u00c3\\u0083\\\\x82\\u00c3\\u0082\\u00c2\\u00a2\\u00c3\\u0083\\\\x83\\u00c3\\u0082\\\\x83\\u00c3\\u0083\\\\x82\\u00c3\\u0082\\\\x82\\u00c3\\u0083\\\\x83\\u00c3\\u0082\\\\x82\\u00c3\\u0083\\\\x82\\u00c3\\u0082\\\\x9a\\u00c3\\u0083\\\\x83\\u00c3\\u0082\\\\x83\\u00c3\\u0083\\\\x82\\u00c3\\u0082\\\\x82\\u00c3\\u0083\\\\x83\\u00c3\\u0082\\\\x82\\u00c3\\u0083\\\\x82\\u00c3\\u0082\\\\xa0\\u00c3\\u0083\\\\x83\\u00c3\\u0082\\\\x83\\u00c3\\u0083\\\\x82\\u00c3\\u0082\\\\x83\\u00c3\\u0083\\\\x83\\u00c3\\u0082\\\\x82\\u00c3\\u0083\\\\x82\\u00c3\\u0082\\u00c2\\u00af\\u00c3\\u0083\\\\x83\\u00c3\\u0082\\\\x83\\u00c3\\u0083\\\\x82\\u00c3\\u0082\\\\x82\\u00c3\\u0083\\\\x83\\u00c3\\u0082\\\\x82\\u00c3\\u0083\\\\x82\\u00c3\\u0082\\u00c2\\u00b8\\u00c3\\u0083\\\\x83\\u00c3\\u0082\\\\x83\\u00c3\\u0083\\\\x82\\u00c3\\u0082\\\\x82\\u00c3\\u0083\\\\x83\\u00c3\\u0082\\\\x82\\u00c3\\u0083\\\\x82\\u00c3\\u0082\\\\x8f\\\\nNew York cheese cake was warm \\u00c3\\u0083\\\\x83\\u00c3\\u0082\\\\x83\\u00c3\\u0083\\\\x82\\u00c3\\u0082\\\\x83\\u00c3\\u0083\\\\x83\\u00c3\\u0082\\\\x82\\u00c3\\u0083\\\\x82\\u00c3\\u0082\\u00c2\\u00b0\\u00c3\\u0083\\\\x83\\u00c3\\u0082\\\\x83\\u00c3\\u0083\\\\x82\\u00c3\\u0082\\\\x82\\u00c3\\u0083\\\\x83\\u00c3\\u0082\\\\x82\\u00c3\\u0083\\\\x82\\u00c3\\u0082\\\\x9f\\u00c3\\u0083\\\\x83\\u00c3\\u0082\\\\x83\\u00c3\\u0083\\\\x82\\u00c3\\u0082\\\\x82\\u00c3\\u0083\\\\x83\\u00c3\\u0082\\\\x82\\u00c3\\u0083\\\\x82\\u00c3\\u0082\\\\x8d\\u00c3\\u0083\\\\x83\\u00c3\\u0082\\\\x83\\u00c3\\u0083\\\\x82\\u00c3\\u0082\\\\x82\\u00c3\\u0083\\\\x83\\u00c3\\u0082\\\\x82\\u00c3\\u0083\\\\x82\\u00c3\\u0082\\u00c2\\u00b0\\u00c3\\u0083\\\\x83\\u00c3\\u0082\\\\x83\\u00c3\\u0083\\\\x82\\u00c3\\u0082\\\\x83\\u00c3\\u0083\\\\x83\\u00c3\\u0082\\\\x82\\u00c3\\u0083\\\\x82\\u00c3\\u0082\\u00c2\\u00b0\\u00c3\\u0083\\\\x83\\u00c3\\u0082\\\\x83\\u00c3\\u0083\\\\x82\\u00c3\\u0082\\\\x82\\u00c3\\u0083\\\\x83\\u00c3\\u0082\\\\x82\\u00c3\\u0083\\\\x82\\u00c3\\u0082\\\\x9f\\u00c3\\u0083\\\\x83\\u00c3\\u0082\\\\x83\\u00c3\\u0083\\\\x82\\u00c3\\u0082\\\\x82\\u00c3\\u0083\\\\x83\\u00c3\\u0082\\\\x82\\u00c3\\u0083\\\\x82\\u00c3\\u0082\\\\x91\\u00c3\\u0083\\\\x83\\u00c3\\u0082\\\\x83\\u00c3\\u0083\\\\x82\\u00c3\\u0082\\\\x82\\u00c3\\u0083\\\\x83\\u00c3\\u0082\\\\x82\\u00c3\\u0083\\\\x82\\u00c3\\u0082\\\\x8e\\u00c3\\u0083\\\\x83\\u00c3\\u0082\\\\x83\\u00c3\\u0083\\\\x82\\u00c3\\u0082\\\\x83\\u00c3\\u0083\\\\x83\\u00c3\\u0082\\\\x82\\u00c3\\u0083\\\\x82\\u00c3\\u0082\\u00c2\\u00b0\\u00c3\\u0083\\\\x83\\u00c3\\u0082\\\\x83\\u00c3\\u0083\\\\x82\\u00c3\\u0082\\\\x82\\u00c3\\u0083\\\\x83\\u00c3\\u0082\\\\x82\\u00c3\\u0083\\\\x82\\u00c3\\u0082\\\\x9f\\u00c3\\u0083\\\\x83\\u00c3\\u0082\\\\x83\\u00c3\\u0083\\\\x82\\u00c3\\u0082\\\\x82\\u00c3\\u0083\\\\x83\\u00c3\\u0082\\\\x82\\u00c3\\u0083\\\\x82\\u00c3\\u0082\\\\x8f\\u00c3\\u0083\\\\x83\\u00c3\\u0082\\\\x83\\u00c3\\u0083\\\\x82\\u00c3\\u0082\\\\x82\\u00c3\\u0083\\\\x83\\u00c3\\u0082\\\\x82\\u00c3\\u0083\\\\x82\\u00c3\\u0082\\u00c2\\u00bc\\\\nSizzling brownie - the brownie was good but the chocolate sauce had a burnt taste as the sizzlers was too hot than it should have been. \\u00c3\\u0083\\\\x83\\u00c3\\u0082\\\\x83\\u00c3\\u0083\\\\x82\\u00c3\\u0082\\\\x83\\u00c3\\u0083\\\\x83\\u00c3\\u0082\\\\x82\\u00c3\\u0083\\\\x82\\u00c3\\u0082\\u00c2\\u00b0\\u00c3\\u0083\\\\x83\\u00c3\\u0082\\\\x83\\u00c3\\u0083\\\\x82\\u00c3\\u0082\\\\x82\\u00c3\\u0083\\\\x83\\u00c3\\u0082\\\\x82\\u00c3\\u0083\\\\x82\\u00c3\\u0082\\\\x9f\\u00c3\\u0083\\\\x83\\u00c3\\u0082\\\\x83\\u00c3\\u0083\\\\x82\\u00c3\\u0082\\\\x82\\u00c3\\u0083\\\\x83\\u00c3\\u0082\\\\x82\\u00c3\\u0083\\\\x82\\u00c3\\u0082\\\\x91\\u00c3\\u0083\\\\x83\\u00c3\\u0082\\\\x83\\u00c3\\u0083\\\\x82\\u00c3\\u0082\\\\x82\\u00c3\\u0083\\\\x83\\u00c3\\u0082\\\\x82\\u00c3\\u0083\\\\x82\\u00c3\\u0082\\\\x8e\\u00c3\\u0083\\\\x83\\u00c3\\u0082\\\\x83\\u00c3\\u0083\\\\x82\\u00c3\\u0082\\\\x83\\u00c3\\u0083\\\\x83\\u00c3\\u0082\\\\x82\\u00c3\\u0083\\\\x82\\u00c3\\u0082\\u00c2\\u00b0\\u00c3\\u0083\\\\x83\\u00c3\\u0082\\\\x83\\u00c3\\u0083\\\\x82\\u00c3\\u0082\\\\x82\\u00c3\\u0083\\\\x83\\u00c3\\u0082\\\\x82\\u00c3\\u0083\\\\x82\\u00c3\\u0082\\\\x9f\\u00c3\\u0083\\\\x83\\u00c3\\u0082\\\\x83\\u00c3\\u0083\\\\x82\\u00c3\\u0082\\\\x82\\u00c3\\u0083\\\\x83\\u00c3\\u0082\\\\x82\\u00c3\\u0083\\\\x82\\u00c3\\u0082\\\\x8f\\u00c3\\u0083\\\\x83\\u00c3\\u0082\\\\x83\\u00c3\\u0083\\\\x82\\u00c3\\u0082\\\\x82\\u00c3\\u0083\\\\x83\\u00c3\\u0082\\\\x82\\u00c3\\u0083\\\\x82\\u00c3\\u0082\\u00c2\\u00bc\\\\n\\\\n\\u00c3\\u0083\\\\x83\\u00c3\\u0082\\\\x83\\u00c3\\u0083\\\\x82\\u00c3\\u0082\\\\x83\\u00c3\\u0083\\\\x83\\u00c3\\u0082\\\\x82\\u00c3\\u0083\\\\x82\\u00c3\\u0082\\\\x82\\u00c3\\u0083\\\\x83\\u00c3\\u0082\\\\x83\\u00c3\\u0083\\\\x82\\u00c3\\u0082\\\\x82\\u00c3\\u0083\\\\x83\\u00c3\\u0082\\\\x82\\u00c3\\u0083\\\\x82\\u00c3\\u0082\\u00c2\\u00b0Menu:\\\\n- Veg and Non veg dishes available\\\\n- Decent portions \\u00c3\\u0083\\\\x83\\u00c3\\u0082\\\\x83\\u00c3\\u0083\\\\x82\\u00c3\\u0082\\\\x83\\u00c3\\u0083\\\\x83\\u00c3\\u0082\\\\x82\\u00c3\\u0083\\\\x82\\u00c3\\u0082\\u00c2\\u00a2\\u00c3\\u0083\\\\x83\\u00c3\\u0082\\\\x83\\u00c3\\u0083\\\\x82\\u00c3\\u0082\\\\x82\\u00c3\\u0083\\\\x83\\u00c3\\u0082\\\\x82\\u00c3\\u0083\\\\x82\\u00c3\\u0082\\\\xad\\u00c3\\u0083\\\\x83\\u00c3\\u0082\\\\x83\\u00c3\\u0083\\\\x82\\u00c3\\u0082\\\\x82\\u00c3\\u0083\\\\x83\\u00c3\\u0082\\\\x82\\u00c3\\u0083\\\\x82\\u00c3\\u0082\\\\x90\\\\n\\\\n\\u00c3\\u0083\\\\x83\\u00c3\\u0082\\\\x83\\u00c3\\u0083\\\\x82\\u00c3\\u0082\\\\x83\\u00c3\\u0083\\\\x83\\u00c3\\u0082\\\\x82\\u00c3\\u0083\\\\x82\\u00c3\\u0082\\\\x82\\u00c3\\u0083\\\\x83\\u00c3\\u0082\\\\x83\\u00c3\\u0083\\\\x82\\u00c3\\u0082\\\\x82\\u00c3\\u0083\\\\x83\\u00c3\\u0082\\\\x82\\u00c3\\u0083\\\\x82\\u00c3\\u0082\\u00c2\\u00b0Service :\\\\n- No complaints.\\\\n\\\\nHead to the place for a really good meal \\\\U0001f929\\u00c3\\u0083\\\\x83\\u00c3\\u0082\\\\x83\\u00c3\\u0083\\\\x82\\u00c3\\u0082\\\\x83\\u00c3\\u0083\\\\x83\\u00c3\\u0082\\\\x82\\u00c3\\u0083\\\\x82\\u00c3\\u0082\\u00c2\\u00b0\\u00c3\\u0083\\\\x83\\u00c3\\u0082\\\\x83\\u00c3\\u0083\\\\x82\\u00c3\\u0082\\\\x82\\u00c3\\u0083\\\\x83\\u00c3\\u0082\\\\x82\\u00c3\\u0083\\\\x82\\u00c3\\u0082\\\\x9f\\u00c3\\u0083\\\\x83\\u00c3\\u0082\\\\x83\\u00c3\\u0083\\\\x82\\u00c3\\u0082\\\\x82\\u00c3\\u0083\\\\x83\\u00c3\\u0082\\\\x82\\u00c3\\u0083\\\\x82\\u00c3\\u0082\\\\x91\\u00c3\\u0083\\\\x83\\u00c3\\u0082\\\\x83\\u00c3\\u0083\\\\x82\\u00c3\\u0082\\\\x82\\u00c3\\u0083\\\\x83\\u00c3\\u0082\\\\x82\\u00c3\\u0083\\\\x82\\u00c3\\u0082\\\\x8d\\u00c3\\u0083\\\\x83\\u00c3\\u0082\\\\x83\\u00c3\\u0083\\\\x82\\u00c3\\u0082\\\\x83\\u00c3\\u0083\\\\x83\\u00c3\\u0082\\\\x82\\u00c3\\u0083\\\\x82\\u00c3\\u0082\\u00c2\\u00b0\\u00c3\\u0083\\\\x83\\u00c3\\u0082\\\\x83\\u00c3\\u0083\\\\x82\\u00c3\\u0082\\\\x82\\u00c3\\u0083\\\\x83\\u00c3\\u0082\\\\x82\\u00c3\\u0083\\\\x82\\u00c3\\u0082\\\\x9f\\u00c3\\u0083\\\\x83\\u00c3\\u0082\\\\x83\\u00c3\\u0083\\\\x82\\u00c3\\u0082\\\\x82\\u00c3\\u0083\\\\x83\\u00c3\\u0082\\\\x82\\u00c3\\u0083\\\\x82\\u00c3\\u0082\\\\x8f\\u00c3\\u0083\\\\x83\\u00c3\\u0082\\\\x83\\u00c3\\u0083\\\\x82\\u00c3\\u0082\\\\x82\\u00c3\\u0083\\\\x83\\u00c3\\u0082\\\\x82\\u00c3\\u0083\\\\x82\\u00c3\\u0082\\u00c2\\u00bc'), ('Rated 4.0', \\\"RATED\\\\n  It's always been my favorite place for sizzler. Cheese macroni sizzler was amazing. Btw everything they serve was worth trying (sizzlers) .\\\\nDidn't like the pasta tho.\\\\n\\\\nFood- 4.5/5\\\\nAmbience- 4/5\\\\nService- 2.5/5 (it's very slow)\\\"), ('Rated 5.0', 'RATED\\\\n  I have not had such a nice food in a really long time. Their butter garlic prawns were the best I have had till date. Please try it if you visit the place. Also the pasta sizzler and fish steak both were delicious. I will certainly visit this place again and again. They are light on pocket also because of zomato gold. However the service could be fast. The food they offer is absolutely amazing.'), ('Rated 3.0', 'RATED\\\\n  The food is average and the prices are high. We order fish finger and it was disappointing to see that the fish content was really less, however the batter was so thick that there was hardly any taste of the fish in a bite. Similarly the flavours in the sizzlers were just okay and tasted more ketchupy'), ('Rated 4.0', 'RATED\\\\n  \\u00c3\\u0083\\\\x83\\u00c3\\u0082\\\\x83\\u00c3\\u0083\\\\x82\\u00c3\\u0082\\\\x83\\u00c3\\u0083\\\\x83\\u00c3\\u0082\\\\x82\\u00c3\\u0083\\\\x82\\u00c3\\u0082\\\\x82\\u00c3\\u0083\\\\x83\\u00c3\\u0082\\\\x83\\u00c3\\u0083\\\\x82\\u00c3\\u0082\\\\x82\\u00c3\\u0083\\\\x83\\u00c3\\u0082\\\\x82\\u00c3\\u0083\\\\x82\\u00c3\\u0082\\u00c2\\u00b0Ambience:\\\\n- Comfortable couches and chairs for seating\\\\n- Warm Woodsy decor\\\\n- Well lit \\u00c3\\u0083\\\\x83\\u00c3\\u0082\\\\x83\\u00c3\\u0083\\\\x82\\u00c3\\u0082\\\\x83\\u00c3\\u0083\\\\x83\\u00c3\\u0082\\\\x82\\u00c3\\u0083\\\\x82\\u00c3\\u0082\\u00c2\\u00a2\\u00c3\\u0083\\\\x83\\u00c3\\u0082\\\\x83\\u00c3\\u0083\\\\x82\\u00c3\\u0082\\\\x82\\u00c3\\u0083\\\\x83\\u00c3\\u0082\\\\x82\\u00c3\\u0083\\\\x82\\u00c3\\u0082\\\\x9c\\u00c3\\u0083\\\\x83\\u00c3\\u0082\\\\x83\\u00c3\\u0083\\\\x82\\u00c3\\u0082\\\\x82\\u00c3\\u0083\\\\x83\\u00c3\\u0082\\\\x82\\u00c3\\u0083\\\\x82\\u00c3\\u0082\\u00c2\\u00a8\\\\n- Good music\\\\n\\\\n\\u00c3\\u0083\\\\x83\\u00c3\\u0082\\\\x83\\u00c3\\u0083\\\\x82\\u00c3\\u0082\\\\x83\\u00c3\\u0083\\\\x83\\u00c3\\u0082\\\\x82\\u00c3\\u0083\\\\x82\\u00c3\\u0082\\\\x82\\u00c3\\u0083\\\\x83\\u00c3\\u0082\\\\x83\\u00c3\\u0083\\\\x82\\u00c3\\u0082\\\\x82\\u00c3\\u0083\\\\x83\\u00c3\\u0082\\\\x82\\u00c3\\u0083\\\\x82\\u00c3\\u0082\\u00c2\\u00b0Food:\\\\n- Very yummy food!\\\\n- Sizzlers, burgers and sandwiches available\\\\n- Recommend :\\\\n~ Butter garlic prawn, corn cheese bombs \\u00c3\\u0083\\\\x83\\u00c3\\u0082\\\\x83\\u00c3\\u0083\\\\x82\\u00c3\\u0082\\\\x83\\u00c3\\u0083\\\\x83\\u00c3\\u0082\\\\x82\\u00c3\\u0083\\\\x82\\u00c3\\u0082\\u00c2\\u00a2\\u00c3\\u0083\\\\x83\\u00c3\\u0082\\\\x83\\u00c3\\u0083\\\\x82\\u00c3\\u0082\\\\x82\\u00c3\\u0083\\\\x83\\u00c3\\u0082\\\\x82\\u00c3\\u0083\\\\x82\\u00c3\\u0082\\\\x9d\\u00c3\\u0083\\\\x83\\u00c3\\u0082\\\\x83\\u00c3\\u0083\\\\x82\\u00c3\\u0082\\\\x82\\u00c3\\u0083\\\\x83\\u00c3\\u0082\\\\x82\\u00c3\\u0083\\\\x82\\u00c3\\u0082\\u00c2\\u00a4\\\\n~ Pasta sizzlers is a good option for pasta lovers.\\\\n\\\\n\\u00c3\\u0083\\\\x83\\u00c3\\u0082\\\\x83\\u00c3\\u0083\\\\x82\\u00c3\\u0082\\\\x83\\u00c3\\u0083\\\\x83\\u00c3\\u0082\\\\x82\\u00c3\\u0083\\\\x82\\u00c3\\u0082\\\\x82\\u00c3\\u0083\\\\x83\\u00c3\\u0082\\\\x83\\u00c3\\u0083\\\\x82\\u00c3\\u0082\\\\x82\\u00c3\\u0083\\\\x83\\u00c3\\u0082\\\\x82\\u00c3\\u0083\\\\x82\\u00c3\\u0082\\u00c2\\u00b0Drinks :\\\\n- Wine\\\\n- Mocktails\\\\n\\\\n\\u00c3\\u0083\\\\x83\\u00c3\\u0082\\\\x83\\u00c3\\u0083\\\\x82\\u00c3\\u0082\\\\x83\\u00c3\\u0083\\\\x83\\u00c3\\u0082\\\\x82\\u00c3\\u0083\\\\x82\\u00c3\\u0082\\\\x82\\u00c3\\u0083\\\\x83\\u00c3\\u0082\\\\x83\\u00c3\\u0083\\\\x82\\u00c3\\u0082\\\\x82\\u00c3\\u0083\\\\x83\\u00c3\\u0082\\\\x82\\u00c3\\u0083\\\\x82\\u00c3\\u0082\\u00c2\\u00b0Desserts:\\\\n- Can be improved \\u00c3\\u0083\\\\x83\\u00c3\\u0082\\\\x83\\u00c3\\u0083\\\\x82\\u00c3\\u0082\\\\x83\\u00c3\\u0083\\\\x83\\u00c3\\u0082\\\\x82\\u00c3\\u0083\\\\x82\\u00c3\\u0082\\u00c2\\u00a2\\u00c3\\u0083\\\\x83\\u00c3\\u0082\\\\x83\\u00c3\\u0083\\\\x82\\u00c3\\u0082\\\\x82\\u00c3\\u0083\\\\x83\\u00c3\\u0082\\\\x82\\u00c3\\u0083\\\\x82\\u00c3\\u0082\\\\x9a\\u00c3\\u0083\\\\x83\\u00c3\\u0082\\\\x83\\u00c3\\u0083\\\\x82\\u00c3\\u0082\\\\x82\\u00c3\\u0083\\\\x83\\u00c3\\u0082\\\\x82\\u00c3\\u0083\\\\x82\\u00c3\\u0082\\\\xa0\\u00c3\\u0083\\\\x83\\u00c3\\u0082\\\\x83\\u00c3\\u0083\\\\x82\\u00c3\\u0082\\\\x83\\u00c3\\u0083\\\\x83\\u00c3\\u0082\\\\x82\\u00c3\\u0083\\\\x82\\u00c3\\u0082\\u00c2\\u00af\\u00c3\\u0083\\\\x83\\u00c3\\u0082\\\\x83\\u00c3\\u0083\\\\x82\\u00c3\\u0082\\\\x82\\u00c3\\u0083\\\\x83\\u00c3\\u0082\\\\x82\\u00c3\\u0083\\\\x82\\u00c3\\u0082\\u00c2\\u00b8\\u00c3\\u0083\\\\x83\\u00c3\\u0082\\\\x83\\u00c3\\u0083\\\\x82\\u00c3\\u0082\\\\x82\\u00c3\\u0083\\\\x83\\u00c3\\u0082\\\\x82\\u00c3\\u0083\\\\x82\\u00c3\\u0082\\\\x8f\\\\nNew York cheese cake was warm \\u00c3\\u0083\\\\x83\\u00c3\\u0082\\\\x83\\u00c3\\u0083\\\\x82\\u00c3\\u0082\\\\x83\\u00c3\\u0083\\\\x83\\u00c3\\u0082\\\\x82\\u00c3\\u0083\\\\x82\\u00c3\\u0082\\u00c2\\u00b0\\u00c3\\u0083\\\\x83\\u00c3\\u0082\\\\x83\\u00c3\\u0083\\\\x82\\u00c3\\u0082\\\\x82\\u00c3\\u0083\\\\x83\\u00c3\\u0082\\\\x82\\u00c3\\u0083\\\\x82\\u00c3\\u0082\\\\x9f\\u00c3\\u0083\\\\x83\\u00c3\\u0082\\\\x83\\u00c3\\u0083\\\\x82\\u00c3\\u0082\\\\x82\\u00c3\\u0083\\\\x83\\u00c3\\u0082\\\\x82\\u00c3\\u0083\\\\x82\\u00c3\\u0082\\\\x8d\\u00c3\\u0083\\\\x83\\u00c3\\u0082\\\\x83\\u00c3\\u0083\\\\x82\\u00c3\\u0082\\\\x82\\u00c3\\u0083\\\\x83\\u00c3\\u0082\\\\x82\\u00c3\\u0083\\\\x82\\u00c3\\u0082\\u00c2\\u00b0\\u00c3\\u0083\\\\x83\\u00c3\\u0082\\\\x83\\u00c3\\u0083\\\\x82\\u00c3\\u0082\\\\x83\\u00c3\\u0083\\\\x83\\u00c3\\u0082\\\\x82\\u00c3\\u0083\\\\x82\\u00c3\\u0082\\u00c2\\u00b0\\u00c3\\u0083\\\\x83\\u00c3\\u0082\\\\x83\\u00c3\\u0083\\\\x82\\u00c3\\u0082\\\\x82\\u00c3\\u0083\\\\x83\\u00c3\\u0082\\\\x82\\u00c3\\u0083\\\\x82\\u00c3\\u0082\\\\x9f\\u00c3\\u0083\\\\x83\\u00c3\\u0082\\\\x83\\u00c3\\u0083\\\\x82\\u00c3\\u0082\\\\x82\\u00c3\\u0083\\\\x83\\u00c3\\u0082\\\\x82\\u00c3\\u0083\\\\x82\\u00c3\\u0082\\\\x91\\u00c3\\u0083\\\\x83\\u00c3\\u0082\\\\x83\\u00c3\\u0083\\\\x82\\u00c3\\u0082\\\\x82\\u00c3\\u0083\\\\x83\\u00c3\\u0082\\\\x82\\u00c3\\u0083\\\\x82\\u00c3\\u0082\\\\x8e\\u00c3\\u0083\\\\x83\\u00c3\\u0082\\\\x83\\u00c3\\u0083\\\\x82\\u00c3\\u0082\\\\x83\\u00c3\\u0083\\\\x83\\u00c3\\u0082\\\\x82\\u00c3\\u0083\\\\x82\\u00c3\\u0082\\u00c2\\u00b0\\u00c3\\u0083\\\\x83\\u00c3\\u0082\\\\x83\\u00c3\\u0083\\\\x82\\u00c3\\u0082\\\\x82\\u00c3\\u0083\\\\x83\\u00c3\\u0082\\\\x82\\u00c3\\u0083\\\\x82\\u00c3\\u0082\\\\x9f\\u00c3\\u0083\\\\x83\\u00c3\\u0082\\\\x83\\u00c3\\u0083\\\\x82\\u00c3\\u0082\\\\x82\\u00c3\\u0083\\\\x83\\u00c3\\u0082\\\\x82\\u00c3\\u0083\\\\x82\\u00c3\\u0082\\\\x8f\\u00c3\\u0083\\\\x83\\u00c3\\u0082\\\\x83\\u00c3\\u0083\\\\x82\\u00c3\\u0082\\\\x82\\u00c3\\u0083\\\\x83\\u00c3\\u0082\\\\x82\\u00c3\\u0083\\\\x82\\u00c3\\u0082\\u00c2\\u00bc\\\\nSizzling brownie - the brownie was good but the chocolate sauce had a burnt taste as the sizzlers was too hot than it should have been. \\u00c3\\u0083\\\\x83\\u00c3\\u0082\\\\x83\\u00c3\\u0083\\\\x82\\u00c3\\u0082\\\\x83\\u00c3\\u0083\\\\x83\\u00c3\\u0082\\\\x82\\u00c3\\u0083\\\\x82\\u00c3\\u0082\\u00c2\\u00b0\\u00c3\\u0083\\\\x83\\u00c3\\u0082\\\\x83\\u00c3\\u0083\\\\x82\\u00c3\\u0082\\\\x82\\u00c3\\u0083\\\\x83\\u00c3\\u0082\\\\x82\\u00c3\\u0083\\\\x82\\u00c3\\u0082\\\\x9f\\u00c3\\u0083\\\\x83\\u00c3\\u0082\\\\x83\\u00c3\\u0083\\\\x82\\u00c3\\u0082\\\\x82\\u00c3\\u0083\\\\x83\\u00c3\\u0082\\\\x82\\u00c3\\u0083\\\\x82\\u00c3\\u0082\\\\x91\\u00c3\\u0083\\\\x83\\u00c3\\u0082\\\\x83\\u00c3\\u0083\\\\x82\\u00c3\\u0082\\\\x82\\u00c3\\u0083\\\\x83\\u00c3\\u0082\\\\x82\\u00c3\\u0083\\\\x82\\u00c3\\u0082\\\\x8e\\u00c3\\u0083\\\\x83\\u00c3\\u0082\\\\x83\\u00c3\\u0083\\\\x82\\u00c3\\u0082\\\\x83\\u00c3\\u0083\\\\x83\\u00c3\\u0082\\\\x82\\u00c3\\u0083\\\\x82\\u00c3\\u0082\\u00c2\\u00b0\\u00c3\\u0083\\\\x83\\u00c3\\u0082\\\\x83\\u00c3\\u0083\\\\x82\\u00c3\\u0082\\\\x82\\u00c3\\u0083\\\\x83\\u00c3\\u0082\\\\x82\\u00c3\\u0083\\\\x82\\u00c3\\u0082\\\\x9f\\u00c3\\u0083\\\\x83\\u00c3\\u0082\\\\x83\\u00c3\\u0083\\\\x82\\u00c3\\u0082\\\\x82\\u00c3\\u0083\\\\x83\\u00c3\\u0082\\\\x82\\u00c3\\u0083\\\\x82\\u00c3\\u0082\\\\x8f\\u00c3\\u0083\\\\x83\\u00c3\\u0082\\\\x83\\u00c3\\u0083\\\\x82\\u00c3\\u0082\\\\x82\\u00c3\\u0083\\\\x83\\u00c3\\u0082\\\\x82\\u00c3\\u0083\\\\x82\\u00c3\\u0082\\u00c2\\u00bc\\\\n\\\\n\\u00c3\\u0083\\\\x83\\u00c3\\u0082\\\\x83\\u00c3\\u0083\\\\x82\\u00c3\\u0082\\\\x83\\u00c3\\u0083\\\\x83\\u00c3\\u0082\\\\x82\\u00c3\\u0083\\\\x82\\u00c3\\u0082\\\\x82\\u00c3\\u0083\\\\x83\\u00c3\\u0082\\\\x83\\u00c3\\u0083\\\\x82\\u00c3\\u0082\\\\x82\\u00c3\\u0083\\\\x83\\u00c3\\u0082\\\\x82\\u00c3\\u0083\\\\x82\\u00c3\\u0082\\u00c2\\u00b0Menu:\\\\n- Veg and Non veg dishes available\\\\n- Decent portions \\u00c3\\u0083\\\\x83\\u00c3\\u0082\\\\x83\\u00c3\\u0083\\\\x82\\u00c3\\u0082\\\\x83\\u00c3\\u0083\\\\x83\\u00c3\\u0082\\\\x82\\u00c3\\u0083\\\\x82\\u00c3\\u0082\\u00c2\\u00a2\\u00c3\\u0083\\\\x83\\u00c3\\u0082\\\\x83\\u00c3\\u0083\\\\x82\\u00c3\\u0082\\\\x82\\u00c3\\u0083\\\\x83\\u00c3\\u0082\\\\x82\\u00c3\\u0083\\\\x82\\u00c3\\u0082\\\\xad\\u00c3\\u0083\\\\x83\\u00c3\\u0082\\\\x83\\u00c3\\u0083\\\\x82\\u00c3\\u0082\\\\x82\\u00c3\\u0083\\\\x83\\u00c3\\u0082\\\\x82\\u00c3\\u0083\\\\x82\\u00c3\\u0082\\\\x90\\\\n\\\\n\\u00c3\\u0083\\\\x83\\u00c3\\u0082\\\\x83\\u00c3\\u0083\\\\x82\\u00c3\\u0082\\\\x83\\u00c3\\u0083\\\\x83\\u00c3\\u0082\\\\x82\\u00c3\\u0083\\\\x82\\u00c3\\u0082\\\\x82\\u00c3\\u0083\\\\x83\\u00c3\\u0082\\\\x83\\u00c3\\u0083\\\\x82\\u00c3\\u0082\\\\x82\\u00c3\\u0083\\\\x83\\u00c3\\u0082\\\\x82\\u00c3\\u0083\\\\x82\\u00c3\\u0082\\u00c2\\u00b0Service :\\\\n- No complaints.\\\\n\\\\nHead to the place for a really good meal \\\\U0001f929\\u00c3\\u0083\\\\x83\\u00c3\\u0082\\\\x83\\u00c3\\u0083\\\\x82\\u00c3\\u0082\\\\x83\\u00c3\\u0083\\\\x83\\u00c3\\u0082\\\\x82\\u00c3\\u0083\\\\x82\\u00c3\\u0082\\u00c2\\u00b0\\u00c3\\u0083\\\\x83\\u00c3\\u0082\\\\x83\\u00c3\\u0083\\\\x82\\u00c3\\u0082\\\\x82\\u00c3\\u0083\\\\x83\\u00c3\\u0082\\\\x82\\u00c3\\u0083\\\\x82\\u00c3\\u0082\\\\x9f\\u00c3\\u0083\\\\x83\\u00c3\\u0082\\\\x83\\u00c3\\u0083\\\\x82\\u00c3\\u0082\\\\x82\\u00c3\\u0083\\\\x83\\u00c3\\u0082\\\\x82\\u00c3\\u0083\\\\x82\\u00c3\\u0082\\\\x91\\u00c3\\u0083\\\\x83\\u00c3\\u0082\\\\x83\\u00c3\\u0083\\\\x82\\u00c3\\u0082\\\\x82\\u00c3\\u0083\\\\x83\\u00c3\\u0082\\\\x82\\u00c3\\u0083\\\\x82\\u00c3\\u0082\\\\x8d\\u00c3\\u0083\\\\x83\\u00c3\\u0082\\\\x83\\u00c3\\u0083\\\\x82\\u00c3\\u0082\\\\x83\\u00c3\\u0083\\\\x83\\u00c3\\u0082\\\\x82\\u00c3\\u0083\\\\x82\\u00c3\\u0082\\u00c2\\u00b0\\u00c3\\u0083\\\\x83\\u00c3\\u0082\\\\x83\\u00c3\\u0083\\\\x82\\u00c3\\u0082\\\\x82\\u00c3\\u0083\\\\x83\\u00c3\\u0082\\\\x82\\u00c3\\u0083\\\\x82\\u00c3\\u0082\\\\x9f\\u00c3\\u0083\\\\x83\\u00c3\\u0082\\\\x83\\u00c3\\u0083\\\\x82\\u00c3\\u0082\\\\x82\\u00c3\\u0083\\\\x83\\u00c3\\u0082\\\\x82\\u00c3\\u0083\\\\x82\\u00c3\\u0082\\\\x8f\\u00c3\\u0083\\\\x83\\u00c3\\u0082\\\\x83\\u00c3\\u0083\\\\x82\\u00c3\\u0082\\\\x82\\u00c3\\u0083\\\\x83\\u00c3\\u0082\\\\x82\\u00c3\\u0083\\\\x82\\u00c3\\u0082\\u00c2\\u00bc'), ('Rated 4.0', \\\"RATED\\\\n  It's always been my favorite place for sizzler. Cheese macroni sizzler was amazing. Btw everything they serve was worth trying (sizzlers) .\\\\nDidn't like the pasta tho.\\\\n\\\\nFood- 4.5/5\\\\nAmbience- 4/5\\\\nService- 2.5/5 (it's very slow)\\\"), ('Rated 5.0', 'RATED\\\\n  I have not had such a nice food in a really long time. Their butter garlic prawns were the best I have had till date. Please try it if you visit the place. Also the pasta sizzler and fish steak both were delicious. I will certainly visit this place again and again. They are light on pocket also because of zomato gold. However the service could be fast. The food they offer is absolutely amazing.'), ('Rated 3.0', 'RATED\\\\n  The food is average and the prices are high. We order fish finger and it was disappointing to see that the fish content was really less, however the batter was so thick that there was hardly any taste of the fish in a bite. Similarly the flavours in the sizzlers were just okay and tasted more ketchupy'), ('Rated 4.0', 'RATED\\\\n  \\u00c3\\u0083\\\\x83\\u00c3\\u0082\\\\x83\\u00c3\\u0083\\\\x82\\u00c3\\u0082\\\\x83\\u00c3\\u0083\\\\x83\\u00c3\\u0082\\\\x82\\u00c3\\u0083\\\\x82\\u00c3\\u0082\\\\x82\\u00c3\\u0083\\\\x83\\u00c3\\u0082\\\\x83\\u00c3\\u0083\\\\x82\\u00c3\\u0082\\\\x82\\u00c3\\u0083\\\\x83\\u00c3\\u0082\\\\x82\\u00c3\\u0083\\\\x82\\u00c3\\u0082\\u00c2\\u00b0Ambience:\\\\n- Comfortable couches and chairs for seating\\\\n- Warm Woodsy decor\\\\n- Well lit \\u00c3\\u0083\\\\x83\\u00c3\\u0082\\\\x83\\u00c3\\u0083\\\\x82\\u00c3\\u0082\\\\x83\\u00c3\\u0083\\\\x83\\u00c3\\u0082\\\\x82\\u00c3\\u0083\\\\x82\\u00c3\\u0082\\u00c2\\u00a2\\u00c3\\u0083\\\\x83\\u00c3\\u0082\\\\x83\\u00c3\\u0083\\\\x82\\u00c3\\u0082\\\\x82\\u00c3\\u0083\\\\x83\\u00c3\\u0082\\\\x82\\u00c3\\u0083\\\\x82\\u00c3\\u0082\\\\x9c\\u00c3\\u0083\\\\x83\\u00c3\\u0082\\\\x83\\u00c3\\u0083\\\\x82\\u00c3\\u0082\\\\x82\\u00c3\\u0083\\\\x83\\u00c3\\u0082\\\\x82\\u00c3\\u0083\\\\x82\\u00c3\\u0082\\u00c2\\u00a8\\\\n- Good music\\\\n\\\\n\\u00c3\\u0083\\\\x83\\u00c3\\u0082\\\\x83\\u00c3\\u0083\\\\x82\\u00c3\\u0082\\\\x83\\u00c3\\u0083\\\\x83\\u00c3\\u0082\\\\x82\\u00c3\\u0083\\\\x82\\u00c3\\u0082\\\\x82\\u00c3\\u0083\\\\x83\\u00c3\\u0082\\\\x83\\u00c3\\u0083\\\\x82\\u00c3\\u0082\\\\x82\\u00c3\\u0083\\\\x83\\u00c3\\u0082\\\\x82\\u00c3\\u0083\\\\x82\\u00c3\\u0082\\u00c2\\u00b0Food:\\\\n- Very yummy food!\\\\n- Sizzlers, burgers and sandwiches available\\\\n- Recommend :\\\\n~ Butter garlic prawn, corn cheese bombs \\u00c3\\u0083\\\\x83\\u00c3\\u0082\\\\x83\\u00c3\\u0083\\\\x82\\u00c3\\u0082\\\\x83\\u00c3\\u0083\\\\x83\\u00c3\\u0082\\\\x82\\u00c3\\u0083\\\\x82\\u00c3\\u0082\\u00c2\\u00a2\\u00c3\\u0083\\\\x83\\u00c3\\u0082\\\\x83\\u00c3\\u0083\\\\x82\\u00c3\\u0082\\\\x82\\u00c3\\u0083\\\\x83\\u00c3\\u0082\\\\x82\\u00c3\\u0083\\\\x82\\u00c3\\u0082\\\\x9d\\u00c3\\u0083\\\\x83\\u00c3\\u0082\\\\x83\\u00c3\\u0083\\\\x82\\u00c3\\u0082\\\\x82\\u00c3\\u0083\\\\x83\\u00c3\\u0082\\\\x82\\u00c3\\u0083\\\\x82\\u00c3\\u0082\\u00c2\\u00a4\\\\n~ Pasta sizzlers is a good option for pasta lovers.\\\\n\\\\n\\u00c3\\u0083\\\\x83\\u00c3\\u0082\\\\x83\\u00c3\\u0083\\\\x82\\u00c3\\u0082\\\\x83\\u00c3\\u0083\\\\x83\\u00c3\\u0082\\\\x82\\u00c3\\u0083\\\\x82\\u00c3\\u0082\\\\x82\\u00c3\\u0083\\\\x83\\u00c3\\u0082\\\\x83\\u00c3\\u0083\\\\x82\\u00c3\\u0082\\\\x82\\u00c3\\u0083\\\\x83\\u00c3\\u0082\\\\x82\\u00c3\\u0083\\\\x82\\u00c3\\u0082\\u00c2\\u00b0Drinks :\\\\n- Wine\\\\n- Mocktails\\\\n\\\\n\\u00c3\\u0083\\\\x83\\u00c3\\u0082\\\\x83\\u00c3\\u0083\\\\x82\\u00c3\\u0082\\\\x83\\u00c3\\u0083\\\\x83\\u00c3\\u0082\\\\x82\\u00c3\\u0083\\\\x82\\u00c3\\u0082\\\\x82\\u00c3\\u0083\\\\x83\\u00c3\\u0082\\\\x83\\u00c3\\u0083\\\\x82\\u00c3\\u0082\\\\x82\\u00c3\\u0083\\\\x83\\u00c3\\u0082\\\\x82\\u00c3\\u0083\\\\x82\\u00c3\\u0082\\u00c2\\u00b0Desserts:\\\\n- Can be improved \\u00c3\\u0083\\\\x83\\u00c3\\u0082\\\\x83\\u00c3\\u0083\\\\x82\\u00c3\\u0082\\\\x83\\u00c3\\u0083\\\\x83\\u00c3\\u0082\\\\x82\\u00c3\\u0083\\\\x82\\u00c3\\u0082\\u00c2\\u00a2\\u00c3\\u0083\\\\x83\\u00c3\\u0082\\\\x83\\u00c3\\u0083\\\\x82\\u00c3\\u0082\\\\x82\\u00c3\\u0083\\\\x83\\u00c3\\u0082\\\\x82\\u00c3\\u0083\\\\x82\\u00c3\\u0082\\\\x9a\\u00c3\\u0083\\\\x83\\u00c3\\u0082\\\\x83\\u00c3\\u0083\\\\x82\\u00c3\\u0082\\\\x82\\u00c3\\u0083\\\\x83\\u00c3\\u0082\\\\x82\\u00c3\\u0083\\\\x82\\u00c3\\u0082\\\\xa0\\u00c3\\u0083\\\\x83\\u00c3\\u0082\\\\x83\\u00c3\\u0083\\\\x82\\u00c3\\u0082\\\\x83\\u00c3\\u0083\\\\x83\\u00c3\\u0082\\\\x82\\u00c3\\u0083\\\\x82\\u00c3\\u0082\\u00c2\\u00af\\u00c3\\u0083\\\\x83\\u00c3\\u0082\\\\x83\\u00c3\\u0083\\\\x82\\u00c3\\u0082\\\\x82\\u00c3\\u0083\\\\x83\\u00c3\\u0082\\\\x82\\u00c3\\u0083\\\\x82\\u00c3\\u0082\\u00c2\\u00b8\\u00c3\\u0083\\\\x83\\u00c3\\u0082\\\\x83\\u00c3\\u0083\\\\x82\\u00c3\\u0082\\\\x82\\u00c3\\u0083\\\\x83\\u00c3\\u0082\\\\x82\\u00c3\\u0083\\\\x82\\u00c3\\u0082\\\\x8f\\\\nNew York cheese cake was warm \\u00c3\\u0083\\\\x83\\u00c3\\u0082\\\\x83\\u00c3\\u0083\\\\x82\\u00c3\\u0082\\\\x83\\u00c3\\u0083\\\\x83\\u00c3\\u0082\\\\x82\\u00c3\\u0083\\\\x82\\u00c3\\u0082\\u00c2\\u00b0\\u00c3\\u0083\\\\x83\\u00c3\\u0082\\\\x83\\u00c3\\u0083\\\\x82\\u00c3\\u0082\\\\x82\\u00c3\\u0083\\\\x83\\u00c3\\u0082\\\\x82\\u00c3\\u0083\\\\x82\\u00c3\\u0082\\\\x9f\\u00c3\\u0083\\\\x83\\u00c3\\u0082\\\\x83\\u00c3\\u0083\\\\x82\\u00c3\\u0082\\\\x82\\u00c3\\u0083\\\\x83\\u00c3\\u0082\\\\x82\\u00c3\\u0083\\\\x82\\u00c3\\u0082\\\\x8d\\u00c3\\u0083\\\\x83\\u00c3\\u0082\\\\x83\\u00c3\\u0083\\\\x82\\u00c3\\u0082\\\\x82\\u00c3\\u0083\\\\x83\\u00c3\\u0082\\\\x82\\u00c3\\u0083\\\\x82\\u00c3\\u0082\\u00c2\\u00b0\\u00c3\\u0083\\\\x83\\u00c3\\u0082\\\\x83\\u00c3\\u0083\\\\x82\\u00c3\\u0082\\\\x83\\u00c3\\u0083\\\\x83\\u00c3\\u0082\\\\x82\\u00c3\\u0083\\\\x82\\u00c3\\u0082\\u00c2\\u00b0\\u00c3\\u0083\\\\x83\\u00c3\\u0082\\\\x83\\u00c3\\u0083\\\\x82\\u00c3\\u0082\\\\x82\\u00c3\\u0083\\\\x83\\u00c3\\u0082\\\\x82\\u00c3\\u0083\\\\x82\\u00c3\\u0082\\\\x9f\\u00c3\\u0083\\\\x83\\u00c3\\u0082\\\\x83\\u00c3\\u0083\\\\x82\\u00c3\\u0082\\\\x82\\u00c3\\u0083\\\\x83\\u00c3\\u0082\\\\x82\\u00c3\\u0083\\\\x82\\u00c3\\u0082\\\\x91\\u00c3\\u0083\\\\x83\\u00c3\\u0082\\\\x83\\u00c3\\u0083\\\\x82\\u00c3\\u0082\\\\x82\\u00c3\\u0083\\\\x83\\u00c3\\u0082\\\\x82\\u00c3\\u0083\\\\x82\\u00c3\\u0082\\\\x8e\\u00c3\\u0083\\\\x83\\u00c3\\u0082\\\\x83\\u00c3\\u0083\\\\x82\\u00c3\\u0082\\\\x83\\u00c3\\u0083\\\\x83\\u00c3\\u0082\\\\x82\\u00c3\\u0083\\\\x82\\u00c3\\u0082\\u00c2\\u00b0\\u00c3\\u0083\\\\x83\\u00c3\\u0082\\\\x83\\u00c3\\u0083\\\\x82\\u00c3\\u0082\\\\x82\\u00c3\\u0083\\\\x83\\u00c3\\u0082\\\\x82\\u00c3\\u0083\\\\x82\\u00c3\\u0082\\\\x9f\\u00c3\\u0083\\\\x83\\u00c3\\u0082\\\\x83\\u00c3\\u0083\\\\x82\\u00c3\\u0082\\\\x82\\u00c3\\u0083\\\\x83\\u00c3\\u0082\\\\x82\\u00c3\\u0083\\\\x82\\u00c3\\u0082\\\\x8f\\u00c3\\u0083\\\\x83\\u00c3\\u0082\\\\x83\\u00c3\\u0083\\\\x82\\u00c3\\u0082\\\\x82\\u00c3\\u0083\\\\x83\\u00c3\\u0082\\\\x82\\u00c3\\u0083\\\\x82\\u00c3\\u0082\\u00c2\\u00bc\\\\nSizzling brownie - the brownie was good but the chocolate sauce had a burnt taste as the sizzlers was too hot than it should have been. \\u00c3\\u0083\\\\x83\\u00c3\\u0082\\\\x83\\u00c3\\u0083\\\\x82\\u00c3\\u0082\\\\x83\\u00c3\\u0083\\\\x83\\u00c3\\u0082\\\\x82\\u00c3\\u0083\\\\x82\\u00c3\\u0082\\u00c2\\u00b0\\u00c3\\u0083\\\\x83\\u00c3\\u0082\\\\x83\\u00c3\\u0083\\\\x82\\u00c3\\u0082\\\\x82\\u00c3\\u0083\\\\x83\\u00c3\\u0082\\\\x82\\u00c3\\u0083\\\\x82\\u00c3\\u0082\\\\x9f\\u00c3\\u0083\\\\x83\\u00c3\\u0082\\\\x83\\u00c3\\u0083\\\\x82\\u00c3\\u0082\\\\x82\\u00c3\\u0083\\\\x83\\u00c3\\u0082\\\\x82\\u00c3\\u0083\\\\x82\\u00c3\\u0082\\\\x91\\u00c3\\u0083\\\\x83\\u00c3\\u0082\\\\x83\\u00c3\\u0083\\\\x82\\u00c3\\u0082\\\\x82\\u00c3\\u0083\\\\x83\\u00c3\\u0082\\\\x82\\u00c3\\u0083\\\\x82\\u00c3\\u0082\\\\x8e\\u00c3\\u0083\\\\x83\\u00c3\\u0082\\\\x83\\u00c3\\u0083\\\\x82\\u00c3\\u0082\\\\x83\\u00c3\\u0083\\\\x83\\u00c3\\u0082\\\\x82\\u00c3\\u0083\\\\x82\\u00c3\\u0082\\u00c2\\u00b0\\u00c3\\u0083\\\\x83\\u00c3\\u0082\\\\x83\\u00c3\\u0083\\\\x82\\u00c3\\u0082\\\\x82\\u00c3\\u0083\\\\x83\\u00c3\\u0082\\\\x82\\u00c3\\u0083\\\\x82\\u00c3\\u0082\\\\x9f\\u00c3\\u0083\\\\x83\\u00c3\\u0082\\\\x83\\u00c3\\u0083\\\\x82\\u00c3\\u0082\\\\x82\\u00c3\\u0083\\\\x83\\u00c3\\u0082\\\\x82\\u00c3\\u0083\\\\x82\\u00c3\\u0082\\\\x8f\\u00c3\\u0083\\\\x83\\u00c3\\u0082\\\\x83\\u00c3\\u0083\\\\x82\\u00c3\\u0082\\\\x82\\u00c3\\u0083\\\\x83\\u00c3\\u0082\\\\x82\\u00c3\\u0083\\\\x82\\u00c3\\u0082\\u00c2\\u00bc\\\\n\\\\n\\u00c3\\u0083\\\\x83\\u00c3\\u0082\\\\x83\\u00c3\\u0083\\\\x82\\u00c3\\u0082\\\\x83\\u00c3\\u0083\\\\x83\\u00c3\\u0082\\\\x82\\u00c3\\u0083\\\\x82\\u00c3\\u0082\\\\x82\\u00c3\\u0083\\\\x83\\u00c3\\u0082\\\\x83\\u00c3\\u0083\\\\x82\\u00c3\\u0082\\\\x82\\u00c3\\u0083\\\\x83\\u00c3\\u0082\\\\x82\\u00c3\\u0083\\\\x82\\u00c3\\u0082\\u00c2\\u00b0Menu:\\\\n- Veg and Non veg dishes available\\\\n- Decent portions \\u00c3\\u0083\\\\x83\\u00c3\\u0082\\\\x83\\u00c3\\u0083\\\\x82\\u00c3\\u0082\\\\x83\\u00c3\\u0083\\\\x83\\u00c3\\u0082\\\\x82\\u00c3\\u0083\\\\x82\\u00c3\\u0082\\u00c2\\u00a2\\u00c3\\u0083\\\\x83\\u00c3\\u0082\\\\x83\\u00c3\\u0083\\\\x82\\u00c3\\u0082\\\\x82\\u00c3\\u0083\\\\x83\\u00c3\\u0082\\\\x82\\u00c3\\u0083\\\\x82\\u00c3\\u0082\\\\xad\\u00c3\\u0083\\\\x83\\u00c3\\u0082\\\\x83\\u00c3\\u0083\\\\x82\\u00c3\\u0082\\\\x82\\u00c3\\u0083\\\\x83\\u00c3\\u0082\\\\x82\\u00c3\\u0083\\\\x82\\u00c3\\u0082\\\\x90\\\\n\\\\n\\u00c3\\u0083\\\\x83\\u00c3\\u0082\\\\x83\\u00c3\\u0083\\\\x82\\u00c3\\u0082\\\\x83\\u00c3\\u0083\\\\x83\\u00c3\\u0082\\\\x82\\u00c3\\u0083\\\\x82\\u00c3\\u0082\\\\x82\\u00c3\\u0083\\\\x83\\u00c3\\u0082\\\\x83\\u00c3\\u0083\\\\x82\\u00c3\\u0082\\\\x82\\u00c3\\u0083\\\\x83\\u00c3\\u0082\\\\x82\\u00c3\\u0083\\\\x82\\u00c3\\u0082\\u00c2\\u00b0Service :\\\\n- No complaints.\\\\n\\\\nHead to the place for a really good meal \\\\U0001f929\\u00c3\\u0083\\\\x83\\u00c3\\u0082\\\\x83\\u00c3\\u0083\\\\x82\\u00c3\\u0082\\\\x83\\u00c3\\u0083\\\\x83\\u00c3\\u0082\\\\x82\\u00c3\\u0083\\\\x82\\u00c3\\u0082\\u00c2\\u00b0\\u00c3\\u0083\\\\x83\\u00c3\\u0082\\\\x83\\u00c3\\u0083\\\\x82\\u00c3\\u0082\\\\x82\\u00c3\\u0083\\\\x83\\u00c3\\u0082\\\\x82\\u00c3\\u0083\\\\x82\\u00c3\\u0082\\\\x9f\\u00c3\\u0083\\\\x83\\u00c3\\u0082\\\\x83\\u00c3\\u0083\\\\x82\\u00c3\\u0082\\\\x82\\u00c3\\u0083\\\\x83\\u00c3\\u0082\\\\x82\\u00c3\\u0083\\\\x82\\u00c3\\u0082\\\\x91\\u00c3\\u0083\\\\x83\\u00c3\\u0082\\\\x83\\u00c3\\u0083\\\\x82\\u00c3\\u0082\\\\x82\\u00c3\\u0083\\\\x83\\u00c3\\u0082\\\\x82\\u00c3\\u0083\\\\x82\\u00c3\\u0082\\\\x8d\\u00c3\\u0083\\\\x83\\u00c3\\u0082\\\\x83\\u00c3\\u0083\\\\x82\\u00c3\\u0082\\\\x83\\u00c3\\u0083\\\\x83\\u00c3\\u0082\\\\x82\\u00c3\\u0083\\\\x82\\u00c3\\u0082\\u00c2\\u00b0\\u00c3\\u0083\\\\x83\\u00c3\\u0082\\\\x83\\u00c3\\u0083\\\\x82\\u00c3\\u0082\\\\x82\\u00c3\\u0083\\\\x83\\u00c3\\u0082\\\\x82\\u00c3\\u0083\\\\x82\\u00c3\\u0082\\\\x9f\\u00c3\\u0083\\\\x83\\u00c3\\u0082\\\\x83\\u00c3\\u0083\\\\x82\\u00c3\\u0082\\\\x82\\u00c3\\u0083\\\\x83\\u00c3\\u0082\\\\x82\\u00c3\\u0083\\\\x82\\u00c3\\u0082\\\\x8f\\u00c3\\u0083\\\\x83\\u00c3\\u0082\\\\x83\\u00c3\\u0083\\\\x82\\u00c3\\u0082\\\\x82\\u00c3\\u0083\\\\x83\\u00c3\\u0082\\\\x82\\u00c3\\u0083\\\\x82\\u00c3\\u0082\\u00c2\\u00bc'), ('Rated 4.0', 'RATED\\\\n  Perfect place to have smoke, smoking sizzler. Good combination of spices every time. Must visit place for sizzler lover from Bangalore. We reached there around 7:45 on Saturday restaurant was half full. Food took longer time, but it\\u00c3\\u0083\\\\x83\\u00c3\\u0082\\\\x83\\u00c3\\u0083\\\\x82\\u00c3\\u0082\\\\x83\\u00c3\\u0083\\\\x83\\u00c3\\u0082\\\\x82\\u00c3\\u0083\\\\x82\\u00c3\\u0082\\u00c2\\u00a2\\u00c3\\u0083\\\\x83\\u00c3\\u0082\\\\x83\\u00c3\\u0083\\\\x82\\u00c3\\u0082\\\\x82\\u00c3\\u0083\\\\x83\\u00c3\\u0082\\\\x82\\u00c3\\u0083\\\\x82\\u00c3\\u0082\\\\x80\\u00c3\\u0083\\\\x83\\u00c3\\u0082\\\\x83\\u00c3\\u0083\\\\x82\\u00c3\\u0082\\\\x82\\u00c3\\u0083\\\\x83\\u00c3\\u0082\\\\x82\\u00c3\\u0083\\\\x82\\u00c3\\u0082\\\\x99s worth waiting for mouthwatering food. And yeah Zomato gold makes it perfect.'), ('Rated 5.0', 'RATED\\\\n  Awesome food and very good ambience.Even the service is also very good......Especially the sizzlers is amazing and worth for the money.......'), ('Rated 4.0', 'RATED\\\\n  Awesome ambience! Loved it. Food was equally delicious. We ordered cheesy macaroni sizzler and paneer charmouli sizzler. Both was up to the mark. Would like to visit again for trying out other dishes.'), ('Rated 3.0', 'RATED\\\\n  A decent place for sizzlers, they have got a nice ambience and music selection is good! My first visit was delightful, we ordered the chicken stroganoff sizzler and the malai tikka sizzler. Both were pretty great, wasn\\u00c3\\u0083\\\\x83\\u00c3\\u0082\\\\x83\\u00c3\\u0083\\\\x82\\u00c3\\u0082\\\\x83\\u00c3\\u0083\\\\x83\\u00c3\\u0082\\\\x82\\u00c3\\u0083\\\\x82\\u00c3\\u0082\\u00c2\\u00a2\\u00c3\\u0083\\\\x83\\u00c3\\u0082\\\\x83\\u00c3\\u0083\\\\x82\\u00c3\\u0082\\\\x82\\u00c3\\u0083\\\\x83\\u00c3\\u0082\\\\x82\\u00c3\\u0083\\\\x82\\u00c3\\u0082\\\\x80\\u00c3\\u0083\\\\x83\\u00c3\\u0082\\\\x83\\u00c3\\u0083\\\\x82\\u00c3\\u0082\\\\x82\\u00c3\\u0083\\\\x83\\u00c3\\u0082\\\\x82\\u00c3\\u0083\\\\x82\\u00c3\\u0082\\\\x99t a big fan of the veggies though. Another day, I ordered the grilled fish sizzler and didn\\u00c3\\u0083\\\\x83\\u00c3\\u0082\\\\x83\\u00c3\\u0083\\\\x82\\u00c3\\u0082\\\\x83\\u00c3\\u0083\\\\x83\\u00c3\\u0082\\\\x82\\u00c3\\u0083\\\\x82\\u00c3\\u0082\\u00c2\\u00a2\\u00c3\\u0083\\\\x83\\u00c3\\u0082\\\\x83\\u00c3\\u0083\\\\x82\\u00c3\\u0082\\\\x82\\u00c3\\u0083\\\\x83\\u00c3\\u0082\\\\x82\\u00c3\\u0083\\\\x82\\u00c3\\u0082\\\\x80\\u00c3\\u0083\\\\x83\\u00c3\\u0082\\\\x83\\u00c3\\u0083\\\\x82\\u00c3\\u0082\\\\x82\\u00c3\\u0083\\\\x83\\u00c3\\u0082\\\\x82\\u00c3\\u0083\\\\x82\\u00c3\\u0082\\\\x99t really like it. The fish didn\\u00c3\\u0083\\\\x83\\u00c3\\u0082\\\\x83\\u00c3\\u0083\\\\x82\\u00c3\\u0082\\\\x83\\u00c3\\u0083\\\\x83\\u00c3\\u0082\\\\x82\\u00c3\\u0083\\\\x82\\u00c3\\u0082\\u00c2\\u00a2\\u00c3\\u0083\\\\x83\\u00c3\\u0082\\\\x83\\u00c3\\u0083\\\\x82\\u00c3\\u0082\\\\x82\\u00c3\\u0083\\\\x83\\u00c3\\u0082\\\\x82\\u00c3\\u0083\\\\x82\\u00c3\\u0082\\\\x80\\u00c3\\u0083\\\\x83\\u00c3\\u0082\\\\x83\\u00c3\\u0083\\\\x82\\u00c3\\u0082\\\\x82\\u00c3\\u0083\\\\x83\\u00c3\\u0082\\\\x82\\u00c3\\u0083\\\\x82\\u00c3\\u0082\\\\x99t seem to be very fresh and that affected the whole meal. Overall, I\\u00c3\\u0083\\\\x83\\u00c3\\u0082\\\\x83\\u00c3\\u0083\\\\x82\\u00c3\\u0082\\\\x83\\u00c3\\u0083\\\\x83\\u00c3\\u0082\\\\x82\\u00c3\\u0083\\\\x82\\u00c3\\u0082\\u00c2\\u00a2\\u00c3\\u0083\\\\x83\\u00c3\\u0082\\\\x83\\u00c3\\u0083\\\\x82\\u00c3\\u0082\\\\x82\\u00c3\\u0083\\\\x83\\u00c3\\u0082\\\\x82\\u00c3\\u0083\\\\x82\\u00c3\\u0082\\\\x80\\u00c3\\u0083\\\\x83\\u00c3\\u0082\\\\x83\\u00c3\\u0083\\\\x82\\u00c3\\u0082\\\\x82\\u00c3\\u0083\\\\x83\\u00c3\\u0082\\\\x82\\u00c3\\u0083\\\\x82\\u00c3\\u0082\\\\x99d say this place is good.'), ('Rated 2.0', \\\"RATED\\\\n  Was here on my birthday with a bunch of friends.\\\\nNow I didn't like this place as much, neither did my friends. In all honesty the place was very good with it's decor and the layout - beautiful architecture! Points for that.\\\\nFood - okay. Nothing to die for. I liked one of the starter, Cajun cheese fingers, but that's it. They did get the basic buffalo wings terribly wrong though. I mean, how did that happen!? The price too is a little high for the satisfaction that is missing from their food.\\\\nI will probably give it another shot but only after a really long while.\\\\nAlthough if you want a quiet place to have drinks with your friends, you can go here.\\\"), ('Rated 4.0', 'RATED\\\\n  Perfect place to have smoke, smoking sizzler. Good combination of spices every time. Must visit place for sizzler lover from Bangalore. We reached there around 7:45 on Saturday restaurant was half full. Food took longer time, but it\\u00c3\\u0083\\\\x83\\u00c3\\u0082\\\\x83\\u00c3\\u0083\\\\x82\\u00c3\\u0082\\\\x83\\u00c3\\u0083\\\\x83\\u00c3\\u0082\\\\x82\\u00c3\\u0083\\\\x82\\u00c3\\u0082\\u00c2\\u00a2\\u00c3\\u0083\\\\x83\\u00c3\\u0082\\\\x83\\u00c3\\u0083\\\\x82\\u00c3\\u0082\\\\x82\\u00c3\\u0083\\\\x83\\u00c3\\u0082\\\\x82\\u00c3\\u0083\\\\x82\\u00c3\\u0082\\\\x80\\u00c3\\u0083\\\\x83\\u00c3\\u0082\\\\x83\\u00c3\\u0083\\\\x82\\u00c3\\u0082\\\\x82\\u00c3\\u0083\\\\x83\\u00c3\\u0082\\\\x82\\u00c3\\u0083\\\\x82\\u00c3\\u0082\\\\x99s worth waiting for mouthwatering food. And yeah Zomato gold makes it perfect.'), ('Rated 5.0', 'RATED\\\\n  Awesome food and very good ambience.Even the service is also very good......Especially the sizzlers is amazing and worth for the money.......'), ('Rated 4.0', 'RATED\\\\n  Awesome ambience! Loved it. Food was equally delicious. We ordered cheesy macaroni sizzler and paneer charmouli sizzler. Both was up to the mark. Would like to visit again for trying out other dishes.'), ('Rated 3.0', 'RATED\\\\n  A decent place for sizzlers, they have got a nice ambience and music selection is good! My first visit was delightful, we ordered the chicken stroganoff sizzler and the malai tikka sizzler. Both were pretty great, wasn\\u00c3\\u0083\\\\x83\\u00c3\\u0082\\\\x83\\u00c3\\u0083\\\\x82\\u00c3\\u0082\\\\x83\\u00c3\\u0083\\\\x83\\u00c3\\u0082\\\\x82\\u00c3\\u0083\\\\x82\\u00c3\\u0082\\u00c2\\u00a2\\u00c3\\u0083\\\\x83\\u00c3\\u0082\\\\x83\\u00c3\\u0083\\\\x82\\u00c3\\u0082\\\\x82\\u00c3\\u0083\\\\x83\\u00c3\\u0082\\\\x82\\u00c3\\u0083\\\\x82\\u00c3\\u0082\\\\x80\\u00c3\\u0083\\\\x83\\u00c3\\u0082\\\\x83\\u00c3\\u0083\\\\x82\\u00c3\\u0082\\\\x82\\u00c3\\u0083\\\\x83\\u00c3\\u0082\\\\x82\\u00c3\\u0083\\\\x82\\u00c3\\u0082\\\\x99t a big fan of the veggies though. Another day, I ordered the grilled fish sizzler and didn\\u00c3\\u0083\\\\x83\\u00c3\\u0082\\\\x83\\u00c3\\u0083\\\\x82\\u00c3\\u0082\\\\x83\\u00c3\\u0083\\\\x83\\u00c3\\u0082\\\\x82\\u00c3\\u0083\\\\x82\\u00c3\\u0082\\u00c2\\u00a2\\u00c3\\u0083\\\\x83\\u00c3\\u0082\\\\x83\\u00c3\\u0083\\\\x82\\u00c3\\u0082\\\\x82\\u00c3\\u0083\\\\x83\\u00c3\\u0082\\\\x82\\u00c3\\u0083\\\\x82\\u00c3\\u0082\\\\x80\\u00c3\\u0083\\\\x83\\u00c3\\u0082\\\\x83\\u00c3\\u0083\\\\x82\\u00c3\\u0082\\\\x82\\u00c3\\u0083\\\\x83\\u00c3\\u0082\\\\x82\\u00c3\\u0083\\\\x82\\u00c3\\u0082\\\\x99t really like it. The fish didn\\u00c3\\u0083\\\\x83\\u00c3\\u0082\\\\x83\\u00c3\\u0083\\\\x82\\u00c3\\u0082\\\\x83\\u00c3\\u0083\\\\x83\\u00c3\\u0082\\\\x82\\u00c3\\u0083\\\\x82\\u00c3\\u0082\\u00c2\\u00a2\\u00c3\\u0083\\\\x83\\u00c3\\u0082\\\\x83\\u00c3\\u0083\\\\x82\\u00c3\\u0082\\\\x82\\u00c3\\u0083\\\\x83\\u00c3\\u0082\\\\x82\\u00c3\\u0083\\\\x82\\u00c3\\u0082\\\\x80\\u00c3\\u0083\\\\x83\\u00c3\\u0082\\\\x83\\u00c3\\u0083\\\\x82\\u00c3\\u0082\\\\x82\\u00c3\\u0083\\\\x83\\u00c3\\u0082\\\\x82\\u00c3\\u0083\\\\x82\\u00c3\\u0082\\\\x99t seem to be very fresh and that affected the whole meal. Overall, I\\u00c3\\u0083\\\\x83\\u00c3\\u0082\\\\x83\\u00c3\\u0083\\\\x82\\u00c3\\u0082\\\\x83\\u00c3\\u0083\\\\x83\\u00c3\\u0082\\\\x82\\u00c3\\u0083\\\\x82\\u00c3\\u0082\\u00c2\\u00a2\\u00c3\\u0083\\\\x83\\u00c3\\u0082\\\\x83\\u00c3\\u0083\\\\x82\\u00c3\\u0082\\\\x82\\u00c3\\u0083\\\\x83\\u00c3\\u0082\\\\x82\\u00c3\\u0083\\\\x82\\u00c3\\u0082\\\\x80\\u00c3\\u0083\\\\x83\\u00c3\\u0082\\\\x83\\u00c3\\u0083\\\\x82\\u00c3\\u0082\\\\x82\\u00c3\\u0083\\\\x83\\u00c3\\u0082\\\\x82\\u00c3\\u0083\\\\x82\\u00c3\\u0082\\\\x99d say this place is good.'), ('Rated 2.0', \\\"RATED\\\\n  Was here on my birthday with a bunch of friends.\\\\nNow I didn't like this place as much, neither did my friends. In all honesty the place was very good with it's decor and the layout - beautiful architecture! Points for that.\\\\nFood - okay. Nothing to die for. I liked one of the starter, Cajun cheese fingers, but that's it. They did get the basic buffalo wings terribly wrong though. I mean, how did that happen!? The price too is a little high for the satisfaction that is missing from their food.\\\\nI will probably give it another shot but only after a really long while.\\\\nAlthough if you want a quiet place to have drinks with your friends, you can go here.\\\"), ('Rated 4.0', 'RATED\\\\n  Perfect place to have smoke, smoking sizzler. Good combination of spices every time. Must visit place for sizzler lover from Bangalore. We reached there around 7:45 on Saturday restaurant was half full. Food took longer time, but it\\u00c3\\u0083\\\\x83\\u00c3\\u0082\\\\x83\\u00c3\\u0083\\\\x82\\u00c3\\u0082\\\\x83\\u00c3\\u0083\\\\x83\\u00c3\\u0082\\\\x82\\u00c3\\u0083\\\\x82\\u00c3\\u0082\\u00c2\\u00a2\\u00c3\\u0083\\\\x83\\u00c3\\u0082\\\\x83\\u00c3\\u0083\\\\x82\\u00c3\\u0082\\\\x82\\u00c3\\u0083\\\\x83\\u00c3\\u0082\\\\x82\\u00c3\\u0083\\\\x82\\u00c3\\u0082\\\\x80\\u00c3\\u0083\\\\x83\\u00c3\\u0082\\\\x83\\u00c3\\u0083\\\\x82\\u00c3\\u0082\\\\x82\\u00c3\\u0083\\\\x83\\u00c3\\u0082\\\\x82\\u00c3\\u0083\\\\x82\\u00c3\\u0082\\\\x99s worth waiting for mouthwatering food. And yeah Zomato gold makes it perfect.'), ('Rated 5.0', 'RATED\\\\n  Awesome food and very good ambience.Even the service is also very good......Especially the sizzlers is amazing and worth for the money.......'), ('Rated 4.0', 'RATED\\\\n  Awesome ambience! Loved it. Food was equally delicious. We ordered cheesy macaroni sizzler and paneer charmouli sizzler. Both was up to the mark. Would like to visit again for trying out other dishes.'), ('Rated 3.0', 'RATED\\\\n  A decent place for sizzlers, they have got a nice ambience and music selection is good! My first visit was delightful, we ordered the chicken stroganoff sizzler and the malai tikka sizzler. Both were pretty great, wasn\\u00c3\\u0083\\\\x83\\u00c3\\u0082\\\\x83\\u00c3\\u0083\\\\x82\\u00c3\\u0082\\\\x83\\u00c3\\u0083\\\\x83\\u00c3\\u0082\\\\x82\\u00c3\\u0083\\\\x82\\u00c3\\u0082\\u00c2\\u00a2\\u00c3\\u0083\\\\x83\\u00c3\\u0082\\\\x83\\u00c3\\u0083\\\\x82\\u00c3\\u0082\\\\x82\\u00c3\\u0083\\\\x83\\u00c3\\u0082\\\\x82\\u00c3\\u0083\\\\x82\\u00c3\\u0082\\\\x80\\u00c3\\u0083\\\\x83\\u00c3\\u0082\\\\x83\\u00c3\\u0083\\\\x82\\u00c3\\u0082\\\\x82\\u00c3\\u0083\\\\x83\\u00c3\\u0082\\\\x82\\u00c3\\u0083\\\\x82\\u00c3\\u0082\\\\x99t a big fan of the veggies though. Another day, I ordered the grilled fish sizzler and didn\\u00c3\\u0083\\\\x83\\u00c3\\u0082\\\\x83\\u00c3\\u0083\\\\x82\\u00c3\\u0082\\\\x83\\u00c3\\u0083\\\\x83\\u00c3\\u0082\\\\x82\\u00c3\\u0083\\\\x82\\u00c3\\u0082\\u00c2\\u00a2\\u00c3\\u0083\\\\x83\\u00c3\\u0082\\\\x83\\u00c3\\u0083\\\\x82\\u00c3\\u0082\\\\x82\\u00c3\\u0083\\\\x83\\u00c3\\u0082\\\\x82\\u00c3\\u0083\\\\x82\\u00c3\\u0082\\\\x80\\u00c3\\u0083\\\\x83\\u00c3\\u0082\\\\x83\\u00c3\\u0083\\\\x82\\u00c3\\u0082\\\\x82\\u00c3\\u0083\\\\x83\\u00c3\\u0082\\\\x82\\u00c3\\u0083\\\\x82\\u00c3\\u0082\\\\x99t really like it. The fish didn\\u00c3\\u0083\\\\x83\\u00c3\\u0082\\\\x83\\u00c3\\u0083\\\\x82\\u00c3\\u0082\\\\x83\\u00c3\\u0083\\\\x83\\u00c3\\u0082\\\\x82\\u00c3\\u0083\\\\x82\\u00c3\\u0082\\u00c2\\u00a2\\u00c3\\u0083\\\\x83\\u00c3\\u0082\\\\x83\\u00c3\\u0083\\\\x82\\u00c3\\u0082\\\\x82\\u00c3\\u0083\\\\x83\\u00c3\\u0082\\\\x82\\u00c3\\u0083\\\\x82\\u00c3\\u0082\\\\x80\\u00c3\\u0083\\\\x83\\u00c3\\u0082\\\\x83\\u00c3\\u0083\\\\x82\\u00c3\\u0082\\\\x82\\u00c3\\u0083\\\\x83\\u00c3\\u0082\\\\x82\\u00c3\\u0083\\\\x82\\u00c3\\u0082\\\\x99t seem to be very fresh and that affected the whole meal. Overall, I\\u00c3\\u0083\\\\x83\\u00c3\\u0082\\\\x83\\u00c3\\u0083\\\\x82\\u00c3\\u0082\\\\x83\\u00c3\\u0083\\\\x83\\u00c3\\u0082\\\\x82\\u00c3\\u0083\\\\x82\\u00c3\\u0082\\u00c2\\u00a2\\u00c3\\u0083\\\\x83\\u00c3\\u0082\\\\x83\\u00c3\\u0083\\\\x82\\u00c3\\u0082\\\\x82\\u00c3\\u0083\\\\x83\\u00c3\\u0082\\\\x82\\u00c3\\u0083\\\\x82\\u00c3\\u0082\\\\x80\\u00c3\\u0083\\\\x83\\u00c3\\u0082\\\\x83\\u00c3\\u0083\\\\x82\\u00c3\\u0082\\\\x82\\u00c3\\u0083\\\\x83\\u00c3\\u0082\\\\x82\\u00c3\\u0083\\\\x82\\u00c3\\u0082\\\\x99d say this place is good.'), ('Rated 2.0', \\\"RATED\\\\n  Was here on my birthday with a bunch of friends.\\\\nNow I didn't like this place as much, neither did my friends. In all honesty the place was very good with it's decor and the layout - beautiful architecture! Points for that.\\\\nFood - okay. Nothing to die for. I liked one of the starter, Cajun cheese fingers, but that's it. They did get the basic buffalo wings terribly wrong though. I mean, how did that happen!? The price too is a little high for the satisfaction that is missing from their food.\\\\nI will probably give it another shot but only after a really long while.\\\\nAlthough if you want a quiet place to have drinks with your friends, you can go here.\\\"), ('Rated 4.0', 'RATED\\\\n  Perfect place to have smoke, smoking sizzler. Good combination of spices every time. Must visit place for sizzler lover from Bangalore. We reached there around 7:45 on Saturday restaurant was half full. Food took longer time, but it\\u00c3\\u0083\\\\x83\\u00c3\\u0082\\\\x83\\u00c3\\u0083\\\\x82\\u00c3\\u0082\\\\x83\\u00c3\\u0083\\\\x83\\u00c3\\u0082\\\\x82\\u00c3\\u0083\\\\x82\\u00c3\\u0082\\u00c2\\u00a2\\u00c3\\u0083\\\\x83\\u00c3\\u0082\\\\x83\\u00c3\\u0083\\\\x82\\u00c3\\u0082\\\\x82\\u00c3\\u0083\\\\x83\\u00c3\\u0082\\\\x82\\u00c3\\u0083\\\\x82\\u00c3\\u0082\\\\x80\\u00c3\\u0083\\\\x83\\u00c3\\u0082\\\\x83\\u00c3\\u0083\\\\x82\\u00c3\\u0082\\\\x82\\u00c3\\u0083\\\\x83\\u00c3\\u0082\\\\x82\\u00c3\\u0083\\\\x82\\u00c3\\u0082\\\\x99s worth waiting for mouthwatering food. And yeah Zomato gold makes it perfect.'), ('Rated 5.0', 'RATED\\\\n  Awesome food and very good ambience.Even the service is also very good......Especially the sizzlers is amazing and worth for the money.......'), ('Rated 4.0', 'RATED\\\\n  Awesome ambience! Loved it. Food was equally delicious. We ordered cheesy macaroni sizzler and paneer charmouli sizzler. Both was up to the mark. Would like to visit again for trying out other dishes.'), ('Rated 3.0', 'RATED\\\\n  A decent place for sizzlers, they have got a nice ambience and music selection is good! My first visit was delightful, we ordered the chicken stroganoff sizzler and the malai tikka sizzler. Both were pretty great, wasn\\u00c3\\u0083\\\\x83\\u00c3\\u0082\\\\x83\\u00c3\\u0083\\\\x82\\u00c3\\u0082\\\\x83\\u00c3\\u0083\\\\x83\\u00c3\\u0082\\\\x82\\u00c3\\u0083\\\\x82\\u00c3\\u0082\\u00c2\\u00a2\\u00c3\\u0083\\\\x83\\u00c3\\u0082\\\\x83\\u00c3\\u0083\\\\x82\\u00c3\\u0082\\\\x82\\u00c3\\u0083\\\\x83\\u00c3\\u0082\\\\x82\\u00c3\\u0083\\\\x82\\u00c3\\u0082\\\\x80\\u00c3\\u0083\\\\x83\\u00c3\\u0082\\\\x83\\u00c3\\u0083\\\\x82\\u00c3\\u0082\\\\x82\\u00c3\\u0083\\\\x83\\u00c3\\u0082\\\\x82\\u00c3\\u0083\\\\x82\\u00c3\\u0082\\\\x99t a big fan of the veggies though. Another day, I ordered the grilled fish sizzler and didn\\u00c3\\u0083\\\\x83\\u00c3\\u0082\\\\x83\\u00c3\\u0083\\\\x82\\u00c3\\u0082\\\\x83\\u00c3\\u0083\\\\x83\\u00c3\\u0082\\\\x82\\u00c3\\u0083\\\\x82\\u00c3\\u0082\\u00c2\\u00a2\\u00c3\\u0083\\\\x83\\u00c3\\u0082\\\\x83\\u00c3\\u0083\\\\x82\\u00c3\\u0082\\\\x82\\u00c3\\u0083\\\\x83\\u00c3\\u0082\\\\x82\\u00c3\\u0083\\\\x82\\u00c3\\u0082\\\\x80\\u00c3\\u0083\\\\x83\\u00c3\\u0082\\\\x83\\u00c3\\u0083\\\\x82\\u00c3\\u0082\\\\x82\\u00c3\\u0083\\\\x83\\u00c3\\u0082\\\\x82\\u00c3\\u0083\\\\x82\\u00c3\\u0082\\\\x99t really like it. The fish didn\\u00c3\\u0083\\\\x83\\u00c3\\u0082\\\\x83\\u00c3\\u0083\\\\x82\\u00c3\\u0082\\\\x83\\u00c3\\u0083\\\\x83\\u00c3\\u0082\\\\x82\\u00c3\\u0083\\\\x82\\u00c3\\u0082\\u00c2\\u00a2\\u00c3\\u0083\\\\x83\\u00c3\\u0082\\\\x83\\u00c3\\u0083\\\\x82\\u00c3\\u0082\\\\x82\\u00c3\\u0083\\\\x83\\u00c3\\u0082\\\\x82\\u00c3\\u0083\\\\x82\\u00c3\\u0082\\\\x80\\u00c3\\u0083\\\\x83\\u00c3\\u0082\\\\x83\\u00c3\\u0083\\\\x82\\u00c3\\u0082\\\\x82\\u00c3\\u0083\\\\x83\\u00c3\\u0082\\\\x82\\u00c3\\u0083\\\\x82\\u00c3\\u0082\\\\x99t seem to be very fresh and that affected the whole meal. Overall, I\\u00c3\\u0083\\\\x83\\u00c3\\u0082\\\\x83\\u00c3\\u0083\\\\x82\\u00c3\\u0082\\\\x83\\u00c3\\u0083\\\\x83\\u00c3\\u0082\\\\x82\\u00c3\\u0083\\\\x82\\u00c3\\u0082\\u00c2\\u00a2\\u00c3\\u0083\\\\x83\\u00c3\\u0082\\\\x83\\u00c3\\u0083\\\\x82\\u00c3\\u0082\\\\x82\\u00c3\\u0083\\\\x83\\u00c3\\u0082\\\\x82\\u00c3\\u0083\\\\x82\\u00c3\\u0082\\\\x80\\u00c3\\u0083\\\\x83\\u00c3\\u0082\\\\x83\\u00c3\\u0083\\\\x82\\u00c3\\u0082\\\\x82\\u00c3\\u0083\\\\x83\\u00c3\\u0082\\\\x82\\u00c3\\u0083\\\\x82\\u00c3\\u0082\\\\x99d say this place is good.'), ('Rated 2.0', \\\"RATED\\\\n  Was here on my birthday with a bunch of friends.\\\\nNow I didn't like this place as much, neither did my friends. In all honesty the place was very good with it's decor and the layout - beautiful architecture! Points for that.\\\\nFood - okay. Nothing to die for. I liked one of the starter, Cajun cheese fingers, but that's it. They did get the basic buffalo wings terribly wrong though. I mean, how did that happen!? The price too is a little high for the satisfaction that is missing from their food.\\\\nI will probably give it another shot but only after a really long while.\\\\nAlthough if you want a quiet place to have drinks with your friends, you can go here.\\\"), ('Rated 3.0', 'RATED\\\\n  Had been to this place on sunday night and it was not that crowded. Ambience was okay nothing special.We ordered Schezwan Chicken, Schezwan veg, Veg Manchurian and Fusion chilli chicken sizzlers.All the sizzlers were good though we felt they were bit salty. Coming to their service it was big let down as it was too damn slow.It took exactly 1 hour for our orders to arrive.They will have to work extensively in improving their services.\\\\n\\\\nFood 3/5\\\\nAmbience 3/5\\\\nService 0.5/5'), ('Rated 5.0', 'RATED\\\\n  Extremely good place for having sizzlers in Bangalore. Ordered a virgin Mary and a grilled fish sizzler along with chefs special mushrooms.\\\\n\\\\nThe place is extremely economical. All the dishes were very good. The sauce with grilled fish sizzler was amazing.\\\\n\\\\nThe flip side is, everything was very heavy.'), ('Rated 3.5', \\\"RATED\\\\n  The ambience is very nice and descent . We asked the staff the details of about few dishes but it seems either they don't have any clue about the preparation or it was language issue. We ordered two soups which came half an hr late. The lemon clear soup was very simple and tasty..it was very refreshing for start..we ordered two sizzlers , two starters...butter fried prawns was delicious ..The dishes were well cooked ..but the service is very slow..I really hope management should come up with some improvement as the other customers in the restaurant we're also complaining to waiters about same thing.. I can go for second time only if they improve the service ..\\\"), ('Rated 2.0', \\\"RATED\\\\n  I went to thus place as I heard the Food is good here...But even after waiting for half an hour after ordering a srarter, it didn't come. The staff were not able to explain the delay..but again they Lack in Service, which is tooooo Slow.\\\\nThe place was too smokey from the Sizzlers and there was no exhaust for the smoke to go Out. Waiting for the Starter itself killed my Appetite. I had to Walk out waiting for it to come for a never ending time..I would Never Ever go to this Place and not Recommend it to Any of my Friends. PATHETIC.\\\")]\",\n          \"[('Rated 4.0', \\\"RATED\\\\n  Wasn't here for a long time. Just here to pick a quick cup of coffee. I love the ambience, a good place to read a book or work with a decent menu. The takeaway service was quick. Would come over here sometime again.\\\"), ('Rated 3.0', 'RATED\\\\n  We went there after reading the positive reviews on Zomato but the place is not worth it. The service is no doubt really good but the food is not that good. There are many places which serve better food in that price!'), ('Rated 3.0', \\\"RATED\\\\n  are u looking for a cool place with a good ambiance I think this is u r place. Hanging out in this place for long hours might be fun way to spend u r day , but be aware this is one of those places were the ambiance supersedes the food . No I'm not saying food here is bad but certainly not as good as the ambiance, common problem I noticed was pizza base not baked properly to the fullest, sandwich not toasted to feel Fully crunchy. Chocolate shake was good though, I would say taste is subjective so I would say go form your own opinions. Visit to this place will not be a dissatisfaction for sure . Happy eating ?\\\"), ('Rated 4.0', \\\"RATED\\\\n  Cafe D'hide is located in Koramangala. I went there with my hubby.It was a nice Place to enjoy with your friends & family.\\\\nFood, Taste, and Quality is good. We ordered Fish Burger and Vegetarian Pizza.\\\\nThe fish burger was quite good. It was big and flavourful burger.\\\\nThe pizza base was readymade thin-crust base. Pizza mushtooms, broccoli, sweetcorn, bell peppers these toppings were good, but because of ready made dough pizza was not that much good.\\\\nThe service is good and the ambience is very nice with good & different decor.\\\"), ('Rated 4.0', \\\"RATED\\\\n  Cafe D'hide is a nice cozy place in Koramangala. The cafe offers a lot in terms of food, service and ambience. I went there with my family on an afternoon. It was a nice experience.\\\\n\\\\nFOOD, TASTE, AND QUALITY:\\\\n\\\\nWe had the English Mustard Fish Burger and D'hide Vegetarian Pizza. The pizza base was not made of in-house fresh dough and it was a readymade thin-crust base which didn't add any much excitement. The toppings were although good and it had mushtooms, broccoli, sweetcorn, bell peppers, and sun dried tomatoes. So, a thumbs down for the pizza base but the toppings were really good.\\\\n\\\\nThe mustard fish burger was quite good. It was big and filled with fresh mustard fish, lettuce, and sauces. It was flavourful.\\\\n\\\\nSERVICE AND AMBIENCE:\\\\nThe service is excellent and the ambience is very nice with good decor and interiors.\\\"), ('Rated 5.0', 'RATED\\\\n  If you love coffee, this is the place to be. In just 4 visits I have tried all their frappes and I absolutely am in love with them.\\\\nTheir food is equally good , especially the burgers.\\\\nThe ambience is just perfect!\\\\nVery polite and courteous staff.\\\\n\\\\nDefinately recommend this place to all the coffee lovers! :)'), ('Rated 3.0', 'RATED\\\\n  The cold coffee and milkshake was exceptional! The ambience is lovely very fresh and bright, the tuna salad was a little dry and we had to ask for sauces, the pizza was huge but tasted average! Nice place to click pics :)'), ('Rated 4.0', \\\"RATED\\\\n  Had been here with a friend, the place is lit up and beautifully decorated. It's a small restaurant but good enough for a group of 25-30friends to drop by.\\\\nThe ambience is amazing. We ordered shakes and juices. The staff was bit slow inspite of booking in advance but that's fine as long as the food is yum.\\\"), ('Rated 4.0', 'RATED\\\\n  The place in nice and cozy. I had the English breakfast here. There were smileys made on my sunny side up eggs. Loved it. The chicken sausage and chicken bacon was really nice. Fast service. Polite waiters. The baked beans was tasty. I would definitely recommend this place.'), ('Rated 4.0', 'RATED\\\\n  Tiny little cafe with absolutely beautiful interiors and good vibes. Not exactly a place to go with a large group of people- would be ideal for for groups of 2-4 people.\\\\n\\\\nWe tried A non veg pizza, a veg pizza and chilli garlic noodles(which came with a happy sunny side up).\\\\nFood was good, but nothing special about it. Totally worth the money.\\\\nDecent food for moderate prices!'), ('Rated 4.0', \\\"RATED\\\\n  It's a tiny cafe which is also a part of Tim Tai Restaurant. The food served was great. It was a little crowded and has very limited seats. If you visit on a weekend, may have to wait outside at the entrance until the table gets cleared.\\\"), ('Rated 4.0', \\\"RATED\\\\n  One of the most cutest cafe in Bangalore I have been to. Music that let's you talk. I am drollin over the ambiance. I am person who loves french fries, and peri peri is yum, must have.\\\"), ('Rated 4.0', 'RATED\\\\n  This cafe is located adjacent to Tim Thai restaurant. It\\u00c3\\u0083\\\\x83\\u00c3\\u0082\\\\x83\\u00c3\\u0083\\\\x82\\u00c3\\u0082\\\\x82\\u00c3\\u0083\\\\x83\\u00c3\\u0082\\\\x82\\u00c3\\u0083\\\\x82\\u00c3\\u0082\\\\x92s just a part of tim thai restaurant.\\\\nI am in love with the ambience of this place. It has pretty,cozy ambience. Lot of flower pots , decorative items can be seen on their wall.\\\\nAmbience I would say 5/5.\\\\nComing to the food , I had chicken egg fried burger and pop corn chicken from the starters.\\\\nBurger will be served with french fries and salad. Both were good.\\\\nService was quick and good.'), ('Rated 4.0', 'RATED\\\\n  A small and pretty cafe besides Tim tai I would rather say a unit of Tim tai. The wall paintings, ambience is pretty good with pots everywhere. We had ordered pop corn chicken, chicken patty fried egg burger. Both tasted good. Service was quick and good.'), ('Rated 5.0', 'RATED\\\\n  D\\u00c3\\u0083\\\\x83\\u00c3\\u0082\\\\x83\\u00c3\\u0083\\\\x82\\u00c3\\u0082\\\\x82\\u00c3\\u0083\\\\x83\\u00c3\\u0082\\\\x82\\u00c3\\u0083\\\\x82\\u00c3\\u0082\\\\x92hide is one of my favourite cafes! It has such a beautiful setting and such cosy, warm vibes, despite being in one of the most busy lanes of Koramangala! The USP of this place is it\\u00c3\\u0083\\\\x83\\u00c3\\u0082\\\\x83\\u00c3\\u0083\\\\x82\\u00c3\\u0082\\\\x82\\u00c3\\u0083\\\\x83\\u00c3\\u0082\\\\x82\\u00c3\\u0083\\\\x82\\u00c3\\u0082\\\\x92s shelf full of beautiful articles that forms a part of it right hand side wall, when you enter ?\\\\nThe staff is polite and professional and the food and beverages are up to the mark ?\\\\nDo visit to experience the cutesy ambience ??'), ('Rated 5.0', \\\"RATED\\\\n  First of all the ambience of this place is very well done and it's super cozy and perfect for morning breakfasts. After morning walk in cubbon park it was time for continental breakfast. So we decided to give this place a try. It surely did not disappoint even a bit. Great ambience and good music playlist ;) coming to the food we ordered Veggie omelette ( mushroom, olives & cheese ) which was awesome, Banana honey pancakes which was out of this world and is a must try. It's served with whipped cream on the side.Veg lasagna was cheesy and delicious. Definitely come back :)\\\"), ('Rated 5.0', 'RATED\\\\n  Nice and quite cafe, in the heart of the city. Good place for a quite evening. Tried there fries , Earl Grey Tea, Double Shot Espresso. Great service'), ('Rated 5.0', 'RATED\\\\n  Cute cafe with wonderful decorate on the streets of kormangla indeed place designed with lot of love ..COMING to the food they have recently change there menu so we have tried grill chicken with whole leg by rice on the side ,ckn steak burger was awesome and for drinks we have order The dark night and caffine shake both was amazing i would love to visit again???'), ('Rated 5.0', 'RATED\\\\n  I am literally in love with this cafe.. ??????\\\\nA small, cute, attractive place with a wonderful interior design. ?\\\\nStaffs are friendly, menu is rich in varieties, ambience is truly relaxing and awesome ? music.\\\\nA must must and very must place to be try out in Bengaluru.\\\\nLocation is easily accessible ?'), ('Rated 2.0', 'RATED\\\\n  The place looked pretty in pictures and so decided to pay a visit.\\\\n\\\\nSmall place, good ambience. The inside looks like an English railway station with street lights and a huge clock.\\\\n\\\\nOrdered an Irish frappe, a wild berry smoothie and a Cajun chicken pizza. The Irish frappe was nice, the smoothie tasted more like a milkshake and was very sweet. The pizza was below average. The base was cracker and not pizza base, so it crumbles when you take a bite.\\\\n\\\\nOverall average experience with a beautiful ambience.'), ('Rated 5.0', \\\"RATED\\\\n  First of all the ambience of this place is very well done and it's super cozy and perfect for morning breakfasts. After morning walk in cubbon park it was time for continental breakfast. So we decided to give this place a try. It surely did not disappoint even a bit. Great ambience and good music playlist ;) coming to the food we ordered Veggie omelette ( mushroom, olives & cheese ) which was awesome, Banana honey pancakes which was out of this world and is a must try. It's served with whipped cream on the side.Veg lasagna was cheesy and delicious. Definitely come back :)\\\"), ('Rated 5.0', 'RATED\\\\n  Nice and quite cafe, in the heart of the city. Good place for a quite evening. Tried there fries , Earl Grey Tea, Double Shot Espresso. Great service'), ('Rated 5.0', 'RATED\\\\n  Cute cafe with wonderful decorate on the streets of kormangla indeed place designed with lot of love ..COMING to the food they have recently change there menu so we have tried grill chicken with whole leg by rice on the side ,ckn steak burger was awesome and for drinks we have order The dark night and caffine shake both was amazing i would love to visit again???'), ('Rated 5.0', 'RATED\\\\n  I am literally in love with this cafe.. ??????\\\\nA small, cute, attractive place with a wonderful interior design. ?\\\\nStaffs are friendly, menu is rich in varieties, ambience is truly relaxing and awesome ? music.\\\\nA must must and very must place to be try out in Bengaluru.\\\\nLocation is easily accessible ?'), ('Rated 2.0', 'RATED\\\\n  The place looked pretty in pictures and so decided to pay a visit.\\\\n\\\\nSmall place, good ambience. The inside looks like an English railway station with street lights and a huge clock.\\\\n\\\\nOrdered an Irish frappe, a wild berry smoothie and a Cajun chicken pizza. The Irish frappe was nice, the smoothie tasted more like a milkshake and was very sweet. The pizza was below average. The base was cracker and not pizza base, so it crumbles when you take a bite.\\\\n\\\\nOverall average experience with a beautiful ambience.'), ('Rated 5.0', \\\"RATED\\\\n  First of all the ambience of this place is very well done and it's super cozy and perfect for morning breakfasts. After morning walk in cubbon park it was time for continental breakfast. So we decided to give this place a try. It surely did not disappoint even a bit. Great ambience and good music playlist ;) coming to the food we ordered Veggie omelette ( mushroom, olives & cheese ) which was awesome, Banana honey pancakes which was out of this world and is a must try. It's served with whipped cream on the side.Veg lasagna was cheesy and delicious. Definitely come back :)\\\"), ('Rated 5.0', 'RATED\\\\n  Nice and quite cafe, in the heart of the city. Good place for a quite evening. Tried there fries , Earl Grey Tea, Double Shot Espresso. Great service'), ('Rated 5.0', 'RATED\\\\n  Cute cafe with wonderful decorate on the streets of kormangla indeed place designed with lot of love ..COMING to the food they have recently change there menu so we have tried grill chicken with whole leg by rice on the side ,ckn steak burger was awesome and for drinks we have order The dark night and caffine shake both was amazing i would love to visit again???'), ('Rated 5.0', 'RATED\\\\n  I am literally in love with this cafe.. ??????\\\\nA small, cute, attractive place with a wonderful interior design. ?\\\\nStaffs are friendly, menu is rich in varieties, ambience is truly relaxing and awesome ? music.\\\\nA must must and very must place to be try out in Bengaluru.\\\\nLocation is easily accessible ?'), ('Rated 2.0', 'RATED\\\\n  The place looked pretty in pictures and so decided to pay a visit.\\\\n\\\\nSmall place, good ambience. The inside looks like an English railway station with street lights and a huge clock.\\\\n\\\\nOrdered an Irish frappe, a wild berry smoothie and a Cajun chicken pizza. The Irish frappe was nice, the smoothie tasted more like a milkshake and was very sweet. The pizza was below average. The base was cracker and not pizza base, so it crumbles when you take a bite.\\\\n\\\\nOverall average experience with a beautiful ambience.'), ('Rated 5.0', \\\"RATED\\\\n  First of all the ambience of this place is very well done and it's super cozy and perfect for morning breakfasts. After morning walk in cubbon park it was time for continental breakfast. So we decided to give this place a try. It surely did not disappoint even a bit. Great ambience and good music playlist ;) coming to the food we ordered Veggie omelette ( mushroom, olives & cheese ) which was awesome, Banana honey pancakes which was out of this world and is a must try. It's served with whipped cream on the side.Veg lasagna was cheesy and delicious. Definitely come back :)\\\"), ('Rated 5.0', 'RATED\\\\n  Nice and quite cafe, in the heart of the city. Good place for a quite evening. Tried there fries , Earl Grey Tea, Double Shot Espresso. Great service'), ('Rated 5.0', 'RATED\\\\n  Cute cafe with wonderful decorate on the streets of kormangla indeed place designed with lot of love ..COMING to the food they have recently change there menu so we have tried grill chicken with whole leg by rice on the side ,ckn steak burger was awesome and for drinks we have order The dark night and caffine shake both was amazing i would love to visit again???'), ('Rated 5.0', 'RATED\\\\n  I am literally in love with this cafe.. ??????\\\\nA small, cute, attractive place with a wonderful interior design. ?\\\\nStaffs are friendly, menu is rich in varieties, ambience is truly relaxing and awesome ? music.\\\\nA must must and very must place to be try out in Bengaluru.\\\\nLocation is easily accessible ?'), ('Rated 2.0', 'RATED\\\\n  The place looked pretty in pictures and so decided to pay a visit.\\\\n\\\\nSmall place, good ambience. The inside looks like an English railway station with street lights and a huge clock.\\\\n\\\\nOrdered an Irish frappe, a wild berry smoothie and a Cajun chicken pizza. The Irish frappe was nice, the smoothie tasted more like a milkshake and was very sweet. The pizza was below average. The base was cracker and not pizza base, so it crumbles when you take a bite.\\\\n\\\\nOverall average experience with a beautiful ambience.'), ('Rated 5.0', \\\"RATED\\\\n  First of all the ambience of this place is very well done and it's super cozy and perfect for morning breakfasts. After morning walk in cubbon park it was time for continental breakfast. So we decided to give this place a try. It surely did not disappoint even a bit. Great ambience and good music playlist ;) coming to the food we ordered Veggie omelette ( mushroom, olives & cheese ) which was awesome, Banana honey pancakes which was out of this world and is a must try. It's served with whipped cream on the side.Veg lasagna was cheesy and delicious. Definitely come back :)\\\"), ('Rated 5.0', 'RATED\\\\n  Nice and quite cafe, in the heart of the city. Good place for a quite evening. Tried there fries , Earl Grey Tea, Double Shot Espresso. Great service'), ('Rated 5.0', 'RATED\\\\n  Cute cafe with wonderful decorate on the streets of kormangla indeed place designed with lot of love ..COMING to the food they have recently change there menu so we have tried grill chicken with whole leg by rice on the side ,ckn steak burger was awesome and for drinks we have order The dark night and caffine shake both was amazing i would love to visit again???'), ('Rated 5.0', 'RATED\\\\n  I am literally in love with this cafe.. ??????\\\\nA small, cute, attractive place with a wonderful interior design. ?\\\\nStaffs are friendly, menu is rich in varieties, ambience is truly relaxing and awesome ? music.\\\\nA must must and very must place to be try out in Bengaluru.\\\\nLocation is easily accessible ?'), ('Rated 2.0', 'RATED\\\\n  The place looked pretty in pictures and so decided to pay a visit.\\\\n\\\\nSmall place, good ambience. The inside looks like an English railway station with street lights and a huge clock.\\\\n\\\\nOrdered an Irish frappe, a wild berry smoothie and a Cajun chicken pizza. The Irish frappe was nice, the smoothie tasted more like a milkshake and was very sweet. The pizza was below average. The base was cracker and not pizza base, so it crumbles when you take a bite.\\\\n\\\\nOverall average experience with a beautiful ambience.'), ('Rated 5.0', 'RATED\\\\n  Lovely food and good ambience. The food was absolutely value for money.\\\\nP.S. If you are low on budget and want to have tasty food then this is the place to go.'), ('Rated 4.0', 'RATED\\\\n  The ambience of the place is really lovely.\\\\nService is good.\\\\n\\\\nWe had ordered Penne Pasta, Margherita Pizza, Oreo milkshake, Virgin Mojito, Nachos, Potato Wedges. The food was really good and tasty.\\\\nMy favourite was the pasta. The sauce was delicious. But when it came to the quantity, it was very less. It can be quite expensive. But, the experience was amazing.'), ('Rated 4.5', \\\"RATED\\\\n  This is a cute little cafe with beautiful interiors. Love the tiny little pots used for decor here.\\\\n\\\\nWe tried mocktails, milk shakes and fries platter. Loved the fries and dinks.\\\\n\\\\nIt's a nice quiet place to have catch up with friends or family.\\\\n\\\\nBeautiful ambience. Service is good too.\\\"), ('Rated 4.0', 'RATED\\\\n  Wonderful place with some amazing food and nice decor is how can define Cafe D\\u00c3\\u0083\\\\x83\\u00c3\\u0082\\\\x83\\u00c3\\u0083\\\\x82\\u00c3\\u0082\\\\x82\\u00c3\\u0083\\\\x83\\u00c3\\u0082\\\\x82\\u00c3\\u0083\\\\x82\\u00c3\\u0082\\\\x92hide!!\\\\n\\\\nIt\\u00c3\\u0083\\\\x83\\u00c3\\u0082\\\\x83\\u00c3\\u0083\\\\x82\\u00c3\\u0082\\\\x82\\u00c3\\u0083\\\\x83\\u00c3\\u0082\\\\x82\\u00c3\\u0083\\\\x82\\u00c3\\u0082\\\\x92s been a long time since I visited this place and I\\u00c3\\u0083\\\\x83\\u00c3\\u0082\\\\x83\\u00c3\\u0083\\\\x82\\u00c3\\u0082\\\\x82\\u00c3\\u0083\\\\x83\\u00c3\\u0082\\\\x82\\u00c3\\u0083\\\\x82\\u00c3\\u0082\\\\x92m waiting to visit it sooon.. Well I had been here on a weekday evening and it wasn\\u00c3\\u0083\\\\x83\\u00c3\\u0082\\\\x83\\u00c3\\u0083\\\\x82\\u00c3\\u0082\\\\x82\\u00c3\\u0083\\\\x83\\u00c3\\u0082\\\\x82\\u00c3\\u0083\\\\x82\\u00c3\\u0082\\\\x92t too crowded nor too less crowd.\\\\n\\\\nI ordered a Pizzza along with cheesy fries and some potato wedges along with a dessert whose name I seriously do not remember.\\\\n\\\\nI loved every dish of theirs as it was not too oily or spicy and was made fresh and served exactly the way we wanted it to be!!\\\\n\\\\nIt\\u00c3\\u0083\\\\x83\\u00c3\\u0082\\\\x83\\u00c3\\u0083\\\\x82\\u00c3\\u0082\\\\x82\\u00c3\\u0083\\\\x83\\u00c3\\u0082\\\\x82\\u00c3\\u0083\\\\x82\\u00c3\\u0082\\\\x92s a place worth visiting and having a binge meal as it is not a big hole to any of our pockets with the right portions being served.')]\"\n        ],\n        \"semantic_type\": \"\",\n        \"description\": \"\"\n      }\n    },\n    {\n      \"column\": \"menu_item\",\n      \"properties\": {\n        \"dtype\": \"category\",\n        \"num_unique_values\": 9098,\n        \"samples\": [\n          \"['Chicken Fried Rice', 'Veg Noodles', 'Egg Noodles', 'Chicken Noodles', 'Litti Chokha', 'Litti Chicken', 'Veg Sweet Corn Soup', 'Veg Manchow Soup', 'Veg Hot and Sour Soup', 'Chicken Sweet Corn Soup', 'Chicken Hot and Sour Soup', 'Chicken Manchow Soup', 'Dal Fry', 'Aloo Jeera', 'Aloo Dum', 'Aloo Gobi', 'Aloo Matar Masala', 'Mushroom Matar Masala', 'Paneer Butter Masala', 'Kadai Paneer', 'Palak Paneer', 'Mixed Veg', 'Chicken Curry', 'Chicken Masala', 'Butter Chicken', 'Kadai Chicken', 'Palak Chicken', 'Chicken Korma', 'Phulka', 'Butter Phulka', 'Ghee Phulka', 'Plain Paratha', 'Steam Rice', 'Jeera Rice', 'Ghee Rice', 'Onion Rice', 'Veg Pulao', 'Veg Fried Rice', 'Mushroom Chilli Fried Rice', 'Veg Spring Onion Fried Rice', 'Veg Schezwan Fried Rice', 'Egg Fried Rice', 'Chicken Schezwan Fried Rice', 'Chicken Fried Rice', 'Veg Noodles', 'Veg Schezwan Noodles', 'Veg Chilli Garlic Noodles', 'Veg Green Dragon Noodles', 'Egg Noodles', 'Chicken Green Dragon Noodles', 'Chicken Chilli Garlic Noodles', 'Chicken Noodles', 'Chicken Schezwan Noodles', 'Mixed Noodles', 'Chilly Baby Corn', 'Hunan Baby Corn', 'Pepper Baby Corn', 'Manchurian Baby Corn', 'Veg Crispy', 'Mushroom Chilli', 'Black Pepper Mushroom', 'Gobi Manchurian', 'Honey Chilli Potato', 'Veg Manchurian', 'Chilli Paneer', 'Egg Manchurian', 'Egg Chilli', 'Spinach Chicken', 'Hunan Chicken', 'Chilli Garlic Chicken', 'Chilli Chicken', 'Honey Chilli Chicken', 'Pepper Chicken', 'Chicken Schezwan', 'Drums of Heaven', 'Chicken Wings', 'Chicken Manchurian Gravy', 'Veg Roll', 'Chilli Paneer Roll', 'Egg Roll', 'Manchurian Egg Roll', 'Chicken Roll', 'Chilli Chicken Roll', 'Veg Maggi', 'Masala Maggi', 'Egg Maggi', 'Chicken Maggi', 'Litti Chokha', 'French Fries', 'Masala Fries', 'Litti Chicken', 'Sattu Beverage', 'Lime Juice']\",\n          \"['Churros [Serves 1]', 'Churros [Serves 2]', 'Nutella and Chocolate Dip Churros', 'Loaded Nachos', 'Sicilia Pizza', 'Barbaresca Pasta', 'Lasagna Alla Nepolitana', 'Thai Green Curry', 'Veg Lunch Box', 'Minestrone Soup', 'Passato Di Verdure Soup', 'Zuppa Di Broccoli Soup', 'Creme Di Funghi Soup', 'Insalata Mista Salad', 'Corleone Salad', 'Insalata Gennarino Salad', 'Contadina Slaad', 'Caesar Salad', 'Pesto Salad', 'Cheese Garlic Bread', 'Masala Garlic Bread', 'Special Crostini', 'Bruschetta', 'Fungi Trifolati', 'Spinach Salsa', 'Jalapeno Salsa', 'Infused Cheese Garlic Mushroom Caps', 'Africano Paneer', 'Loaded Pototo Wedges', 'Honey Pepper Fries', \\\"Melvyn's Fries\\\", 'Cheese Stuffed Jalapeno Veg Balls', 'Stir Fried Veg', 'Loaded Nachos', 'Nachos with Cheese Sauce', 'Tortilla Chips with Salsa', 'Onion Rings', 'Babycorn Longs', 'Cheese Corn Balls', 'Exotic Veg in Cilantro Curry', 'Exotic Veg in Peppery Curry', 'Thai Green Curry', 'Thai Red Curry', 'Exotic Veggies and Cilantro Flavoured Rice', 'Paneer and Spinach Sandwich', 'Mexican Paneer Sandwich', 'Veg Club Sandwich', 'Mexican Veg Sandwich', 'Spinach Corn Cheese Sandwich', 'Churros [Serves 1]', 'Churros [Serves 2]', 'Nutella and Chocolate Dip Churros', 'Fondue [Serves 2]', 'Churros Fiesta', 'Margarita Pizza', 'Fantasia Pizza', 'Purpigna Pizza', 'Peri Peri Pizza', 'Four Seasons Pizza', 'Cross Country Ranch Pizza', 'Rustic Pizza', 'Tabasco Pizza', 'Sicilia Pizza', 'Exotica Pizza', 'Goa Pizza', 'Mediterranean Pizza', 'Indian Pizza', 'Solarina Pizza', 'Pesto Pizza', 'Toe Toe Pizza', 'Paprika Pizza', 'Bombay Pizza', 'Kamarina Pizza', 'Botticino Pizza', 'Sputini Pizza', 'Aglio Olio Peperoncino Pasta', 'All Arrabiata Pasta', 'Barbaresca Pasta', 'Alla Firritiana Pasta', 'Alla Alfredo Pasta', 'All Bakunin Pasta', '4 Stagioni Pasta', 'Primavera Pasta', 'Della Casa Dry Pasta', 'Al Pesto Genovese Pasta', 'Mediterranean Pasta', 'Metauro Pasta', 'Gambaza Pasta', 'Alla Sallome Pasta', 'Del Barone Pasta', 'Masala Mafia Pasta', 'Spinach Cannelloni', 'Lasagna Alla Nepolitana', 'Browine Sundae', 'Chocolate Bomb', 'Cream Caramel', 'Mango Fresh Cheese Cake', 'Pineapple Fresh Cheese Cake', 'Cookie Sundae', 'Classic Spanish Chocolate', 'Aztec Chilli Chocolate', 'Hot and Cold Chocolate', 'Marid Mocha Chocolate', 'Mint Magnifico Chocolate', 'Affogato Coffee', 'Latte Coffee', 'Cappuccino Coffee', 'Americano Coffee', 'Espresso Coffee', 'Spanish Latte Coffee', 'Cafe Mocha Coffee', 'Sunbreeze', 'Virgin Sangria', 'Virgin Pinacolada', 'Shirley Temple', 'Virgin Mojito', 'Fresh Lime Soda', 'Peach Iced Tea', 'Lemon Iced Tea', 'Blue Lagoon', 'Choco Loco Shake', 'Mango Tango Shake', 'Banana Lambada Shake', 'Mocha Mambo Shake', 'Cookie Cha Cha Shake', 'Cream De Fresca Shake', 'Chocolate Creme Pie Shake', 'Iced Coffees Shake']\"\n        ],\n        \"semantic_type\": \"\",\n        \"description\": \"\"\n      }\n    },\n    {\n      \"column\": \"listed_in(type)\",\n      \"properties\": {\n        \"dtype\": \"category\",\n        \"num_unique_values\": 7,\n        \"samples\": [\n          \"Buffet\",\n          \"Cafes\"\n        ],\n        \"semantic_type\": \"\",\n        \"description\": \"\"\n      }\n    },\n    {\n      \"column\": \"listed_in(city)\",\n      \"properties\": {\n        \"dtype\": \"category\",\n        \"num_unique_values\": 30,\n        \"samples\": [\n          \"Residency Road\",\n          \"Kammanahalli\"\n        ],\n        \"semantic_type\": \"\",\n        \"description\": \"\"\n      }\n    }\n  ]\n}"
            }
          },
          "metadata": {},
          "execution_count": 28
        }
      ]
    },
    {
      "cell_type": "code",
      "source": [
        "df.info()"
      ],
      "metadata": {
        "colab": {
          "base_uri": "https://localhost:8080/"
        },
        "id": "Ctzm3XxAsyYb",
        "outputId": "4f13a237-5beb-41fb-89ed-ed6bf14a3d17"
      },
      "execution_count": 29,
      "outputs": [
        {
          "output_type": "stream",
          "name": "stdout",
          "text": [
            "<class 'pandas.core.frame.DataFrame'>\n",
            "RangeIndex: 51717 entries, 0 to 51716\n",
            "Data columns (total 17 columns):\n",
            " #   Column                       Non-Null Count  Dtype \n",
            "---  ------                       --------------  ----- \n",
            " 0   url                          51717 non-null  object\n",
            " 1   address                      51717 non-null  object\n",
            " 2   name                         51717 non-null  object\n",
            " 3   online_order                 51717 non-null  object\n",
            " 4   book_table                   51717 non-null  object\n",
            " 5   rate                         43942 non-null  object\n",
            " 6   votes                        51717 non-null  int64 \n",
            " 7   phone                        50509 non-null  object\n",
            " 8   location                     51696 non-null  object\n",
            " 9   rest_type                    51490 non-null  object\n",
            " 10  dish_liked                   23639 non-null  object\n",
            " 11  cuisines                     51672 non-null  object\n",
            " 12  approx_cost(for two people)  51371 non-null  object\n",
            " 13  reviews_list                 51717 non-null  object\n",
            " 14  menu_item                    51717 non-null  object\n",
            " 15  listed_in(type)              51717 non-null  object\n",
            " 16  listed_in(city)              51717 non-null  object\n",
            "dtypes: int64(1), object(16)\n",
            "memory usage: 6.7+ MB\n"
          ]
        }
      ]
    },
    {
      "cell_type": "code",
      "source": [
        "df.describe()"
      ],
      "metadata": {
        "colab": {
          "base_uri": "https://localhost:8080/",
          "height": 300
        },
        "id": "-oA-V3nds2tO",
        "outputId": "b4c6a5a9-d12e-4dfc-ac0b-86ee92966d79"
      },
      "execution_count": 30,
      "outputs": [
        {
          "output_type": "execute_result",
          "data": {
            "text/plain": [
              "              votes\n",
              "count  51717.000000\n",
              "mean     283.697527\n",
              "std      803.838853\n",
              "min        0.000000\n",
              "25%        7.000000\n",
              "50%       41.000000\n",
              "75%      198.000000\n",
              "max    16832.000000"
            ],
            "text/html": [
              "\n",
              "  <div id=\"df-765c6d0b-4988-4a43-bb47-23bfa8960f4b\" class=\"colab-df-container\">\n",
              "    <div>\n",
              "<style scoped>\n",
              "    .dataframe tbody tr th:only-of-type {\n",
              "        vertical-align: middle;\n",
              "    }\n",
              "\n",
              "    .dataframe tbody tr th {\n",
              "        vertical-align: top;\n",
              "    }\n",
              "\n",
              "    .dataframe thead th {\n",
              "        text-align: right;\n",
              "    }\n",
              "</style>\n",
              "<table border=\"1\" class=\"dataframe\">\n",
              "  <thead>\n",
              "    <tr style=\"text-align: right;\">\n",
              "      <th></th>\n",
              "      <th>votes</th>\n",
              "    </tr>\n",
              "  </thead>\n",
              "  <tbody>\n",
              "    <tr>\n",
              "      <th>count</th>\n",
              "      <td>51717.000000</td>\n",
              "    </tr>\n",
              "    <tr>\n",
              "      <th>mean</th>\n",
              "      <td>283.697527</td>\n",
              "    </tr>\n",
              "    <tr>\n",
              "      <th>std</th>\n",
              "      <td>803.838853</td>\n",
              "    </tr>\n",
              "    <tr>\n",
              "      <th>min</th>\n",
              "      <td>0.000000</td>\n",
              "    </tr>\n",
              "    <tr>\n",
              "      <th>25%</th>\n",
              "      <td>7.000000</td>\n",
              "    </tr>\n",
              "    <tr>\n",
              "      <th>50%</th>\n",
              "      <td>41.000000</td>\n",
              "    </tr>\n",
              "    <tr>\n",
              "      <th>75%</th>\n",
              "      <td>198.000000</td>\n",
              "    </tr>\n",
              "    <tr>\n",
              "      <th>max</th>\n",
              "      <td>16832.000000</td>\n",
              "    </tr>\n",
              "  </tbody>\n",
              "</table>\n",
              "</div>\n",
              "    <div class=\"colab-df-buttons\">\n",
              "\n",
              "  <div class=\"colab-df-container\">\n",
              "    <button class=\"colab-df-convert\" onclick=\"convertToInteractive('df-765c6d0b-4988-4a43-bb47-23bfa8960f4b')\"\n",
              "            title=\"Convert this dataframe to an interactive table.\"\n",
              "            style=\"display:none;\">\n",
              "\n",
              "  <svg xmlns=\"http://www.w3.org/2000/svg\" height=\"24px\" viewBox=\"0 -960 960 960\">\n",
              "    <path d=\"M120-120v-720h720v720H120Zm60-500h600v-160H180v160Zm220 220h160v-160H400v160Zm0 220h160v-160H400v160ZM180-400h160v-160H180v160Zm440 0h160v-160H620v160ZM180-180h160v-160H180v160Zm440 0h160v-160H620v160Z\"/>\n",
              "  </svg>\n",
              "    </button>\n",
              "\n",
              "  <style>\n",
              "    .colab-df-container {\n",
              "      display:flex;\n",
              "      gap: 12px;\n",
              "    }\n",
              "\n",
              "    .colab-df-convert {\n",
              "      background-color: #E8F0FE;\n",
              "      border: none;\n",
              "      border-radius: 50%;\n",
              "      cursor: pointer;\n",
              "      display: none;\n",
              "      fill: #1967D2;\n",
              "      height: 32px;\n",
              "      padding: 0 0 0 0;\n",
              "      width: 32px;\n",
              "    }\n",
              "\n",
              "    .colab-df-convert:hover {\n",
              "      background-color: #E2EBFA;\n",
              "      box-shadow: 0px 1px 2px rgba(60, 64, 67, 0.3), 0px 1px 3px 1px rgba(60, 64, 67, 0.15);\n",
              "      fill: #174EA6;\n",
              "    }\n",
              "\n",
              "    .colab-df-buttons div {\n",
              "      margin-bottom: 4px;\n",
              "    }\n",
              "\n",
              "    [theme=dark] .colab-df-convert {\n",
              "      background-color: #3B4455;\n",
              "      fill: #D2E3FC;\n",
              "    }\n",
              "\n",
              "    [theme=dark] .colab-df-convert:hover {\n",
              "      background-color: #434B5C;\n",
              "      box-shadow: 0px 1px 3px 1px rgba(0, 0, 0, 0.15);\n",
              "      filter: drop-shadow(0px 1px 2px rgba(0, 0, 0, 0.3));\n",
              "      fill: #FFFFFF;\n",
              "    }\n",
              "  </style>\n",
              "\n",
              "    <script>\n",
              "      const buttonEl =\n",
              "        document.querySelector('#df-765c6d0b-4988-4a43-bb47-23bfa8960f4b button.colab-df-convert');\n",
              "      buttonEl.style.display =\n",
              "        google.colab.kernel.accessAllowed ? 'block' : 'none';\n",
              "\n",
              "      async function convertToInteractive(key) {\n",
              "        const element = document.querySelector('#df-765c6d0b-4988-4a43-bb47-23bfa8960f4b');\n",
              "        const dataTable =\n",
              "          await google.colab.kernel.invokeFunction('convertToInteractive',\n",
              "                                                    [key], {});\n",
              "        if (!dataTable) return;\n",
              "\n",
              "        const docLinkHtml = 'Like what you see? Visit the ' +\n",
              "          '<a target=\"_blank\" href=https://colab.research.google.com/notebooks/data_table.ipynb>data table notebook</a>'\n",
              "          + ' to learn more about interactive tables.';\n",
              "        element.innerHTML = '';\n",
              "        dataTable['output_type'] = 'display_data';\n",
              "        await google.colab.output.renderOutput(dataTable, element);\n",
              "        const docLink = document.createElement('div');\n",
              "        docLink.innerHTML = docLinkHtml;\n",
              "        element.appendChild(docLink);\n",
              "      }\n",
              "    </script>\n",
              "  </div>\n",
              "\n",
              "\n",
              "    <div id=\"df-75a2c98f-824d-4854-a345-0a26960c772f\">\n",
              "      <button class=\"colab-df-quickchart\" onclick=\"quickchart('df-75a2c98f-824d-4854-a345-0a26960c772f')\"\n",
              "                title=\"Suggest charts\"\n",
              "                style=\"display:none;\">\n",
              "\n",
              "<svg xmlns=\"http://www.w3.org/2000/svg\" height=\"24px\"viewBox=\"0 0 24 24\"\n",
              "     width=\"24px\">\n",
              "    <g>\n",
              "        <path d=\"M19 3H5c-1.1 0-2 .9-2 2v14c0 1.1.9 2 2 2h14c1.1 0 2-.9 2-2V5c0-1.1-.9-2-2-2zM9 17H7v-7h2v7zm4 0h-2V7h2v10zm4 0h-2v-4h2v4z\"/>\n",
              "    </g>\n",
              "</svg>\n",
              "      </button>\n",
              "\n",
              "<style>\n",
              "  .colab-df-quickchart {\n",
              "      --bg-color: #E8F0FE;\n",
              "      --fill-color: #1967D2;\n",
              "      --hover-bg-color: #E2EBFA;\n",
              "      --hover-fill-color: #174EA6;\n",
              "      --disabled-fill-color: #AAA;\n",
              "      --disabled-bg-color: #DDD;\n",
              "  }\n",
              "\n",
              "  [theme=dark] .colab-df-quickchart {\n",
              "      --bg-color: #3B4455;\n",
              "      --fill-color: #D2E3FC;\n",
              "      --hover-bg-color: #434B5C;\n",
              "      --hover-fill-color: #FFFFFF;\n",
              "      --disabled-bg-color: #3B4455;\n",
              "      --disabled-fill-color: #666;\n",
              "  }\n",
              "\n",
              "  .colab-df-quickchart {\n",
              "    background-color: var(--bg-color);\n",
              "    border: none;\n",
              "    border-radius: 50%;\n",
              "    cursor: pointer;\n",
              "    display: none;\n",
              "    fill: var(--fill-color);\n",
              "    height: 32px;\n",
              "    padding: 0;\n",
              "    width: 32px;\n",
              "  }\n",
              "\n",
              "  .colab-df-quickchart:hover {\n",
              "    background-color: var(--hover-bg-color);\n",
              "    box-shadow: 0 1px 2px rgba(60, 64, 67, 0.3), 0 1px 3px 1px rgba(60, 64, 67, 0.15);\n",
              "    fill: var(--button-hover-fill-color);\n",
              "  }\n",
              "\n",
              "  .colab-df-quickchart-complete:disabled,\n",
              "  .colab-df-quickchart-complete:disabled:hover {\n",
              "    background-color: var(--disabled-bg-color);\n",
              "    fill: var(--disabled-fill-color);\n",
              "    box-shadow: none;\n",
              "  }\n",
              "\n",
              "  .colab-df-spinner {\n",
              "    border: 2px solid var(--fill-color);\n",
              "    border-color: transparent;\n",
              "    border-bottom-color: var(--fill-color);\n",
              "    animation:\n",
              "      spin 1s steps(1) infinite;\n",
              "  }\n",
              "\n",
              "  @keyframes spin {\n",
              "    0% {\n",
              "      border-color: transparent;\n",
              "      border-bottom-color: var(--fill-color);\n",
              "      border-left-color: var(--fill-color);\n",
              "    }\n",
              "    20% {\n",
              "      border-color: transparent;\n",
              "      border-left-color: var(--fill-color);\n",
              "      border-top-color: var(--fill-color);\n",
              "    }\n",
              "    30% {\n",
              "      border-color: transparent;\n",
              "      border-left-color: var(--fill-color);\n",
              "      border-top-color: var(--fill-color);\n",
              "      border-right-color: var(--fill-color);\n",
              "    }\n",
              "    40% {\n",
              "      border-color: transparent;\n",
              "      border-right-color: var(--fill-color);\n",
              "      border-top-color: var(--fill-color);\n",
              "    }\n",
              "    60% {\n",
              "      border-color: transparent;\n",
              "      border-right-color: var(--fill-color);\n",
              "    }\n",
              "    80% {\n",
              "      border-color: transparent;\n",
              "      border-right-color: var(--fill-color);\n",
              "      border-bottom-color: var(--fill-color);\n",
              "    }\n",
              "    90% {\n",
              "      border-color: transparent;\n",
              "      border-bottom-color: var(--fill-color);\n",
              "    }\n",
              "  }\n",
              "</style>\n",
              "\n",
              "      <script>\n",
              "        async function quickchart(key) {\n",
              "          const quickchartButtonEl =\n",
              "            document.querySelector('#' + key + ' button');\n",
              "          quickchartButtonEl.disabled = true;  // To prevent multiple clicks.\n",
              "          quickchartButtonEl.classList.add('colab-df-spinner');\n",
              "          try {\n",
              "            const charts = await google.colab.kernel.invokeFunction(\n",
              "                'suggestCharts', [key], {});\n",
              "          } catch (error) {\n",
              "            console.error('Error during call to suggestCharts:', error);\n",
              "          }\n",
              "          quickchartButtonEl.classList.remove('colab-df-spinner');\n",
              "          quickchartButtonEl.classList.add('colab-df-quickchart-complete');\n",
              "        }\n",
              "        (() => {\n",
              "          let quickchartButtonEl =\n",
              "            document.querySelector('#df-75a2c98f-824d-4854-a345-0a26960c772f button');\n",
              "          quickchartButtonEl.style.display =\n",
              "            google.colab.kernel.accessAllowed ? 'block' : 'none';\n",
              "        })();\n",
              "      </script>\n",
              "    </div>\n",
              "\n",
              "    </div>\n",
              "  </div>\n"
            ],
            "application/vnd.google.colaboratory.intrinsic+json": {
              "type": "dataframe",
              "summary": "{\n  \"name\": \"df\",\n  \"rows\": 8,\n  \"fields\": [\n    {\n      \"column\": \"votes\",\n      \"properties\": {\n        \"dtype\": \"number\",\n        \"std\": 18315.82366942701,\n        \"min\": 0.0,\n        \"max\": 51717.0,\n        \"num_unique_values\": 8,\n        \"samples\": [\n          283.69752692538236,\n          41.0,\n          51717.0\n        ],\n        \"semantic_type\": \"\",\n        \"description\": \"\"\n      }\n    }\n  ]\n}"
            }
          },
          "metadata": {},
          "execution_count": 30
        }
      ]
    },
    {
      "cell_type": "code",
      "source": [
        "df.shape"
      ],
      "metadata": {
        "colab": {
          "base_uri": "https://localhost:8080/"
        },
        "id": "pnIqS-rxs6AK",
        "outputId": "1d9aec42-93c1-4a85-ec27-b446c3c9f969"
      },
      "execution_count": 31,
      "outputs": [
        {
          "output_type": "execute_result",
          "data": {
            "text/plain": [
              "(51717, 17)"
            ]
          },
          "metadata": {},
          "execution_count": 31
        }
      ]
    },
    {
      "cell_type": "code",
      "source": [
        "duplicates_before = df.duplicated().sum()\n",
        "df.drop_duplicates(inplace=True)\n",
        "duplicates_after = df.duplicated().sum()\n",
        "print(f\"Number of duplicate rows before dropping: {duplicates_before}\")\n",
        "print(f\"Number of duplicate rows after dropping: {duplicates_after}\")"
      ],
      "metadata": {
        "colab": {
          "base_uri": "https://localhost:8080/"
        },
        "id": "vAgrTYu0s9-d",
        "outputId": "ce28d8b7-da73-4c77-995b-1e663c9d5f5b"
      },
      "execution_count": 32,
      "outputs": [
        {
          "output_type": "stream",
          "name": "stdout",
          "text": [
            "Number of duplicate rows before dropping: 0\n",
            "Number of duplicate rows after dropping: 0\n"
          ]
        }
      ]
    },
    {
      "cell_type": "code",
      "source": [
        "df.isnull().sum()"
      ],
      "metadata": {
        "colab": {
          "base_uri": "https://localhost:8080/",
          "height": 617
        },
        "id": "ItAkiDqotD_N",
        "outputId": "841f709f-60bf-48ab-b218-83cf2297909a"
      },
      "execution_count": 33,
      "outputs": [
        {
          "output_type": "execute_result",
          "data": {
            "text/plain": [
              "url                                0\n",
              "address                            0\n",
              "name                               0\n",
              "online_order                       0\n",
              "book_table                         0\n",
              "rate                            7775\n",
              "votes                              0\n",
              "phone                           1208\n",
              "location                          21\n",
              "rest_type                        227\n",
              "dish_liked                     28078\n",
              "cuisines                          45\n",
              "approx_cost(for two people)      346\n",
              "reviews_list                       0\n",
              "menu_item                          0\n",
              "listed_in(type)                    0\n",
              "listed_in(city)                    0\n",
              "dtype: int64"
            ],
            "text/html": [
              "<div>\n",
              "<style scoped>\n",
              "    .dataframe tbody tr th:only-of-type {\n",
              "        vertical-align: middle;\n",
              "    }\n",
              "\n",
              "    .dataframe tbody tr th {\n",
              "        vertical-align: top;\n",
              "    }\n",
              "\n",
              "    .dataframe thead th {\n",
              "        text-align: right;\n",
              "    }\n",
              "</style>\n",
              "<table border=\"1\" class=\"dataframe\">\n",
              "  <thead>\n",
              "    <tr style=\"text-align: right;\">\n",
              "      <th></th>\n",
              "      <th>0</th>\n",
              "    </tr>\n",
              "  </thead>\n",
              "  <tbody>\n",
              "    <tr>\n",
              "      <th>url</th>\n",
              "      <td>0</td>\n",
              "    </tr>\n",
              "    <tr>\n",
              "      <th>address</th>\n",
              "      <td>0</td>\n",
              "    </tr>\n",
              "    <tr>\n",
              "      <th>name</th>\n",
              "      <td>0</td>\n",
              "    </tr>\n",
              "    <tr>\n",
              "      <th>online_order</th>\n",
              "      <td>0</td>\n",
              "    </tr>\n",
              "    <tr>\n",
              "      <th>book_table</th>\n",
              "      <td>0</td>\n",
              "    </tr>\n",
              "    <tr>\n",
              "      <th>rate</th>\n",
              "      <td>7775</td>\n",
              "    </tr>\n",
              "    <tr>\n",
              "      <th>votes</th>\n",
              "      <td>0</td>\n",
              "    </tr>\n",
              "    <tr>\n",
              "      <th>phone</th>\n",
              "      <td>1208</td>\n",
              "    </tr>\n",
              "    <tr>\n",
              "      <th>location</th>\n",
              "      <td>21</td>\n",
              "    </tr>\n",
              "    <tr>\n",
              "      <th>rest_type</th>\n",
              "      <td>227</td>\n",
              "    </tr>\n",
              "    <tr>\n",
              "      <th>dish_liked</th>\n",
              "      <td>28078</td>\n",
              "    </tr>\n",
              "    <tr>\n",
              "      <th>cuisines</th>\n",
              "      <td>45</td>\n",
              "    </tr>\n",
              "    <tr>\n",
              "      <th>approx_cost(for two people)</th>\n",
              "      <td>346</td>\n",
              "    </tr>\n",
              "    <tr>\n",
              "      <th>reviews_list</th>\n",
              "      <td>0</td>\n",
              "    </tr>\n",
              "    <tr>\n",
              "      <th>menu_item</th>\n",
              "      <td>0</td>\n",
              "    </tr>\n",
              "    <tr>\n",
              "      <th>listed_in(type)</th>\n",
              "      <td>0</td>\n",
              "    </tr>\n",
              "    <tr>\n",
              "      <th>listed_in(city)</th>\n",
              "      <td>0</td>\n",
              "    </tr>\n",
              "  </tbody>\n",
              "</table>\n",
              "</div><br><label><b>dtype:</b> int64</label>"
            ]
          },
          "metadata": {},
          "execution_count": 33
        }
      ]
    },
    {
      "cell_type": "code",
      "source": [
        "print(df.columns)"
      ],
      "metadata": {
        "colab": {
          "base_uri": "https://localhost:8080/"
        },
        "id": "CLH8JIystIay",
        "outputId": "e64456c2-43ed-44c3-ea9b-1c28ea69774c"
      },
      "execution_count": 34,
      "outputs": [
        {
          "output_type": "stream",
          "name": "stdout",
          "text": [
            "Index(['url', 'address', 'name', 'online_order', 'book_table', 'rate', 'votes',\n",
            "       'phone', 'location', 'rest_type', 'dish_liked', 'cuisines',\n",
            "       'approx_cost(for two people)', 'reviews_list', 'menu_item',\n",
            "       'listed_in(type)', 'listed_in(city)'],\n",
            "      dtype='object')\n"
          ]
        }
      ]
    },
    {
      "cell_type": "code",
      "source": [
        "X = df.drop(\"rate\", axis=1)\n",
        "y = df[\"rate\"]"
      ],
      "metadata": {
        "id": "doAYC2LItNWm"
      },
      "execution_count": 35,
      "outputs": []
    },
    {
      "cell_type": "code",
      "source": [
        "cols_to_check = ['location', 'cuisines', 'listed_in(type)', 'online_order', 'book_table']\n",
        "for col in cols_to_check:\n",
        "    if col in df.columns:\n",
        "        print(f\"{col} - unique values:\", df[col].nunique())\n",
        "        print(df[col].value_counts().head(10))\n",
        "        print(\"-\" * 50)"
      ],
      "metadata": {
        "colab": {
          "base_uri": "https://localhost:8080/"
        },
        "id": "0iu9j3nFtUBn",
        "outputId": "84d7370b-3aae-4635-80c1-04182780cc77"
      },
      "execution_count": 36,
      "outputs": [
        {
          "output_type": "stream",
          "name": "stdout",
          "text": [
            "location - unique values: 93\n",
            "location\n",
            "BTM                      5124\n",
            "HSR                      2523\n",
            "Koramangala 5th Block    2504\n",
            "JP Nagar                 2235\n",
            "Whitefield               2144\n",
            "Indiranagar              2083\n",
            "Jayanagar                1926\n",
            "Marathahalli             1846\n",
            "Bannerghatta Road        1630\n",
            "Bellandur                1286\n",
            "Name: count, dtype: int64\n",
            "--------------------------------------------------\n",
            "cuisines - unique values: 2723\n",
            "cuisines\n",
            "North Indian                           2913\n",
            "North Indian, Chinese                  2385\n",
            "South Indian                           1828\n",
            "Biryani                                 918\n",
            "Bakery, Desserts                        911\n",
            "Fast Food                               803\n",
            "Desserts                                766\n",
            "Cafe                                    756\n",
            "South Indian, North Indian, Chinese     726\n",
            "Bakery                                  651\n",
            "Name: count, dtype: int64\n",
            "--------------------------------------------------\n",
            "listed_in(type) - unique values: 7\n",
            "listed_in(type)\n",
            "Delivery              25942\n",
            "Dine-out              17779\n",
            "Desserts               3593\n",
            "Cafes                  1723\n",
            "Drinks & nightlife     1101\n",
            "Buffet                  882\n",
            "Pubs and bars           697\n",
            "Name: count, dtype: int64\n",
            "--------------------------------------------------\n",
            "online_order - unique values: 2\n",
            "online_order\n",
            "Yes    30444\n",
            "No     21273\n",
            "Name: count, dtype: int64\n",
            "--------------------------------------------------\n",
            "book_table - unique values: 2\n",
            "book_table\n",
            "No     45268\n",
            "Yes     6449\n",
            "Name: count, dtype: int64\n",
            "--------------------------------------------------\n"
          ]
        }
      ]
    },
    {
      "cell_type": "code",
      "source": [
        "df.drop_duplicates(inplace=True)"
      ],
      "metadata": {
        "id": "q4EAWJXkMM9j"
      },
      "execution_count": 37,
      "outputs": []
    },
    {
      "cell_type": "code",
      "source": [
        "for col in df.columns:\n",
        "    if df[col].dtype == 'object':\n",
        "        df[col].fillna('Unknown', inplace=True)\n",
        "    else:\n",
        "        df[col].fillna(df[col].median(), inplace=True)"
      ],
      "metadata": {
        "colab": {
          "base_uri": "https://localhost:8080/"
        },
        "id": "1ULwpRevteWN",
        "outputId": "d3e4355e-50e9-4eef-84d0-46e707ed90a6"
      },
      "execution_count": 38,
      "outputs": [
        {
          "output_type": "stream",
          "name": "stderr",
          "text": [
            "/tmp/ipython-input-2384501307.py:3: FutureWarning: A value is trying to be set on a copy of a DataFrame or Series through chained assignment using an inplace method.\n",
            "The behavior will change in pandas 3.0. This inplace method will never work because the intermediate object on which we are setting values always behaves as a copy.\n",
            "\n",
            "For example, when doing 'df[col].method(value, inplace=True)', try using 'df.method({col: value}, inplace=True)' or df[col] = df[col].method(value) instead, to perform the operation inplace on the original object.\n",
            "\n",
            "\n",
            "  df[col].fillna('Unknown', inplace=True)\n",
            "/tmp/ipython-input-2384501307.py:5: FutureWarning: A value is trying to be set on a copy of a DataFrame or Series through chained assignment using an inplace method.\n",
            "The behavior will change in pandas 3.0. This inplace method will never work because the intermediate object on which we are setting values always behaves as a copy.\n",
            "\n",
            "For example, when doing 'df[col].method(value, inplace=True)', try using 'df.method({col: value}, inplace=True)' or df[col] = df[col].method(value) instead, to perform the operation inplace on the original object.\n",
            "\n",
            "\n",
            "  df[col].fillna(df[col].median(), inplace=True)\n"
          ]
        }
      ]
    },
    {
      "cell_type": "code",
      "source": [
        "if 'rate' in df.columns:\n",
        "    df['rate'] = df['rate'].astype(str).str.split('/').str[0]\n",
        "    df['rate'] = df['rate'].replace(['NEW', '-', 'nan'], '0')\n",
        "    df['rate'] = pd.to_numeric(df['rate'], errors='coerce').fillna(0)\n",
        "\n",
        "if 'approx_cost(for two people)' in df.columns:\n",
        "    df.rename(columns={'approx_cost(for two people)': 'cost2'}, inplace=True)\n",
        "    df['cost2'] = df['cost2'].astype(str).str.replace(',', '')\n",
        "    df['cost2'] = pd.to_numeric(df['cost2'], errors='coerce').fillna(df['cost2'].median())\n",
        "\n"
      ],
      "metadata": {
        "id": "o1lIWqAitiQZ"
      },
      "execution_count": 40,
      "outputs": []
    },
    {
      "cell_type": "code",
      "source": [
        "# Function to handle outliers using IQR\n",
        "def handle_outliers(df, col):\n",
        "    Q1 = df[col].quantile(0.25)\n",
        "    Q3 = df[col].quantile(0.75)\n",
        "    IQR = Q3 - Q1\n",
        "    lower = Q1 - 1.5 * IQR\n",
        "    upper = Q3 + 1.5 * IQR\n",
        "    df[col] = np.where(df[col] < lower, lower,\n",
        "                       np.where(df[col] > upper, upper, df[col]))\n"
      ],
      "metadata": {
        "id": "Y_U93NsZtnuc"
      },
      "execution_count": 41,
      "outputs": []
    },
    {
      "cell_type": "code",
      "source": [
        "print(df.isnull().sum())"
      ],
      "metadata": {
        "colab": {
          "base_uri": "https://localhost:8080/"
        },
        "id": "568CCxO7trQo",
        "outputId": "98440991-1289-464a-ece0-41fe245fd3a8"
      },
      "execution_count": 42,
      "outputs": [
        {
          "output_type": "stream",
          "name": "stdout",
          "text": [
            "url                0\n",
            "address            0\n",
            "name               0\n",
            "online_order       0\n",
            "book_table         0\n",
            "rate               0\n",
            "votes              0\n",
            "phone              0\n",
            "location           0\n",
            "rest_type          0\n",
            "dish_liked         0\n",
            "cuisines           0\n",
            "cost2              0\n",
            "reviews_list       0\n",
            "menu_item          0\n",
            "listed_in(type)    0\n",
            "listed_in(city)    0\n",
            "dtype: int64\n"
          ]
        }
      ]
    },
    {
      "cell_type": "code",
      "source": [
        "for col in df.columns:\n",
        "    if df[col].nunique() <= 1:\n",
        "        print(f\"Column '{col}' has only one unique value.\")\n"
      ],
      "metadata": {
        "id": "4I5yOeVftu_M"
      },
      "execution_count": 43,
      "outputs": []
    },
    {
      "cell_type": "code",
      "source": [
        "if 'location' in df.columns:\n",
        "    top_location = df['location'].value_counts().idxmax()\n",
        "    print(\"Top location with most restaurants:\", top_location)\n",
        "\n",
        "if 'listed_in(type)' in df.columns:\n",
        "    top_type = df.groupby('listed_in(type)')['rate'].mean().idxmax()\n",
        "    print(\"Top restaurant type by average rating:\", top_type)\n",
        "\n",
        "if 'cuisines' in df.columns:\n",
        "    top_cuisine = df['cuisines'].value_counts().idxmax()\n",
        "    print(\"Most common cuisine:\", top_cuisine)\n"
      ],
      "metadata": {
        "colab": {
          "base_uri": "https://localhost:8080/"
        },
        "id": "18rYVN45ty6H",
        "outputId": "be01b18f-a72b-4101-ab6c-cd46710ac76f"
      },
      "execution_count": 44,
      "outputs": [
        {
          "output_type": "stream",
          "name": "stdout",
          "text": [
            "Top location with most restaurants: BTM\n",
            "Top restaurant type by average rating: Buffet\n",
            "Most common cuisine: North Indian\n"
          ]
        }
      ]
    },
    {
      "cell_type": "code",
      "source": [
        "import matplotlib.pyplot as plt\n",
        "import seaborn as sns\n",
        "\n",
        "plt.style.use('seaborn-v0_8')\n",
        "sns.set_palette('viridis')\n",
        "\n",
        "combo_availability = df.groupby(['online_order', 'book_table']).size().reset_index(name='count')\n",
        "print(\"\\nMost common combinations of Online Order & Table Booking availability:\")\n",
        "print(combo_availability.sort_values(by='count', ascending=False))\n"
      ],
      "metadata": {
        "colab": {
          "base_uri": "https://localhost:8080/"
        },
        "id": "g9Qnl646t3Gm",
        "outputId": "634ebf26-57eb-4c20-e6c5-30a600bcf9b0"
      },
      "execution_count": 45,
      "outputs": [
        {
          "output_type": "stream",
          "name": "stdout",
          "text": [
            "\n",
            "Most common combinations of Online Order & Table Booking availability:\n",
            "  online_order book_table  count\n",
            "2          Yes         No  26639\n",
            "0           No         No  18629\n",
            "3          Yes        Yes   3805\n",
            "1           No        Yes   2644\n"
          ]
        }
      ]
    },
    {
      "cell_type": "code",
      "source": [
        "online_order_counts = df['online_order'].value_counts(normalize=True) * 100\n",
        "print(\"\\nPercentage of restaurants offering Online Order:\")\n",
        "print(online_order_counts)\n",
        "\n"
      ],
      "metadata": {
        "colab": {
          "base_uri": "https://localhost:8080/"
        },
        "id": "7c-BIwyvt77t",
        "outputId": "2e6198f7-a7f2-49ca-8d6b-325fd425e67e"
      },
      "execution_count": 85,
      "outputs": [
        {
          "output_type": "stream",
          "name": "stdout",
          "text": [
            "\n",
            "Percentage of restaurants offering Online Order:\n",
            "online_order\n",
            "1    58.866524\n",
            "0    41.133476\n",
            "Name: proportion, dtype: float64\n"
          ]
        }
      ]
    },
    {
      "cell_type": "code",
      "source": [
        "plt.figure(figsize=(8,5))\n",
        "sns.histplot(df['rate'], bins=20, kde=True)\n",
        "plt.title(\"Distribution of Ratings\")\n",
        "plt.xlabel(\"Rating\")\n",
        "plt.ylabel(\"Count\")\n",
        "plt.show()\n"
      ],
      "metadata": {
        "colab": {
          "base_uri": "https://localhost:8080/",
          "height": 485
        },
        "id": "v3rh_5GhuBmD",
        "outputId": "fda5d7f2-09e6-4be5-94ea-d28b4513e571"
      },
      "execution_count": 46,
      "outputs": [
        {
          "output_type": "display_data",
          "data": {
            "text/plain": [
              "<Figure size 800x500 with 1 Axes>"
            ],
            "image/png": "[encoded data removed]"
          },
          "metadata": {}
        }
      ]
    },
    {
      "cell_type": "code",
      "source": [
        "if 'location' in df.columns:\n",
        "    plt.figure(figsize=(10,5))\n",
        "    df['location'].value_counts().head(10).plot(kind='bar')\n",
        "    plt.title(\"Top 10 Locations with Most Restaurants\")\n",
        "    plt.xlabel(\"Location\")\n",
        "    plt.ylabel(\"Count\")\n",
        "    plt.show()\n"
      ],
      "metadata": {
        "colab": {
          "base_uri": "https://localhost:8080/",
          "height": 615
        },
        "id": "llGRWrQBuF2o",
        "outputId": "2d1768b5-f77b-4789-b915-61293f05a9a1"
      },
      "execution_count": 48,
      "outputs": [
        {
          "output_type": "display_data",
          "data": {
            "text/plain": [
              "<Figure size 1000x500 with 1 Axes>"
            ],
            "image/png": "[encoded data removed]"
          },
          "metadata": {}
        }
      ]
    },
    {
      "cell_type": "code",
      "source": [
        "if 'listed_in(type)' in df.columns:\n",
        "    plt.figure(figsize=(10,5))\n",
        "    sns.barplot(x='listed_in(type)', y='rate', data=df, ci=None)\n",
        "    plt.title(\"Average Rating by Restaurant Type\")\n",
        "    plt.xticks(rotation=45)\n",
        "    plt.show()\n"
      ],
      "metadata": {
        "colab": {
          "base_uri": "https://localhost:8080/",
          "height": 642
        },
        "id": "gDbnmDBquKsX",
        "outputId": "3a8ff652-168e-4a4e-cb08-c4e952cf03cd"
      },
      "execution_count": 47,
      "outputs": [
        {
          "output_type": "stream",
          "name": "stderr",
          "text": [
            "/tmp/ipython-input-1300644068.py:3: FutureWarning: \n",
            "\n",
            "The `ci` parameter is deprecated. Use `errorbar=None` for the same effect.\n",
            "\n",
            "  sns.barplot(x='listed_in(type)', y='rate', data=df, ci=None)\n"
          ]
        },
        {
          "output_type": "display_data",
          "data": {
            "text/plain": [
              "<Figure size 1000x500 with 1 Axes>"
            ],
            "image/png": "[encoded data removed]"
          },
          "metadata": {}
        }
      ]
    },
    {
      "cell_type": "code",
      "source": [
        "if 'cost2' in df.columns:\n",
        "    plt.figure(figsize=(8,5))\n",
        "    sns.scatterplot(x='cost2', y='rate', data=df, alpha=0.5)\n",
        "    plt.title(\"Cost for Two vs Rating\")\n",
        "    plt.xlabel(\"Cost for Two People\")\n",
        "    plt.ylabel(\"Rating\")\n",
        "    plt.show()\n"
      ],
      "metadata": {
        "colab": {
          "base_uri": "https://localhost:8080/",
          "height": 485
        },
        "id": "UYPC7Bw4uPIE",
        "outputId": "b71919c1-2ce3-4281-f078-3709aa7d7049"
      },
      "execution_count": 49,
      "outputs": [
        {
          "output_type": "display_data",
          "data": {
            "text/plain": [
              "<Figure size 800x500 with 1 Axes>"
            ],
            "image/png": "[encoded data removed]"
          },
          "metadata": {}
        }
      ]
    },
    {
      "cell_type": "code",
      "source": [
        "if 'cuisines' in df.columns:\n",
        "    plt.figure(figsize=(10,5))\n",
        "    df['cuisines'].value_counts().head(10).plot(kind='bar')\n",
        "    plt.title(\"Top 10 Cuisines\")\n",
        "    plt.xlabel(\"Cuisine\")\n",
        "    plt.ylabel(\"Count\")\n",
        "    plt.show()"
      ],
      "metadata": {
        "colab": {
          "base_uri": "https://localhost:8080/",
          "height": 692
        },
        "id": "nXg_GNzquViz",
        "outputId": "ec4cd7b6-8b7e-40a5-8c23-cb5d3f4afc7f"
      },
      "execution_count": 50,
      "outputs": [
        {
          "output_type": "display_data",
          "data": {
            "text/plain": [
              "<Figure size 1000x500 with 1 Axes>"
            ],
            "image/png": "[encoded data removed]"
          },
          "metadata": {}
        }
      ]
    },
    {
      "cell_type": "code",
      "source": [
        "if 'cost2' not in df.columns and 'approx_cost(for two people)' in df.columns:\n",
        "    df.rename(columns={'approx_cost(for two people)': 'cost2'}, inplace=True)\n",
        "elif 'cost2' not in df.columns:\n",
        "    df['cost2'] = 0\n",
        "\n",
        "if 'votes' not in df.columns:\n",
        "    df['votes'] = 0\n",
        "\n",
        "if 'cuisines' not in df.columns:\n",
        "    df['cuisines'] = 'Unknown'\n",
        "\n",
        "if 'cuisine_main' not in df.columns:\n",
        "    df['cuisines'] = df['cuisines'].astype(str)\n",
        "    df['cuisine_main'] = df['cuisines'].apply(\n",
        "        lambda x: x.split(',')[0].strip() if x.strip() != '' else 'Unknown'\n",
        "    )\n",
        "for col in ['location', 'online_order', 'book_table', 'listed_in(type)']:\n",
        "    if col not in df.columns:\n",
        "        df[col] = 'Unknown'"
      ],
      "metadata": {
        "id": "a6gnnEGpuZlV"
      },
      "execution_count": 51,
      "outputs": []
    },
    {
      "cell_type": "code",
      "source": [
        "df['cost2'] = df['cost2'].astype(str).str.replace(',', '', regex=False)\n",
        "df['cost2'] = pd.to_numeric(df['cost2'], errors='coerce')\n",
        "df['votes'] = pd.to_numeric(df['votes'], errors='coerce')\n"
      ],
      "metadata": {
        "id": "SOrGTV5Kudb4"
      },
      "execution_count": 52,
      "outputs": []
    },
    {
      "cell_type": "code",
      "source": [
        "df['cost2'] = df['cost2'].fillna(df['cost2'].median())\n",
        "df['votes'] = df['votes'].fillna(0)\n"
      ],
      "metadata": {
        "id": "9nnFa9EouhYE"
      },
      "execution_count": 53,
      "outputs": []
    },
    {
      "cell_type": "code",
      "source": [
        "def categorize_rating(r):\n",
        "    if r < 3.5:\n",
        "        return 'Low'\n",
        "    elif r <= 4.2:\n",
        "        return 'Medium'\n",
        "    else:\n",
        "        return 'High'\n",
        "\n",
        "y = df['rate'].apply(categorize_rating)\n"
      ],
      "metadata": {
        "id": "JsajK3p1ukuo"
      },
      "execution_count": 54,
      "outputs": []
    },
    {
      "cell_type": "code",
      "source": [
        "features = ['cost2', 'votes', 'location', 'cuisine_main', 'online_order', 'book_table', 'listed_in(type)']\n",
        "X = df[features].copy()\n"
      ],
      "metadata": {
        "id": "-qUiNSB5upSc"
      },
      "execution_count": 55,
      "outputs": []
    },
    {
      "cell_type": "code",
      "source": [
        "cat_cols = ['location', 'cuisine_main', 'online_order', 'book_table', 'listed_in(type)']\n",
        "X[cat_cols] = X[cat_cols].fillna('Unknown')\n"
      ],
      "metadata": {
        "id": "E6qTjziZuwjU"
      },
      "execution_count": 56,
      "outputs": []
    },
    {
      "cell_type": "code",
      "source": [
        "encoders = {}\n",
        "for col in cat_cols:\n",
        "    le = LabelEncoder()\n",
        "    X[col] = le.fit_transform(X[col].astype(str))\n",
        "    encoders[col] = le\n"
      ],
      "metadata": {
        "id": "I8O0lrvfu0Ko"
      },
      "execution_count": 57,
      "outputs": []
    },
    {
      "cell_type": "code",
      "source": [
        "scaler = StandardScaler()\n",
        "X[['cost2', 'votes']] = scaler.fit_transform(X[['cost2', 'votes']])\n"
      ],
      "metadata": {
        "id": "1eGbLFV4u4Wb"
      },
      "execution_count": 58,
      "outputs": []
    },
    {
      "cell_type": "code",
      "source": [
        "le_target = LabelEncoder()\n",
        "y_enc = le_target.fit_transform(y)\n"
      ],
      "metadata": {
        "id": "fnBSEvllu8lu"
      },
      "execution_count": 59,
      "outputs": []
    },
    {
      "cell_type": "code",
      "source": [
        "rf = RandomForestClassifier(n_estimators=200, random_state=42, n_jobs=-1)\n",
        "rf.fit(X, y)\n",
        "imps = pd.Series(rf.feature_importances_, index=(X.columns if hasattr(X, 'columns') else range(X.shape[1])))\n",
        "imps_sorted = imps.sort_values(ascending=False)\n",
        "# choose top features: cumulative importance >= 0.95 or at least top 8\n",
        "cum = imps_sorted.cumsum()\n",
        "top_feats = cum[cum <= 0.95].index.tolist()\n",
        "if len(top_feats) < 8:\n",
        "    top_feats = imps_sorted.index[:8].tolist()\n",
        "print(\"Selected features (count):\", len(top_feats))\n",
        "\n",
        "# reduce X\n",
        "X_sel = X[top_feats] if hasattr(X, 'columns') else X[:, list(top_feats)]\n"
      ],
      "metadata": {
        "colab": {
          "base_uri": "https://localhost:8080/"
        },
        "id": "71MIhiC8u_7d",
        "outputId": "b2dfbdf2-9010-4a02-e50d-c91fb74f3b88"
      },
      "execution_count": 86,
      "outputs": [
        {
          "output_type": "stream",
          "name": "stdout",
          "text": [
            "Selected features (count): 7\n"
          ]
        }
      ]
    },
    {
      "cell_type": "code",
      "source": [
        "# Encode categorical columns\n",
        "cat_cols = ['online_order', 'book_table', 'location', 'rest_type', 'cuisines', 'listed_in(type)', 'listed_in(city)']\n",
        "encoder = LabelEncoder()\n",
        "for col in cat_cols:\n",
        "    df[col] = encoder.fit_transform(df[col])\n"
      ],
      "metadata": {
        "id": "ROjxPAxjvK6d"
      },
      "execution_count": 60,
      "outputs": []
    },
    {
      "cell_type": "code",
      "source": [
        "# Scaling numeric features\n",
        "scaler = StandardScaler()\n"
      ],
      "metadata": {
        "id": "Sq74NCL8vMGb"
      },
      "execution_count": 61,
      "outputs": []
    },
    {
      "cell_type": "code",
      "source": [
        "X_train, X_test, y_train, y_test = train_test_split(\n",
        "    X, y_enc, test_size=0.2, stratify=y_enc, random_state=42\n",
        ")\n"
      ],
      "metadata": {
        "id": "pTYBjU8wvP4k"
      },
      "execution_count": 62,
      "outputs": []
    },
    {
      "cell_type": "code",
      "source": [
        "pipe = Pipeline([\n",
        "    ('scaler', StandardScaler()),\n",
        "    ('model', RandomForestClassifier())\n",
        "])\n"
      ],
      "metadata": {
        "id": "X_RAloewvVki"
      },
      "execution_count": 63,
      "outputs": []
    },
    {
      "cell_type": "code",
      "source": [
        "params = {\n",
        "    'model__n_estimators': [100, 200, 300],\n",
        "    'model__max_depth': [None, 5, 10],\n",
        "    'model__min_samples_split': [2, 5]\n",
        "}\n",
        "\n",
        "grid = GridSearchCV(pipe, params, cv=5, scoring='accuracy')\n",
        "grid.fit(X_train, y_train)\n",
        "\n",
        "print(\"Best params:\", grid.best_params_)\n",
        "print(\"Best accuracy:\", grid.best_score_)\n",
        "\n",
        "\n"
      ],
      "metadata": {
        "colab": {
          "base_uri": "https://localhost:8080/"
        },
        "id": "i8uslQwCvZeG",
        "outputId": "faaf890e-f021-46a0-e4f0-7b58024afd51"
      },
      "execution_count": 64,
      "outputs": [
        {
          "output_type": "stream",
          "name": "stdout",
          "text": [
            "Best params: {'model__max_depth': None, 'model__min_samples_split': 2, 'model__n_estimators': 200}\n",
            "Best accuracy: 0.9398641542282563\n"
          ]
        }
      ]
    },
    {
      "cell_type": "code",
      "source": [
        "best_model = grid.best_estimator_"
      ],
      "metadata": {
        "id": "qXYgVOFBxIQu"
      },
      "execution_count": 65,
      "outputs": []
    },
    {
      "cell_type": "code",
      "source": [
        "y_pred = best_model.predict(X_test)\n",
        "print(\"Accuracy:\", accuracy_score(y_test, y_pred) * 100)\n",
        "print(\"Best Parameters:\", grid.best_params_)\n"
      ],
      "metadata": {
        "colab": {
          "base_uri": "https://localhost:8080/"
        },
        "id": "mtznI-cDxNDM",
        "outputId": "e5a08163-775f-4444-bfc6-2eb056d28ef3"
      },
      "execution_count": 66,
      "outputs": [
        {
          "output_type": "stream",
          "name": "stdout",
          "text": [
            "Accuracy: 94.50889404485692\n",
            "Best Parameters: {'model__max_depth': None, 'model__min_samples_split': 2, 'model__n_estimators': 200}\n"
          ]
        }
      ]
    },
    {
      "cell_type": "code",
      "source": [
        "scaler = StandardScaler()\n",
        "X_train = scaler.fit_transform(X_train)\n",
        "X_test = scaler.transform(X_test)\n"
      ],
      "metadata": {
        "id": "tH2Pyz0dxU6n"
      },
      "execution_count": 67,
      "outputs": []
    },
    {
      "cell_type": "code",
      "source": [
        "model = LogisticRegression(max_iter=1000, C=2, solver='lbfgs')\n",
        "model.fit(X_train, y_train)\n"
      ],
      "metadata": {
        "colab": {
          "base_uri": "https://localhost:8080/",
          "height": 80
        },
        "id": "5KBEdGA1xbo7",
        "outputId": "bcee6bc8-6fe0-4426-e984-a8eb4e9aab7b"
      },
      "execution_count": 68,
      "outputs": [
        {
          "output_type": "execute_result",
          "data": {
            "text/plain": [
              "LogisticRegression(C=2, max_iter=1000)"
            ],
            "text/html": [
              "<style>#sk-container-id-1 {\n",
              "  /* Definition of color scheme common for light and dark mode */\n",
              "  --sklearn-color-text: #000;\n",
              "  --sklearn-color-text-muted: #666;\n",
              "  --sklearn-color-line: gray;\n",
              "  /* Definition of color scheme for unfitted estimators */\n",
              "  --sklearn-color-unfitted-level-0: #fff5e6;\n",
              "  --sklearn-color-unfitted-level-1: #f6e4d2;\n",
              "  --sklearn-color-unfitted-level-2: #ffe0b3;\n",
              "  --sklearn-color-unfitted-level-3: chocolate;\n",
              "  /* Definition of color scheme for fitted estimators */\n",
              "  --sklearn-color-fitted-level-0: #f0f8ff;\n",
              "  --sklearn-color-fitted-level-1: #d4ebff;\n",
              "  --sklearn-color-fitted-level-2: #b3dbfd;\n",
              "  --sklearn-color-fitted-level-3: cornflowerblue;\n",
              "\n",
              "  /* Specific color for light theme */\n",
              "  --sklearn-color-text-on-default-background: var(--sg-text-color, var(--theme-code-foreground, var(--jp-content-font-color1, black)));\n",
              "  --sklearn-color-background: var(--sg-background-color, var(--theme-background, var(--jp-layout-color0, white)));\n",
              "  --sklearn-color-border-box: var(--sg-text-color, var(--theme-code-foreground, var(--jp-content-font-color1, black)));\n",
              "  --sklearn-color-icon: #696969;\n",
              "\n",
              "  @media (prefers-color-scheme: dark) {\n",
              "    /* Redefinition of color scheme for dark theme */\n",
              "    --sklearn-color-text-on-default-background: var(--sg-text-color, var(--theme-code-foreground, var(--jp-content-font-color1, white)));\n",
              "    --sklearn-color-background: var(--sg-background-color, var(--theme-background, var(--jp-layout-color0, #111)));\n",
              "    --sklearn-color-border-box: var(--sg-text-color, var(--theme-code-foreground, var(--jp-content-font-color1, white)));\n",
              "    --sklearn-color-icon: #878787;\n",
              "  }\n",
              "}\n",
              "\n",
              "#sk-container-id-1 {\n",
              "  color: var(--sklearn-color-text);\n",
              "}\n",
              "\n",
              "#sk-container-id-1 pre {\n",
              "  padding: 0;\n",
              "}\n",
              "\n",
              "#sk-container-id-1 input.sk-hidden--visually {\n",
              "  border: 0;\n",
              "  clip: rect(1px 1px 1px 1px);\n",
              "  clip: rect(1px, 1px, 1px, 1px);\n",
              "  height: 1px;\n",
              "  margin: -1px;\n",
              "  overflow: hidden;\n",
              "  padding: 0;\n",
              "  position: absolute;\n",
              "  width: 1px;\n",
              "}\n",
              "\n",
              "#sk-container-id-1 div.sk-dashed-wrapped {\n",
              "  border: 1px dashed var(--sklearn-color-line);\n",
              "  margin: 0 0.4em 0.5em 0.4em;\n",
              "  box-sizing: border-box;\n",
              "  padding-bottom: 0.4em;\n",
              "  background-color: var(--sklearn-color-background);\n",
              "}\n",
              "\n",
              "#sk-container-id-1 div.sk-container {\n",
              "  /* jupyter's `normalize.less` sets `[hidden] { display: none; }`\n",
              "     but bootstrap.min.css set `[hidden] { display: none !important; }`\n",
              "     so we also need the `!important` here to be able to override the\n",
              "     default hidden behavior on the sphinx rendered scikit-learn.org.\n",
              "     See: https://github.com/scikit-learn/scikit-learn/issues/21755 */\n",
              "  display: inline-block !important;\n",
              "  position: relative;\n",
              "}\n",
              "\n",
              "#sk-container-id-1 div.sk-text-repr-fallback {\n",
              "  display: none;\n",
              "}\n",
              "\n",
              "div.sk-parallel-item,\n",
              "div.sk-serial,\n",
              "div.sk-item {\n",
              "  /* draw centered vertical line to link estimators */\n",
              "  background-image: linear-gradient(var(--sklearn-color-text-on-default-background), var(--sklearn-color-text-on-default-background));\n",
              "  background-size: 2px 100%;\n",
              "  background-repeat: no-repeat;\n",
              "  background-position: center center;\n",
              "}\n",
              "\n",
              "/* Parallel-specific style estimator block */\n",
              "\n",
              "#sk-container-id-1 div.sk-parallel-item::after {\n",
              "  content: \"\";\n",
              "  width: 100%;\n",
              "  border-bottom: 2px solid var(--sklearn-color-text-on-default-background);\n",
              "  flex-grow: 1;\n",
              "}\n",
              "\n",
              "#sk-container-id-1 div.sk-parallel {\n",
              "  display: flex;\n",
              "  align-items: stretch;\n",
              "  justify-content: center;\n",
              "  background-color: var(--sklearn-color-background);\n",
              "  position: relative;\n",
              "}\n",
              "\n",
              "#sk-container-id-1 div.sk-parallel-item {\n",
              "  display: flex;\n",
              "  flex-direction: column;\n",
              "}\n",
              "\n",
              "#sk-container-id-1 div.sk-parallel-item:first-child::after {\n",
              "  align-self: flex-end;\n",
              "  width: 50%;\n",
              "}\n",
              "\n",
              "#sk-container-id-1 div.sk-parallel-item:last-child::after {\n",
              "  align-self: flex-start;\n",
              "  width: 50%;\n",
              "}\n",
              "\n",
              "#sk-container-id-1 div.sk-parallel-item:only-child::after {\n",
              "  width: 0;\n",
              "}\n",
              "\n",
              "/* Serial-specific style estimator block */\n",
              "\n",
              "#sk-container-id-1 div.sk-serial {\n",
              "  display: flex;\n",
              "  flex-direction: column;\n",
              "  align-items: center;\n",
              "  background-color: var(--sklearn-color-background);\n",
              "  padding-right: 1em;\n",
              "  padding-left: 1em;\n",
              "}\n",
              "\n",
              "\n",
              "/* Toggleable style: style used for estimator/Pipeline/ColumnTransformer box that is\n",
              "clickable and can be expanded/collapsed.\n",
              "- Pipeline and ColumnTransformer use this feature and define the default style\n",
              "- Estimators will overwrite some part of the style using the `sk-estimator` class\n",
              "*/\n",
              "\n",
              "/* Pipeline and ColumnTransformer style (default) */\n",
              "\n",
              "#sk-container-id-1 div.sk-toggleable {\n",
              "  /* Default theme specific background. It is overwritten whether we have a\n",
              "  specific estimator or a Pipeline/ColumnTransformer */\n",
              "  background-color: var(--sklearn-color-background);\n",
              "}\n",
              "\n",
              "/* Toggleable label */\n",
              "#sk-container-id-1 label.sk-toggleable__label {\n",
              "  cursor: pointer;\n",
              "  display: flex;\n",
              "  width: 100%;\n",
              "  margin-bottom: 0;\n",
              "  padding: 0.5em;\n",
              "  box-sizing: border-box;\n",
              "  text-align: center;\n",
              "  align-items: start;\n",
              "  justify-content: space-between;\n",
              "  gap: 0.5em;\n",
              "}\n",
              "\n",
              "#sk-container-id-1 label.sk-toggleable__label .caption {\n",
              "  font-size: 0.6rem;\n",
              "  font-weight: lighter;\n",
              "  color: var(--sklearn-color-text-muted);\n",
              "}\n",
              "\n",
              "#sk-container-id-1 label.sk-toggleable__label-arrow:before {\n",
              "  /* Arrow on the left of the label */\n",
              "  content: \"▸\";\n",
              "  float: left;\n",
              "  margin-right: 0.25em;\n",
              "  color: var(--sklearn-color-icon);\n",
              "}\n",
              "\n",
              "#sk-container-id-1 label.sk-toggleable__label-arrow:hover:before {\n",
              "  color: var(--sklearn-color-text);\n",
              "}\n",
              "\n",
              "/* Toggleable content - dropdown */\n",
              "\n",
              "#sk-container-id-1 div.sk-toggleable__content {\n",
              "  max-height: 0;\n",
              "  max-width: 0;\n",
              "  overflow: hidden;\n",
              "  text-align: left;\n",
              "  /* unfitted */\n",
              "  background-color: var(--sklearn-color-unfitted-level-0);\n",
              "}\n",
              "\n",
              "#sk-container-id-1 div.sk-toggleable__content.fitted {\n",
              "  /* fitted */\n",
              "  background-color: var(--sklearn-color-fitted-level-0);\n",
              "}\n",
              "\n",
              "#sk-container-id-1 div.sk-toggleable__content pre {\n",
              "  margin: 0.2em;\n",
              "  border-radius: 0.25em;\n",
              "  color: var(--sklearn-color-text);\n",
              "  /* unfitted */\n",
              "  background-color: var(--sklearn-color-unfitted-level-0);\n",
              "}\n",
              "\n",
              "#sk-container-id-1 div.sk-toggleable__content.fitted pre {\n",
              "  /* unfitted */\n",
              "  background-color: var(--sklearn-color-fitted-level-0);\n",
              "}\n",
              "\n",
              "#sk-container-id-1 input.sk-toggleable__control:checked~div.sk-toggleable__content {\n",
              "  /* Expand drop-down */\n",
              "  max-height: 200px;\n",
              "  max-width: 100%;\n",
              "  overflow: auto;\n",
              "}\n",
              "\n",
              "#sk-container-id-1 input.sk-toggleable__control:checked~label.sk-toggleable__label-arrow:before {\n",
              "  content: \"▾\";\n",
              "}\n",
              "\n",
              "/* Pipeline/ColumnTransformer-specific style */\n",
              "\n",
              "#sk-container-id-1 div.sk-label input.sk-toggleable__control:checked~label.sk-toggleable__label {\n",
              "  color: var(--sklearn-color-text);\n",
              "  background-color: var(--sklearn-color-unfitted-level-2);\n",
              "}\n",
              "\n",
              "#sk-container-id-1 div.sk-label.fitted input.sk-toggleable__control:checked~label.sk-toggleable__label {\n",
              "  background-color: var(--sklearn-color-fitted-level-2);\n",
              "}\n",
              "\n",
              "/* Estimator-specific style */\n",
              "\n",
              "/* Colorize estimator box */\n",
              "#sk-container-id-1 div.sk-estimator input.sk-toggleable__control:checked~label.sk-toggleable__label {\n",
              "  /* unfitted */\n",
              "  background-color: var(--sklearn-color-unfitted-level-2);\n",
              "}\n",
              "\n",
              "#sk-container-id-1 div.sk-estimator.fitted input.sk-toggleable__control:checked~label.sk-toggleable__label {\n",
              "  /* fitted */\n",
              "  background-color: var(--sklearn-color-fitted-level-2);\n",
              "}\n",
              "\n",
              "#sk-container-id-1 div.sk-label label.sk-toggleable__label,\n",
              "#sk-container-id-1 div.sk-label label {\n",
              "  /* The background is the default theme color */\n",
              "  color: var(--sklearn-color-text-on-default-background);\n",
              "}\n",
              "\n",
              "/* On hover, darken the color of the background */\n",
              "#sk-container-id-1 div.sk-label:hover label.sk-toggleable__label {\n",
              "  color: var(--sklearn-color-text);\n",
              "  background-color: var(--sklearn-color-unfitted-level-2);\n",
              "}\n",
              "\n",
              "/* Label box, darken color on hover, fitted */\n",
              "#sk-container-id-1 div.sk-label.fitted:hover label.sk-toggleable__label.fitted {\n",
              "  color: var(--sklearn-color-text);\n",
              "  background-color: var(--sklearn-color-fitted-level-2);\n",
              "}\n",
              "\n",
              "/* Estimator label */\n",
              "\n",
              "#sk-container-id-1 div.sk-label label {\n",
              "  font-family: monospace;\n",
              "  font-weight: bold;\n",
              "  display: inline-block;\n",
              "  line-height: 1.2em;\n",
              "}\n",
              "\n",
              "#sk-container-id-1 div.sk-label-container {\n",
              "  text-align: center;\n",
              "}\n",
              "\n",
              "/* Estimator-specific */\n",
              "#sk-container-id-1 div.sk-estimator {\n",
              "  font-family: monospace;\n",
              "  border: 1px dotted var(--sklearn-color-border-box);\n",
              "  border-radius: 0.25em;\n",
              "  box-sizing: border-box;\n",
              "  margin-bottom: 0.5em;\n",
              "  /* unfitted */\n",
              "  background-color: var(--sklearn-color-unfitted-level-0);\n",
              "}\n",
              "\n",
              "#sk-container-id-1 div.sk-estimator.fitted {\n",
              "  /* fitted */\n",
              "  background-color: var(--sklearn-color-fitted-level-0);\n",
              "}\n",
              "\n",
              "/* on hover */\n",
              "#sk-container-id-1 div.sk-estimator:hover {\n",
              "  /* unfitted */\n",
              "  background-color: var(--sklearn-color-unfitted-level-2);\n",
              "}\n",
              "\n",
              "#sk-container-id-1 div.sk-estimator.fitted:hover {\n",
              "  /* fitted */\n",
              "  background-color: var(--sklearn-color-fitted-level-2);\n",
              "}\n",
              "\n",
              "/* Specification for estimator info (e.g. \"i\" and \"?\") */\n",
              "\n",
              "/* Common style for \"i\" and \"?\" */\n",
              "\n",
              ".sk-estimator-doc-link,\n",
              "a:link.sk-estimator-doc-link,\n",
              "a:visited.sk-estimator-doc-link {\n",
              "  float: right;\n",
              "  font-size: smaller;\n",
              "  line-height: 1em;\n",
              "  font-family: monospace;\n",
              "  background-color: var(--sklearn-color-background);\n",
              "  border-radius: 1em;\n",
              "  height: 1em;\n",
              "  width: 1em;\n",
              "  text-decoration: none !important;\n",
              "  margin-left: 0.5em;\n",
              "  text-align: center;\n",
              "  /* unfitted */\n",
              "  border: var(--sklearn-color-unfitted-level-1) 1pt solid;\n",
              "  color: var(--sklearn-color-unfitted-level-1);\n",
              "}\n",
              "\n",
              ".sk-estimator-doc-link.fitted,\n",
              "a:link.sk-estimator-doc-link.fitted,\n",
              "a:visited.sk-estimator-doc-link.fitted {\n",
              "  /* fitted */\n",
              "  border: var(--sklearn-color-fitted-level-1) 1pt solid;\n",
              "  color: var(--sklearn-color-fitted-level-1);\n",
              "}\n",
              "\n",
              "/* On hover */\n",
              "div.sk-estimator:hover .sk-estimator-doc-link:hover,\n",
              ".sk-estimator-doc-link:hover,\n",
              "div.sk-label-container:hover .sk-estimator-doc-link:hover,\n",
              ".sk-estimator-doc-link:hover {\n",
              "  /* unfitted */\n",
              "  background-color: var(--sklearn-color-unfitted-level-3);\n",
              "  color: var(--sklearn-color-background);\n",
              "  text-decoration: none;\n",
              "}\n",
              "\n",
              "div.sk-estimator.fitted:hover .sk-estimator-doc-link.fitted:hover,\n",
              ".sk-estimator-doc-link.fitted:hover,\n",
              "div.sk-label-container:hover .sk-estimator-doc-link.fitted:hover,\n",
              ".sk-estimator-doc-link.fitted:hover {\n",
              "  /* fitted */\n",
              "  background-color: var(--sklearn-color-fitted-level-3);\n",
              "  color: var(--sklearn-color-background);\n",
              "  text-decoration: none;\n",
              "}\n",
              "\n",
              "/* Span, style for the box shown on hovering the info icon */\n",
              ".sk-estimator-doc-link span {\n",
              "  display: none;\n",
              "  z-index: 9999;\n",
              "  position: relative;\n",
              "  font-weight: normal;\n",
              "  right: .2ex;\n",
              "  padding: .5ex;\n",
              "  margin: .5ex;\n",
              "  width: min-content;\n",
              "  min-width: 20ex;\n",
              "  max-width: 50ex;\n",
              "  color: var(--sklearn-color-text);\n",
              "  box-shadow: 2pt 2pt 4pt #999;\n",
              "  /* unfitted */\n",
              "  background: var(--sklearn-color-unfitted-level-0);\n",
              "  border: .5pt solid var(--sklearn-color-unfitted-level-3);\n",
              "}\n",
              "\n",
              ".sk-estimator-doc-link.fitted span {\n",
              "  /* fitted */\n",
              "  background: var(--sklearn-color-fitted-level-0);\n",
              "  border: var(--sklearn-color-fitted-level-3);\n",
              "}\n",
              "\n",
              ".sk-estimator-doc-link:hover span {\n",
              "  display: block;\n",
              "}\n",
              "\n",
              "/* \"?\"-specific style due to the `<a>` HTML tag */\n",
              "\n",
              "#sk-container-id-1 a.estimator_doc_link {\n",
              "  float: right;\n",
              "  font-size: 1rem;\n",
              "  line-height: 1em;\n",
              "  font-family: monospace;\n",
              "  background-color: var(--sklearn-color-background);\n",
              "  border-radius: 1rem;\n",
              "  height: 1rem;\n",
              "  width: 1rem;\n",
              "  text-decoration: none;\n",
              "  /* unfitted */\n",
              "  color: var(--sklearn-color-unfitted-level-1);\n",
              "  border: var(--sklearn-color-unfitted-level-1) 1pt solid;\n",
              "}\n",
              "\n",
              "#sk-container-id-1 a.estimator_doc_link.fitted {\n",
              "  /* fitted */\n",
              "  border: var(--sklearn-color-fitted-level-1) 1pt solid;\n",
              "  color: var(--sklearn-color-fitted-level-1);\n",
              "}\n",
              "\n",
              "/* On hover */\n",
              "#sk-container-id-1 a.estimator_doc_link:hover {\n",
              "  /* unfitted */\n",
              "  background-color: var(--sklearn-color-unfitted-level-3);\n",
              "  color: var(--sklearn-color-background);\n",
              "  text-decoration: none;\n",
              "}\n",
              "\n",
              "#sk-container-id-1 a.estimator_doc_link.fitted:hover {\n",
              "  /* fitted */\n",
              "  background-color: var(--sklearn-color-fitted-level-3);\n",
              "}\n",
              "</style><div id=\"sk-container-id-1\" class=\"sk-top-container\"><div class=\"sk-text-repr-fallback\"><pre>LogisticRegression(C=2, max_iter=1000)</pre><b>In a Jupyter environment, please rerun this cell to show the HTML representation or trust the notebook. <br />On GitHub, the HTML representation is unable to render, please try loading this page with nbviewer.org.</b></div><div class=\"sk-container\" hidden><div class=\"sk-item\"><div class=\"sk-estimator fitted sk-toggleable\"><input class=\"sk-toggleable__control sk-hidden--visually\" id=\"sk-estimator-id-1\" type=\"checkbox\" checked><label for=\"sk-estimator-id-1\" class=\"sk-toggleable__label fitted sk-toggleable__label-arrow\"><div><div>LogisticRegression</div></div><div><a class=\"sk-estimator-doc-link fitted\" rel=\"noreferrer\" target=\"_blank\" href=\"https://scikit-learn.org/1.6/modules/generated/sklearn.linear_model.LogisticRegression.html\">?<span>Documentation for LogisticRegression</span></a><span class=\"sk-estimator-doc-link fitted\">i<span>Fitted</span></span></div></label><div class=\"sk-toggleable__content fitted\"><pre>LogisticRegression(C=2, max_iter=1000)</pre></div> </div></div></div></div>"
            ]
          },
          "metadata": {},
          "execution_count": 68
        }
      ]
    },
    {
      "cell_type": "code",
      "source": [
        "y_pred = model.predict(X_test)\n",
        "acc = accuracy_score(y_test, y_pred)\n",
        "\n",
        "print(f\"Accuracy: {acc*100:.2f}%\")\n"
      ],
      "metadata": {
        "colab": {
          "base_uri": "https://localhost:8080/"
        },
        "id": "fBkKhq_lxfb-",
        "outputId": "a7fb9e1b-e17c-48e3-8f1f-4a08571e6a9f"
      },
      "execution_count": 69,
      "outputs": [
        {
          "output_type": "stream",
          "name": "stdout",
          "text": [
            "Accuracy: 71.33%\n"
          ]
        }
      ]
    },
    {
      "cell_type": "code",
      "source": [
        "y_test_int = y_test.astype(int)\n",
        "y_pred_int = y_pred.astype(int)\n",
        "\n",
        "cm = confusion_matrix(y_test_int, y_pred_int)\n",
        "print(\"Accuracy: \", accuracy_score(y_test_int, y_pred_int))\n",
        "print(\"Precision: \", precision_score(y_test_int, y_pred_int, average='weighted'))\n",
        "print(\"Recall: \", recall_score(y_test_int, y_pred_int, average='weighted'))\n",
        "print(\"F1 Score: \", f1_score(y_test_int, y_pred_int, average='weighted'))\n",
        "print(\"\\nClassification Report:\\n\", classification_report(y_test_int, y_pred_int))"
      ],
      "metadata": {
        "colab": {
          "base_uri": "https://localhost:8080/"
        },
        "id": "MLoZD2Nwx1tc",
        "outputId": "a53d961f-af44-422a-af86-108873f2ba0a"
      },
      "execution_count": 70,
      "outputs": [
        {
          "output_type": "stream",
          "name": "stdout",
          "text": [
            "Accuracy:  0.7132637277648879\n",
            "Precision:  0.7149680701569499\n",
            "Recall:  0.7132637277648879\n",
            "F1 Score:  0.7058067733910146\n",
            "\n",
            "Classification Report:\n",
            "               precision    recall  f1-score   support\n",
            "\n",
            "           0       0.69      0.33      0.45       817\n",
            "           1       0.69      0.84      0.76      4311\n",
            "           2       0.74      0.67      0.70      5216\n",
            "\n",
            "    accuracy                           0.71     10344\n",
            "   macro avg       0.71      0.61      0.64     10344\n",
            "weighted avg       0.71      0.71      0.71     10344\n",
            "\n"
          ]
        }
      ]
    },
    {
      "cell_type": "code",
      "source": [
        "# Logistic Regression\n",
        "log_reg = LogisticRegression(max_iter=1000, random_state=42)\n",
        "log_reg.fit(X_train, y_train)\n",
        "y_pred_log = log_reg.predict(X_test)\n",
        "acc_log = accuracy_score(y_test, y_pred_log)\n"
      ],
      "metadata": {
        "id": "7kDCtthnx6p-"
      },
      "execution_count": 71,
      "outputs": []
    },
    {
      "cell_type": "code",
      "source": [
        "# Random Forest\n",
        "rf = RandomForestClassifier(n_estimators=100, random_state=42)\n",
        "rf.fit(X_train, y_train)\n",
        "y_pred_rf = rf.predict(X_test)\n",
        "acc_rf = accuracy_score(y_test, y_pred_rf)\n"
      ],
      "metadata": {
        "id": "XTm9X5lpx-2r"
      },
      "execution_count": 72,
      "outputs": []
    },
    {
      "cell_type": "code",
      "source": [
        "# XGBoost\n",
        "xgb = XGBClassifier(use_label_encoder=False, eval_metric='mlogloss', random_state=42)\n",
        "xgb.fit(X_train, y_train)\n",
        "y_pred_xgb = xgb.predict(X_test)\n",
        "acc_xgb = accuracy_score(y_test, y_pred_xgb)\n"
      ],
      "metadata": {
        "colab": {
          "base_uri": "https://localhost:8080/"
        },
        "id": "-nWyi88ByEcH",
        "outputId": "33d9355e-a11e-4cd6-92e8-fef36bee4005"
      },
      "execution_count": 73,
      "outputs": [
        {
          "output_type": "stream",
          "name": "stderr",
          "text": [
            "/usr/local/lib/python3.11/dist-packages/xgboost/training.py:183: UserWarning: [07:07:44] WARNING: /workspace/src/learner.cc:738: \n",
            "Parameters: { \"use_label_encoder\" } are not used.\n",
            "\n",
            "  bst.update(dtrain, iteration=i, fobj=obj)\n"
          ]
        }
      ]
    },
    {
      "cell_type": "code",
      "source": [
        "print(f\"Logistic Regression Accuracy: {acc_log:.4f}\")\n",
        "print(f\"Random Forest Accuracy: {acc_rf:.4f}\")\n",
        "print(f\"XGBoost Accuracy: {acc_xgb:.4f}\")\n"
      ],
      "metadata": {
        "colab": {
          "base_uri": "https://localhost:8080/"
        },
        "id": "giRpp-f0yLq3",
        "outputId": "19b0e80b-dac4-438d-ec88-61e626e3dffd"
      },
      "execution_count": 74,
      "outputs": [
        {
          "output_type": "stream",
          "name": "stdout",
          "text": [
            "Logistic Regression Accuracy: 0.7129\n",
            "Random Forest Accuracy: 0.9450\n",
            "XGBoost Accuracy: 0.8908\n"
          ]
        }
      ]
    },
    {
      "cell_type": "code",
      "source": [
        "num_classes = len(np.unique(y_train))\n",
        "y_train_cat = to_categorical(y_train, num_classes)\n",
        "y_test_cat = to_categorical(y_test, num_classes)\n"
      ],
      "metadata": {
        "id": "ZGbd7iAeyP9f"
      },
      "execution_count": 75,
      "outputs": []
    },
    {
      "cell_type": "code",
      "source": [
        "model = Sequential()\n",
        "model.add(Dense(256, activation='relu', input_shape=(X_train.shape[1],)))\n",
        "model.add(Dropout(0.3))\n",
        "model.add(Dense(128, activation='relu'))\n",
        "model.add(Dense(num_classes, activation='softmax'))\n",
        "\n",
        "model.compile(optimizer='adam', loss='categorical_crossentropy', metrics=['accuracy'])"
      ],
      "metadata": {
        "colab": {
          "base_uri": "https://localhost:8080/"
        },
        "id": "IRknkj6dyUKf",
        "outputId": "7c032a8e-7cc8-47df-d8fa-1ea577f2c860"
      },
      "execution_count": 76,
      "outputs": [
        {
          "output_type": "stream",
          "name": "stderr",
          "text": [
            "/usr/local/lib/python3.11/dist-packages/keras/src/layers/core/dense.py:93: UserWarning: Do not pass an `input_shape`/`input_dim` argument to a layer. When using Sequential models, prefer using an `Input(shape)` object as the first layer in the model instead.\n",
            "  super().__init__(activity_regularizer=activity_regularizer, **kwargs)\n"
          ]
        }
      ]
    },
    {
      "cell_type": "code",
      "source": [
        "from tensorflow.keras.layers import Dropout\n",
        "model.add(Dropout(0.3))\n"
      ],
      "metadata": {
        "id": "rZp__HviyYjZ"
      },
      "execution_count": 77,
      "outputs": []
    },
    {
      "cell_type": "code",
      "source": [
        "from tensorflow.keras.optimizers import Adam\n",
        "optimizer = Adam(learning_rate=0.0005)\n",
        "model.compile(optimizer=optimizer, loss='binary_crossentropy', metrics=['accuracy'])\n"
      ],
      "metadata": {
        "id": "0Wb4Bf4hydEn"
      },
      "execution_count": 78,
      "outputs": []
    },
    {
      "cell_type": "code",
      "source": [
        "model = Sequential()"
      ],
      "metadata": {
        "id": "fWcu_2H0yhZa"
      },
      "execution_count": 80,
      "outputs": []
    },
    {
      "cell_type": "code",
      "source": [
        "model.add(Dense(512, activation='relu', input_shape=(X_train.shape[1],)))\n",
        "model.add(BatchNormalization())\n",
        "model.add(Dropout(0.4))\n",
        "\n",
        "model.add(Dense(256, activation='relu'))\n",
        "model.add(BatchNormalization())\n",
        "model.add(Dropout(0.3))\n",
        "\n",
        "model.add(Dense(128, activation='relu'))\n",
        "model.add(BatchNormalization())\n",
        "model.add(Dropout(0.2))\n",
        "\n",
        "model.add(Dense(num_classes, activation='softmax'))\n"
      ],
      "metadata": {
        "colab": {
          "base_uri": "https://localhost:8080/"
        },
        "id": "fb7vn1nfymBU",
        "outputId": "05211936-9f2a-4da4-f9f5-64dacb6358be"
      },
      "execution_count": 87,
      "outputs": [
        {
          "output_type": "stream",
          "name": "stderr",
          "text": [
            "/usr/local/lib/python3.11/dist-packages/keras/src/layers/core/dense.py:93: UserWarning: Do not pass an `input_shape`/`input_dim` argument to a layer. When using Sequential models, prefer using an `Input(shape)` object as the first layer in the model instead.\n",
            "  super().__init__(activity_regularizer=activity_regularizer, **kwargs)\n"
          ]
        }
      ]
    },
    {
      "cell_type": "code",
      "source": [
        "from tensorflow.keras.callbacks import EarlyStopping\n",
        "early_stop = EarlyStopping(monitor='val_loss', patience=5, restore_best_weights=True)"
      ],
      "metadata": {
        "id": "arPM_P62yz98"
      },
      "execution_count": 88,
      "outputs": []
    },
    {
      "cell_type": "code",
      "source": [
        "model.compile(\n",
        "    optimizer=Adam(learning_rate=0.001),\n",
        "    loss='categorical_crossentropy',\n",
        "    metrics=['accuracy']\n",
        ")\n",
        "early_stop = EarlyStopping(monitor='val_loss', patience=5, restore_best_weights=True)\n",
        "\n"
      ],
      "metadata": {
        "id": "78rFcqvGy82o"
      },
      "execution_count": 89,
      "outputs": []
    },
    {
      "cell_type": "code",
      "source": [
        "from tensorflow.keras.preprocessing.image import ImageDataGenerator\n",
        "\n",
        "datagen = ImageDataGenerator(\n",
        "    rotation_range=20,\n",
        "    width_shift_range=0.1,\n",
        "    height_shift_range=0.1,\n",
        "    shear_range=0.1,\n",
        "    zoom_range=0.1,\n",
        "    horizontal_flip=True,\n",
        "    fill_mode='nearest'\n",
        ")\n"
      ],
      "metadata": {
        "id": "47YkD6vIzA1Y"
      },
      "execution_count": 90,
      "outputs": []
    },
    {
      "cell_type": "code",
      "source": [
        "history = model.fit(\n",
        "    X_train, y_train_cat,\n",
        "    epochs=200,\n",
        "    batch_size=64,\n",
        "    validation_split=0.2,\n",
        "    callbacks=[early_stop],\n",
        "    verbose=1\n",
        ")\n"
      ],
      "metadata": {
        "colab": {
          "base_uri": "https://localhost:8080/"
        },
        "id": "9FINcaIAzGfh",
        "outputId": "b2562b89-985f-4af4-e203-83dd69bf878f"
      },
      "execution_count": 94,
      "outputs": [
        {
          "output_type": "stream",
          "name": "stdout",
          "text": [
            "Epoch 1/200\n",
            "\u001b[1m518/518\u001b[0m \u001b[32m━━━━━━━━━━━━━━━━━━━━\u001b[0m\u001b[37m\u001b[0m \u001b[1m39s\u001b[0m 76ms/step - accuracy: 0.7743 - loss: 0.5012 - val_accuracy: 0.7587 - val_loss: 0.5321\n",
            "Epoch 2/200\n",
            "\u001b[1m518/518\u001b[0m \u001b[32m━━━━━━━━━━━━━━━━━━━━\u001b[0m\u001b[37m\u001b[0m \u001b[1m17s\u001b[0m 30ms/step - accuracy: 0.7770 - loss: 0.5012 - val_accuracy: 0.7660 - val_loss: 0.5120\n",
            "Epoch 3/200\n",
            "\u001b[1m518/518\u001b[0m \u001b[32m━━━━━━━━━━━━━━━━━━━━\u001b[0m\u001b[37m\u001b[0m \u001b[1m16s\u001b[0m 31ms/step - accuracy: 0.7774 - loss: 0.4943 - val_accuracy: 0.7797 - val_loss: 0.4929\n",
            "Epoch 4/200\n",
            "\u001b[1m518/518\u001b[0m \u001b[32m━━━━━━━━━━━━━━━━━━━━\u001b[0m\u001b[37m\u001b[0m \u001b[1m19s\u001b[0m 28ms/step - accuracy: 0.7802 - loss: 0.4892 - val_accuracy: 0.7791 - val_loss: 0.4859\n",
            "Epoch 5/200\n",
            "\u001b[1m518/518\u001b[0m \u001b[32m━━━━━━━━━━━━━━━━━━━━\u001b[0m\u001b[37m\u001b[0m \u001b[1m14s\u001b[0m 26ms/step - accuracy: 0.7791 - loss: 0.4835 - val_accuracy: 0.7549 - val_loss: 0.5348\n",
            "Epoch 6/200\n",
            "\u001b[1m518/518\u001b[0m \u001b[32m━━━━━━━━━━━━━━━━━━━━\u001b[0m\u001b[37m\u001b[0m \u001b[1m16s\u001b[0m 31ms/step - accuracy: 0.7817 - loss: 0.4861 - val_accuracy: 0.7861 - val_loss: 0.4700\n",
            "Epoch 7/200\n",
            "\u001b[1m518/518\u001b[0m \u001b[32m━━━━━━━━━━━━━━━━━━━━\u001b[0m\u001b[37m\u001b[0m \u001b[1m15s\u001b[0m 28ms/step - accuracy: 0.7849 - loss: 0.4752 - val_accuracy: 0.7836 - val_loss: 0.4774\n",
            "Epoch 8/200\n",
            "\u001b[1m518/518\u001b[0m \u001b[32m━━━━━━━━━━━━━━━━━━━━\u001b[0m\u001b[37m\u001b[0m \u001b[1m20s\u001b[0m 27ms/step - accuracy: 0.7872 - loss: 0.4655 - val_accuracy: 0.7779 - val_loss: 0.4862\n",
            "Epoch 9/200\n",
            "\u001b[1m518/518\u001b[0m \u001b[32m━━━━━━━━━━━━━━━━━━━━\u001b[0m\u001b[37m\u001b[0m \u001b[1m14s\u001b[0m 27ms/step - accuracy: 0.7912 - loss: 0.4587 - val_accuracy: 0.7865 - val_loss: 0.4788\n",
            "Epoch 10/200\n",
            "\u001b[1m518/518\u001b[0m \u001b[32m━━━━━━━━━━━━━━━━━━━━\u001b[0m\u001b[37m\u001b[0m \u001b[1m17s\u001b[0m 32ms/step - accuracy: 0.7960 - loss: 0.4506 - val_accuracy: 0.7984 - val_loss: 0.4582\n",
            "Epoch 11/200\n",
            "\u001b[1m518/518\u001b[0m \u001b[32m━━━━━━━━━━━━━━━━━━━━\u001b[0m\u001b[37m\u001b[0m \u001b[1m17s\u001b[0m 26ms/step - accuracy: 0.7967 - loss: 0.4458 - val_accuracy: 0.7824 - val_loss: 0.4867\n",
            "Epoch 12/200\n",
            "\u001b[1m518/518\u001b[0m \u001b[32m━━━━━━━━━━━━━━━━━━━━\u001b[0m\u001b[37m\u001b[0m \u001b[1m16s\u001b[0m 30ms/step - accuracy: 0.8013 - loss: 0.4338 - val_accuracy: 0.7779 - val_loss: 0.4878\n",
            "Epoch 13/200\n",
            "\u001b[1m518/518\u001b[0m \u001b[32m━━━━━━━━━━━━━━━━━━━━\u001b[0m\u001b[37m\u001b[0m \u001b[1m14s\u001b[0m 28ms/step - accuracy: 0.8013 - loss: 0.4283 - val_accuracy: 0.7822 - val_loss: 0.4734\n",
            "Epoch 14/200\n",
            "\u001b[1m518/518\u001b[0m \u001b[32m━━━━━━━━━━━━━━━━━━━━\u001b[0m\u001b[37m\u001b[0m \u001b[1m17s\u001b[0m 32ms/step - accuracy: 0.8037 - loss: 0.4253 - val_accuracy: 0.8054 - val_loss: 0.4408\n",
            "Epoch 15/200\n",
            "\u001b[1m518/518\u001b[0m \u001b[32m━━━━━━━━━━━━━━━━━━━━\u001b[0m\u001b[37m\u001b[0m \u001b[1m14s\u001b[0m 28ms/step - accuracy: 0.8138 - loss: 0.4125 - val_accuracy: 0.8042 - val_loss: 0.4288\n",
            "Epoch 16/200\n",
            "\u001b[1m518/518\u001b[0m \u001b[32m━━━━━━━━━━━━━━━━━━━━\u001b[0m\u001b[37m\u001b[0m \u001b[1m25s\u001b[0m 37ms/step - accuracy: 0.8131 - loss: 0.4049 - val_accuracy: 0.8080 - val_loss: 0.4326\n",
            "Epoch 17/200\n",
            "\u001b[1m518/518\u001b[0m \u001b[32m━━━━━━━━━━━━━━━━━━━━\u001b[0m\u001b[37m\u001b[0m \u001b[1m14s\u001b[0m 28ms/step - accuracy: 0.8186 - loss: 0.3986 - val_accuracy: 0.8006 - val_loss: 0.4523\n",
            "Epoch 18/200\n",
            "\u001b[1m518/518\u001b[0m \u001b[32m━━━━━━━━━━━━━━━━━━━━\u001b[0m\u001b[37m\u001b[0m \u001b[1m21s\u001b[0m 29ms/step - accuracy: 0.8169 - loss: 0.3983 - val_accuracy: 0.7813 - val_loss: 0.4597\n",
            "Epoch 19/200\n",
            "\u001b[1m518/518\u001b[0m \u001b[32m━━━━━━━━━━━━━━━━━━━━\u001b[0m\u001b[37m\u001b[0m \u001b[1m21s\u001b[0m 30ms/step - accuracy: 0.8212 - loss: 0.3906 - val_accuracy: 0.8162 - val_loss: 0.4089\n",
            "Epoch 20/200\n",
            "\u001b[1m518/518\u001b[0m \u001b[32m━━━━━━━━━━━━━━━━━━━━\u001b[0m\u001b[37m\u001b[0m \u001b[1m19s\u001b[0m 28ms/step - accuracy: 0.8247 - loss: 0.3862 - val_accuracy: 0.8195 - val_loss: 0.4133\n",
            "Epoch 21/200\n",
            "\u001b[1m518/518\u001b[0m \u001b[32m━━━━━━━━━━━━━━━━━━━━\u001b[0m\u001b[37m\u001b[0m \u001b[1m20s\u001b[0m 27ms/step - accuracy: 0.8282 - loss: 0.3734 - val_accuracy: 0.8172 - val_loss: 0.4094\n",
            "Epoch 22/200\n",
            "\u001b[1m518/518\u001b[0m \u001b[32m━━━━━━━━━━━━━━━━━━━━\u001b[0m\u001b[37m\u001b[0m \u001b[1m20s\u001b[0m 26ms/step - accuracy: 0.8293 - loss: 0.3737 - val_accuracy: 0.8247 - val_loss: 0.3958\n",
            "Epoch 23/200\n",
            "\u001b[1m518/518\u001b[0m \u001b[32m━━━━━━━━━━━━━━━━━━━━\u001b[0m\u001b[37m\u001b[0m \u001b[1m21s\u001b[0m 28ms/step - accuracy: 0.8296 - loss: 0.3667 - val_accuracy: 0.8209 - val_loss: 0.3978\n",
            "Epoch 24/200\n",
            "\u001b[1m518/518\u001b[0m \u001b[32m━━━━━━━━━━━━━━━━━━━━\u001b[0m\u001b[37m\u001b[0m \u001b[1m14s\u001b[0m 26ms/step - accuracy: 0.8370 - loss: 0.3555 - val_accuracy: 0.8265 - val_loss: 0.3876\n",
            "Epoch 25/200\n",
            "\u001b[1m518/518\u001b[0m \u001b[32m━━━━━━━━━━━━━━━━━━━━\u001b[0m\u001b[37m\u001b[0m \u001b[1m22s\u001b[0m 29ms/step - accuracy: 0.8395 - loss: 0.3495 - val_accuracy: 0.8267 - val_loss: 0.4137\n",
            "Epoch 26/200\n",
            "\u001b[1m518/518\u001b[0m \u001b[32m━━━━━━━━━━━━━━━━━━━━\u001b[0m\u001b[37m\u001b[0m \u001b[1m15s\u001b[0m 29ms/step - accuracy: 0.8453 - loss: 0.3359 - val_accuracy: 0.8305 - val_loss: 0.3823\n",
            "Epoch 27/200\n",
            "\u001b[1m518/518\u001b[0m \u001b[32m━━━━━━━━━━━━━━━━━━━━\u001b[0m\u001b[37m\u001b[0m \u001b[1m19s\u001b[0m 26ms/step - accuracy: 0.8433 - loss: 0.3410 - val_accuracy: 0.8336 - val_loss: 0.3824\n",
            "Epoch 28/200\n",
            "\u001b[1m518/518\u001b[0m \u001b[32m━━━━━━━━━━━━━━━━━━━━\u001b[0m\u001b[37m\u001b[0m \u001b[1m22s\u001b[0m 29ms/step - accuracy: 0.8493 - loss: 0.3215 - val_accuracy: 0.8257 - val_loss: 0.3911\n",
            "Epoch 29/200\n",
            "\u001b[1m518/518\u001b[0m \u001b[32m━━━━━━━━━━━━━━━━━━━━\u001b[0m\u001b[37m\u001b[0m \u001b[1m16s\u001b[0m 31ms/step - accuracy: 0.8522 - loss: 0.3242 - val_accuracy: 0.8421 - val_loss: 0.3692\n",
            "Epoch 30/200\n",
            "\u001b[1m518/518\u001b[0m \u001b[32m━━━━━━━━━━━━━━━━━━━━\u001b[0m\u001b[37m\u001b[0m \u001b[1m15s\u001b[0m 29ms/step - accuracy: 0.8535 - loss: 0.3185 - val_accuracy: 0.8346 - val_loss: 0.3880\n",
            "Epoch 31/200\n",
            "\u001b[1m518/518\u001b[0m \u001b[32m━━━━━━━━━━━━━━━━━━━━\u001b[0m\u001b[37m\u001b[0m \u001b[1m21s\u001b[0m 30ms/step - accuracy: 0.8516 - loss: 0.3200 - val_accuracy: 0.8381 - val_loss: 0.3771\n",
            "Epoch 32/200\n",
            "\u001b[1m518/518\u001b[0m \u001b[32m━━━━━━━━━━━━━━━━━━━━\u001b[0m\u001b[37m\u001b[0m \u001b[1m19s\u001b[0m 36ms/step - accuracy: 0.8578 - loss: 0.3067 - val_accuracy: 0.8465 - val_loss: 0.3573\n",
            "Epoch 33/200\n",
            "\u001b[1m518/518\u001b[0m \u001b[32m━━━━━━━━━━━━━━━━━━━━\u001b[0m\u001b[37m\u001b[0m \u001b[1m14s\u001b[0m 28ms/step - accuracy: 0.8651 - loss: 0.2973 - val_accuracy: 0.8453 - val_loss: 0.3576\n",
            "Epoch 34/200\n",
            "\u001b[1m518/518\u001b[0m \u001b[32m━━━━━━━━━━━━━━━━━━━━\u001b[0m\u001b[37m\u001b[0m \u001b[1m20s\u001b[0m 26ms/step - accuracy: 0.8634 - loss: 0.3007 - val_accuracy: 0.8474 - val_loss: 0.3548\n",
            "Epoch 35/200\n",
            "\u001b[1m518/518\u001b[0m \u001b[32m━━━━━━━━━━━━━━━━━━━━\u001b[0m\u001b[37m\u001b[0m \u001b[1m14s\u001b[0m 28ms/step - accuracy: 0.8663 - loss: 0.2913 - val_accuracy: 0.8422 - val_loss: 0.3708\n",
            "Epoch 36/200\n",
            "\u001b[1m518/518\u001b[0m \u001b[32m━━━━━━━━━━━━━━━━━━━━\u001b[0m\u001b[37m\u001b[0m \u001b[1m30s\u001b[0m 46ms/step - accuracy: 0.8705 - loss: 0.2852 - val_accuracy: 0.8447 - val_loss: 0.3644\n",
            "Epoch 37/200\n",
            "\u001b[1m518/518\u001b[0m \u001b[32m━━━━━━━━━━━━━━━━━━━━\u001b[0m\u001b[37m\u001b[0m \u001b[1m32s\u001b[0m 28ms/step - accuracy: 0.8724 - loss: 0.2846 - val_accuracy: 0.8523 - val_loss: 0.3564\n",
            "Epoch 38/200\n",
            "\u001b[1m518/518\u001b[0m \u001b[32m━━━━━━━━━━━━━━━━━━━━\u001b[0m\u001b[37m\u001b[0m \u001b[1m21s\u001b[0m 30ms/step - accuracy: 0.8790 - loss: 0.2743 - val_accuracy: 0.8442 - val_loss: 0.3722\n",
            "Epoch 39/200\n",
            "\u001b[1m518/518\u001b[0m \u001b[32m━━━━━━━━━━━━━━━━━━━━\u001b[0m\u001b[37m\u001b[0m \u001b[1m20s\u001b[0m 28ms/step - accuracy: 0.8731 - loss: 0.2837 - val_accuracy: 0.8495 - val_loss: 0.3588\n"
          ]
        }
      ]
    },
    {
      "cell_type": "code",
      "source": [
        "loss, acc_nn = model.evaluate(X_test, y_test_cat, verbose=0)\n",
        "print(f\"Neural Network Accuracy: {acc_nn:.4f}\")\n",
        "\n",
        "accuracies = {\n",
        "    \"Logistic Regression\": acc_log,\n",
        "    \"Random Forest\": acc_rf,\n",
        "    \"XGBoost\": acc_xgb,\n",
        "    \"Neural Network\": acc_nn\n",
        "}\n"
      ],
      "metadata": {
        "colab": {
          "base_uri": "https://localhost:8080/"
        },
        "id": "SDSy2kE_29ec",
        "outputId": "35d7e341-8a19-4cc6-ff8a-ca0b6b83460f"
      },
      "execution_count": 96,
      "outputs": [
        {
          "output_type": "stream",
          "name": "stdout",
          "text": [
            "Neural Network Accuracy: 0.8687\n"
          ]
        }
      ]
    },
    {
      "cell_type": "code",
      "source": [
        "best_model_name = max(accuracies, key=accuracies.get)\n",
        "best_accuracy = accuracies[best_model_name]\n",
        "\n",
        "print(f\"\\nBest model is: {best_model_name} with accuracy: {best_accuracy:.4f}\")"
      ],
      "metadata": {
        "colab": {
          "base_uri": "https://localhost:8080/"
        },
        "id": "G-CYYVXE3HBO",
        "outputId": "b78f5241-13b6-4022-93ae-7cf0621586d9"
      },
      "execution_count": 97,
      "outputs": [
        {
          "output_type": "stream",
          "name": "stdout",
          "text": [
            "\n",
            "Best model is: Random Forest with accuracy: 0.9450\n"
          ]
        }
      ]
    },
    {
      "cell_type": "code",
      "source": [
        "import pickle\n",
        "import pandas as pd\n",
        "\n",
        "# Save best ML model (Random Forest)\n",
        "with open(\"best_model.pkl\", \"wb\") as f:\n",
        "    pickle.dump(rf, f)\n",
        "\n",
        "# Save Neural Network model\n",
        "with open(\"nn_model.pkl\", \"wb\") as f:\n",
        "    pickle.dump(model, f)\n",
        "\n",
        "# Create 2% sample of the data\n",
        "sample = df.sample(frac=0.02, random_state=42)\n",
        "sample.to_csv(\"zomato_sample.csv\", index=False)\n",
        "\n",
        "print(\"Files saved successfully\")\n",
        "print(\"Sample size:\", sample.shape)"
      ],
      "metadata": {
        "colab": {
          "base_uri": "https://localhost:8080/"
        },
        "id": "NBZtfsyRZdX-",
        "outputId": "ed2ea403-1363-420e-a02b-7831feb965bc"
      },
      "execution_count": 98,
      "outputs": [
        {
          "output_type": "stream",
          "name": "stdout",
          "text": [
            "Files saved successfully\n",
            "Sample size: (1034, 18)\n"
          ]
        }
      ]
    }
  ]
}